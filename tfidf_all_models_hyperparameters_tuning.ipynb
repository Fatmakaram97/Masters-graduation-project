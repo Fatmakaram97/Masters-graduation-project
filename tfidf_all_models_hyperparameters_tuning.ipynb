{
 "cells": [
  {
   "cell_type": "code",
   "execution_count": 1,
   "metadata": {
    "_cell_guid": "b1076dfc-b9ad-4769-8c92-a6c4dae69d19",
    "_uuid": "8f2839f25d086af736a60e9eeb907d3b93b6e0e5",
    "execution": {
     "iopub.execute_input": "2022-09-26T15:16:15.784727Z",
     "iopub.status.busy": "2022-09-26T15:16:15.783652Z",
     "iopub.status.idle": "2022-09-26T15:16:15.830725Z",
     "shell.execute_reply": "2022-09-26T15:16:15.829589Z",
     "shell.execute_reply.started": "2022-09-26T15:16:15.784584Z"
    },
    "id": "FIQ2m6DCcb_c"
   },
   "outputs": [],
   "source": [
    "# # This Python 3 environment comes with many helpful analytics libraries installed\n",
    "# # It is defined by the kaggle/python Docker image: https://github.com/kaggle/docker-python\n",
    "# # For example, here's several helpful packages to load\n",
    "\n",
    "# import numpy as np # linear algebra\n",
    "# import pandas as pd # data processing, CSV file I/O (e.g. pd.read_csv)\n",
    "\n",
    "# # Input data files are available in the read-only \"../input/\" directory\n",
    "# # For example, running this (by clicking run or pressing Shift+Enter) will list all files under the input directory\n",
    "\n",
    "# import os\n",
    "# for dirname, _, filenames in os.walk('/kaggle/input'):\n",
    "#     for filename in filenames:\n",
    "#         print(os.path.join(dirname, filename))\n",
    "\n",
    "# # You can write up to 20GB to the current directory (/kaggle/working/) that gets preserved as output when you create a version using \"Save & Run All\" \n",
    "# # You can also write temporary files to /kaggle/temp/, but they won't be saved outside of the current session"
   ]
  },
  {
   "cell_type": "code",
   "execution_count": 2,
   "metadata": {
    "colab": {
     "base_uri": "https://localhost:8080/"
    },
    "id": "v3cRvpeGcg7r",
    "outputId": "f2858d4e-f93e-4eae-8dd2-84522aa8dd92"
   },
   "outputs": [],
   "source": [
    "# import nltk\n",
    "# nltk.download('all')"
   ]
  },
  {
   "cell_type": "code",
   "execution_count": 3,
   "metadata": {},
   "outputs": [
    {
     "name": "stderr",
     "output_type": "stream",
     "text": [
      "C:\\Users\\fatma\\Anaconda3\\lib\\site-packages\\numpy\\_distributor_init.py:32: UserWarning: loaded more than 1 DLL from .libs:\n",
      "C:\\Users\\fatma\\Anaconda3\\lib\\site-packages\\numpy\\.libs\\libopenblas.PYQHXLVVQ7VESDPUVUADXEVJOBGHJPAY.gfortran-win_amd64.dll\n",
      "C:\\Users\\fatma\\Anaconda3\\lib\\site-packages\\numpy\\.libs\\libopenblas.XWYDX2IKJW2NMTWSFYNGFUWKQU3LYTCZ.gfortran-win_amd64.dll\n",
      "  stacklevel=1)\n"
     ]
    }
   ],
   "source": [
    "import pandas as pd\n",
    "import sklearn\n",
    "import numpy as np\n",
    "import re\n",
    "import nltk\n",
    "\n",
    "import matplotlib.pyplot as plt\n",
    "from matplotlib import style\n",
    "\n",
    "from sklearn.feature_extraction.text import CountVectorizer\n",
    "\n",
    "from sklearn.feature_extraction.text import ENGLISH_STOP_WORDS as esw\n",
    "from nltk.stem import WordNetLemmatizer, PorterStemmer\n",
    "from nltk.tokenize import word_tokenize\n",
    "from nltk import pos_tag\n",
    "import string\n",
    "\n",
    "# allow display of multiple outputs by running one code cell\n",
    "from IPython.core.interactiveshell import InteractiveShell\n",
    "InteractiveShell.ast_node_interactivity = \"all\"\n",
    "\n"
   ]
  },
  {
   "cell_type": "code",
   "execution_count": 4,
   "metadata": {
    "colab": {
     "base_uri": "https://localhost:8080/",
     "height": 424
    },
    "execution": {
     "iopub.execute_input": "2022-09-26T15:16:22.194601Z",
     "iopub.status.busy": "2022-09-26T15:16:22.194034Z",
     "iopub.status.idle": "2022-09-26T15:16:22.590814Z",
     "shell.execute_reply": "2022-09-26T15:16:22.589742Z",
     "shell.execute_reply.started": "2022-09-26T15:16:22.194554Z"
    },
    "id": "rGl3AI25cb_t",
    "outputId": "27853ef3-4f82-497d-b4a3-69fe1bacd9c4"
   },
   "outputs": [
    {
     "data": {
      "text/html": [
       "<div>\n",
       "<style scoped>\n",
       "    .dataframe tbody tr th:only-of-type {\n",
       "        vertical-align: middle;\n",
       "    }\n",
       "\n",
       "    .dataframe tbody tr th {\n",
       "        vertical-align: top;\n",
       "    }\n",
       "\n",
       "    .dataframe thead th {\n",
       "        text-align: right;\n",
       "    }\n",
       "</style>\n",
       "<table border=\"1\" class=\"dataframe\">\n",
       "  <thead>\n",
       "    <tr style=\"text-align: right;\">\n",
       "      <th></th>\n",
       "      <th>text</th>\n",
       "      <th>class</th>\n",
       "    </tr>\n",
       "    <tr>\n",
       "      <th>id</th>\n",
       "      <th></th>\n",
       "      <th></th>\n",
       "    </tr>\n",
       "  </thead>\n",
       "  <tbody>\n",
       "    <tr>\n",
       "      <th>1039</th>\n",
       "      <td>RT @maideeeni: I want to say a very big thank ...</td>\n",
       "      <td>anxiety</td>\n",
       "    </tr>\n",
       "    <tr>\n",
       "      <th>1682</th>\n",
       "      <td>@AisYalcaE @clyrhck Done! I just need 320! Tha...</td>\n",
       "      <td>lonely</td>\n",
       "    </tr>\n",
       "    <tr>\n",
       "      <th>5275</th>\n",
       "      <td>@SAD_istfied I'm gonna cry /pos</td>\n",
       "      <td>stress</td>\n",
       "    </tr>\n",
       "    <tr>\n",
       "      <th>6069</th>\n",
       "      <td>RT @JoshOfficial___: I need a consistent fuck ...</td>\n",
       "      <td>anxiety</td>\n",
       "    </tr>\n",
       "    <tr>\n",
       "      <th>6087</th>\n",
       "      <td>RT @mikegolicjr: glad we're finally talking ab...</td>\n",
       "      <td>normal</td>\n",
       "    </tr>\n",
       "    <tr>\n",
       "      <th>...</th>\n",
       "      <td>...</td>\n",
       "      <td>...</td>\n",
       "    </tr>\n",
       "    <tr>\n",
       "      <th>7813</th>\n",
       "      <td>Im nervous ash to fly though</td>\n",
       "      <td>anxiety</td>\n",
       "    </tr>\n",
       "    <tr>\n",
       "      <th>1305</th>\n",
       "      <td>64E7B6DA :Battle ID\\nI need backup!\\nLvl 120 G...</td>\n",
       "      <td>lonely</td>\n",
       "    </tr>\n",
       "    <tr>\n",
       "      <th>5192</th>\n",
       "      <td>SNOW MUCH FUN writing about our snow days in @...</td>\n",
       "      <td>anxiety</td>\n",
       "    </tr>\n",
       "    <tr>\n",
       "      <th>3607</th>\n",
       "      <td>Very time sensitive. I'm trans and my roommate...</td>\n",
       "      <td>anxiety</td>\n",
       "    </tr>\n",
       "    <tr>\n",
       "      <th>1797</th>\n",
       "      <td>Oatmeal cream pie cheesecake?! \\nI need that</td>\n",
       "      <td>lonely</td>\n",
       "    </tr>\n",
       "  </tbody>\n",
       "</table>\n",
       "<p>39766 rows × 2 columns</p>\n",
       "</div>"
      ],
      "text/plain": [
       "                                                   text    class\n",
       "id                                                              \n",
       "1039  RT @maideeeni: I want to say a very big thank ...  anxiety\n",
       "1682  @AisYalcaE @clyrhck Done! I just need 320! Tha...   lonely\n",
       "5275                    @SAD_istfied I'm gonna cry /pos   stress\n",
       "6069  RT @JoshOfficial___: I need a consistent fuck ...  anxiety\n",
       "6087  RT @mikegolicjr: glad we're finally talking ab...   normal\n",
       "...                                                 ...      ...\n",
       "7813                      Im nervous ash to fly though   anxiety\n",
       "1305  64E7B6DA :Battle ID\\nI need backup!\\nLvl 120 G...   lonely\n",
       "5192  SNOW MUCH FUN writing about our snow days in @...  anxiety\n",
       "3607  Very time sensitive. I'm trans and my roommate...  anxiety\n",
       "1797       Oatmeal cream pie cheesecake?! \\nI need that   lonely\n",
       "\n",
       "[39766 rows x 2 columns]"
      ]
     },
     "execution_count": 4,
     "metadata": {},
     "output_type": "execute_result"
    }
   ],
   "source": [
    "data=pd.read_csv('Data/final_data_en.csv', index_col='id')\n",
    "data=data[['text','class']]\n",
    "data"
   ]
  },
  {
   "cell_type": "code",
   "execution_count": 5,
   "metadata": {
    "colab": {
     "base_uri": "https://localhost:8080/",
     "height": 424
    },
    "execution": {
     "iopub.execute_input": "2022-09-26T15:16:27.955002Z",
     "iopub.status.busy": "2022-09-26T15:16:27.954567Z",
     "iopub.status.idle": "2022-09-26T15:16:34.275482Z",
     "shell.execute_reply": "2022-09-26T15:16:34.274171Z",
     "shell.execute_reply.started": "2022-09-26T15:16:27.954969Z"
    },
    "id": "OcpddkWacb_u",
    "outputId": "1759ed88-bfbc-46ac-b265-f259b0a79a8c"
   },
   "outputs": [
    {
     "data": {
      "text/html": [
       "<div>\n",
       "<style scoped>\n",
       "    .dataframe tbody tr th:only-of-type {\n",
       "        vertical-align: middle;\n",
       "    }\n",
       "\n",
       "    .dataframe tbody tr th {\n",
       "        vertical-align: top;\n",
       "    }\n",
       "\n",
       "    .dataframe thead th {\n",
       "        text-align: right;\n",
       "    }\n",
       "</style>\n",
       "<table border=\"1\" class=\"dataframe\">\n",
       "  <thead>\n",
       "    <tr style=\"text-align: right;\">\n",
       "      <th></th>\n",
       "      <th>text</th>\n",
       "      <th>class</th>\n",
       "    </tr>\n",
       "    <tr>\n",
       "      <th>id</th>\n",
       "      <th></th>\n",
       "      <th></th>\n",
       "    </tr>\n",
       "  </thead>\n",
       "  <tbody>\n",
       "    <tr>\n",
       "      <th>6102</th>\n",
       "      <td>RT @EvanCooney: when one of my mutuals makes a...</td>\n",
       "      <td>normal</td>\n",
       "    </tr>\n",
       "    <tr>\n",
       "      <th>652</th>\n",
       "      <td>RT @Nash_be_INNIT: Ok so I just need people to...</td>\n",
       "      <td>anxiety</td>\n",
       "    </tr>\n",
       "    <tr>\n",
       "      <th>3324</th>\n",
       "      <td>oml i have a huge headache i need help to clea...</td>\n",
       "      <td>anxiety</td>\n",
       "    </tr>\n",
       "    <tr>\n",
       "      <th>3845</th>\n",
       "      <td>Okay so Im v need to bring a #fashionblogger b...</td>\n",
       "      <td>anxiety</td>\n",
       "    </tr>\n",
       "    <tr>\n",
       "      <th>2960</th>\n",
       "      <td>RT @sanjeev_6120: @CyberBoo_ The India ban is ...</td>\n",
       "      <td>anxiety</td>\n",
       "    </tr>\n",
       "    <tr>\n",
       "      <th>...</th>\n",
       "      <td>...</td>\n",
       "      <td>...</td>\n",
       "    </tr>\n",
       "    <tr>\n",
       "      <th>5734</th>\n",
       "      <td>RT @nprpolitics: Former President Trump's spee...</td>\n",
       "      <td>normal</td>\n",
       "    </tr>\n",
       "    <tr>\n",
       "      <th>8442</th>\n",
       "      <td>i need me a wig like that https://t.co/rWejlel2jx</td>\n",
       "      <td>lonely</td>\n",
       "    </tr>\n",
       "    <tr>\n",
       "      <th>7940</th>\n",
       "      <td>@JennyENicholson I remember that episode. It m...</td>\n",
       "      <td>anxiety</td>\n",
       "    </tr>\n",
       "    <tr>\n",
       "      <th>600</th>\n",
       "      <td>RT @Babyb_cnfc: Sad Movie is coming 13 Feb \\n#...</td>\n",
       "      <td>stress</td>\n",
       "    </tr>\n",
       "    <tr>\n",
       "      <th>2923</th>\n",
       "      <td>Im sure they were more than willing to help ou...</td>\n",
       "      <td>anxiety</td>\n",
       "    </tr>\n",
       "  </tbody>\n",
       "</table>\n",
       "<p>39766 rows × 2 columns</p>\n",
       "</div>"
      ],
      "text/plain": [
       "                                                   text    class\n",
       "id                                                              \n",
       "6102  RT @EvanCooney: when one of my mutuals makes a...   normal\n",
       "652   RT @Nash_be_INNIT: Ok so I just need people to...  anxiety\n",
       "3324  oml i have a huge headache i need help to clea...  anxiety\n",
       "3845  Okay so Im v need to bring a #fashionblogger b...  anxiety\n",
       "2960  RT @sanjeev_6120: @CyberBoo_ The India ban is ...  anxiety\n",
       "...                                                 ...      ...\n",
       "5734  RT @nprpolitics: Former President Trump's spee...   normal\n",
       "8442  i need me a wig like that https://t.co/rWejlel2jx   lonely\n",
       "7940  @JennyENicholson I remember that episode. It m...  anxiety\n",
       "600   RT @Babyb_cnfc: Sad Movie is coming 13 Feb \\n#...   stress\n",
       "2923  Im sure they were more than willing to help ou...  anxiety\n",
       "\n",
       "[39766 rows x 2 columns]"
      ]
     },
     "execution_count": 5,
     "metadata": {},
     "output_type": "execute_result"
    }
   ],
   "source": [
    "import numpy as np\n",
    "import tensorflow as tf\n",
    "# train=data.loc[ :33802]\n",
    "# test=data.loc[33803: ]\n",
    "data=data.sample(frac=1)\n",
    "\n",
    "\n",
    "data"
   ]
  },
  {
   "cell_type": "code",
   "execution_count": 6,
   "metadata": {
    "execution": {
     "iopub.execute_input": "2022-09-26T15:16:34.278395Z",
     "iopub.status.busy": "2022-09-26T15:16:34.277761Z",
     "iopub.status.idle": "2022-09-26T15:16:34.294993Z",
     "shell.execute_reply": "2022-09-26T15:16:34.293786Z",
     "shell.execute_reply.started": "2022-09-26T15:16:34.278356Z"
    },
    "id": "aqlBZvmhcb_v"
   },
   "outputs": [],
   "source": [
    "data.dropna(inplace=True)\n",
    "\n"
   ]
  },
  {
   "cell_type": "code",
   "execution_count": 7,
   "metadata": {
    "colab": {
     "base_uri": "https://localhost:8080/"
    },
    "execution": {
     "iopub.execute_input": "2022-09-26T15:16:35.132000Z",
     "iopub.status.busy": "2022-09-26T15:16:35.130690Z",
     "iopub.status.idle": "2022-09-26T15:16:35.147010Z",
     "shell.execute_reply": "2022-09-26T15:16:35.145662Z",
     "shell.execute_reply.started": "2022-09-26T15:16:35.131953Z"
    },
    "id": "N3lsVjfncb_w",
    "outputId": "7ea62528-be90-4d80-fe5b-3bdfcbc96b7d"
   },
   "outputs": [
    {
     "data": {
      "text/plain": [
       "text     0\n",
       "class    0\n",
       "dtype: int64"
      ]
     },
     "execution_count": 7,
     "metadata": {},
     "output_type": "execute_result"
    }
   ],
   "source": [
    "data.isnull().sum()"
   ]
  },
  {
   "cell_type": "code",
   "execution_count": 8,
   "metadata": {
    "colab": {
     "base_uri": "https://localhost:8080/",
     "height": 424
    },
    "execution": {
     "iopub.execute_input": "2022-09-26T15:16:41.252841Z",
     "iopub.status.busy": "2022-09-26T15:16:41.252240Z",
     "iopub.status.idle": "2022-09-26T15:16:41.270177Z",
     "shell.execute_reply": "2022-09-26T15:16:41.269259Z",
     "shell.execute_reply.started": "2022-09-26T15:16:41.252793Z"
    },
    "id": "8q4F0gPTcb_0",
    "outputId": "e758e44a-24e3-489a-d747-6b27eb6104e8"
   },
   "outputs": [
    {
     "data": {
      "text/html": [
       "<div>\n",
       "<style scoped>\n",
       "    .dataframe tbody tr th:only-of-type {\n",
       "        vertical-align: middle;\n",
       "    }\n",
       "\n",
       "    .dataframe tbody tr th {\n",
       "        vertical-align: top;\n",
       "    }\n",
       "\n",
       "    .dataframe thead th {\n",
       "        text-align: right;\n",
       "    }\n",
       "</style>\n",
       "<table border=\"1\" class=\"dataframe\">\n",
       "  <thead>\n",
       "    <tr style=\"text-align: right;\">\n",
       "      <th></th>\n",
       "      <th>text</th>\n",
       "      <th>class</th>\n",
       "    </tr>\n",
       "    <tr>\n",
       "      <th>id</th>\n",
       "      <th></th>\n",
       "      <th></th>\n",
       "    </tr>\n",
       "  </thead>\n",
       "  <tbody>\n",
       "    <tr>\n",
       "      <th>6102</th>\n",
       "      <td>RT @EvanCooney: when one of my mutuals makes a...</td>\n",
       "      <td>normal</td>\n",
       "    </tr>\n",
       "    <tr>\n",
       "      <th>652</th>\n",
       "      <td>RT @Nash_be_INNIT: Ok so I just need people to...</td>\n",
       "      <td>anxiety</td>\n",
       "    </tr>\n",
       "    <tr>\n",
       "      <th>3324</th>\n",
       "      <td>oml i have a huge headache i need help to clea...</td>\n",
       "      <td>anxiety</td>\n",
       "    </tr>\n",
       "    <tr>\n",
       "      <th>3845</th>\n",
       "      <td>Okay so Im v need to bring a #fashionblogger b...</td>\n",
       "      <td>anxiety</td>\n",
       "    </tr>\n",
       "    <tr>\n",
       "      <th>2960</th>\n",
       "      <td>RT @sanjeev_6120: @CyberBoo_ The India ban is ...</td>\n",
       "      <td>anxiety</td>\n",
       "    </tr>\n",
       "    <tr>\n",
       "      <th>...</th>\n",
       "      <td>...</td>\n",
       "      <td>...</td>\n",
       "    </tr>\n",
       "    <tr>\n",
       "      <th>5734</th>\n",
       "      <td>RT @nprpolitics: Former President Trump's spee...</td>\n",
       "      <td>normal</td>\n",
       "    </tr>\n",
       "    <tr>\n",
       "      <th>8442</th>\n",
       "      <td>i need me a wig like that https://t.co/rWejlel2jx</td>\n",
       "      <td>lonely</td>\n",
       "    </tr>\n",
       "    <tr>\n",
       "      <th>7940</th>\n",
       "      <td>@JennyENicholson I remember that episode. It m...</td>\n",
       "      <td>anxiety</td>\n",
       "    </tr>\n",
       "    <tr>\n",
       "      <th>600</th>\n",
       "      <td>RT @Babyb_cnfc: Sad Movie is coming 13 Feb \\n#...</td>\n",
       "      <td>stress</td>\n",
       "    </tr>\n",
       "    <tr>\n",
       "      <th>2923</th>\n",
       "      <td>Im sure they were more than willing to help ou...</td>\n",
       "      <td>anxiety</td>\n",
       "    </tr>\n",
       "  </tbody>\n",
       "</table>\n",
       "<p>39766 rows × 2 columns</p>\n",
       "</div>"
      ],
      "text/plain": [
       "                                                   text    class\n",
       "id                                                              \n",
       "6102  RT @EvanCooney: when one of my mutuals makes a...   normal\n",
       "652   RT @Nash_be_INNIT: Ok so I just need people to...  anxiety\n",
       "3324  oml i have a huge headache i need help to clea...  anxiety\n",
       "3845  Okay so Im v need to bring a #fashionblogger b...  anxiety\n",
       "2960  RT @sanjeev_6120: @CyberBoo_ The India ban is ...  anxiety\n",
       "...                                                 ...      ...\n",
       "5734  RT @nprpolitics: Former President Trump's spee...   normal\n",
       "8442  i need me a wig like that https://t.co/rWejlel2jx   lonely\n",
       "7940  @JennyENicholson I remember that episode. It m...  anxiety\n",
       "600   RT @Babyb_cnfc: Sad Movie is coming 13 Feb \\n#...   stress\n",
       "2923  Im sure they were more than willing to help ou...  anxiety\n",
       "\n",
       "[39766 rows x 2 columns]"
      ]
     },
     "execution_count": 8,
     "metadata": {},
     "output_type": "execute_result"
    }
   ],
   "source": [
    "data"
   ]
  },
  {
   "cell_type": "code",
   "execution_count": 9,
   "metadata": {
    "id": "s7hZv2ui2WxX"
   },
   "outputs": [],
   "source": [
    "cachedStopWords = list(esw)\n",
    "lemmatizer=WordNetLemmatizer()\n",
    "#ps = PorterStemmer()\n",
    "\n",
    "def lemmatize_article(sentence):\n",
    "    sentence = word_tokenize(sentence)\n",
    "    res = ''\n",
    "    for word, tag in pos_tag(sentence):\n",
    "        wntag = tag[0].lower()\n",
    "        wntag = wntag if wntag in ['a', 'r', 'n', 'v'] else None\n",
    "        word = lemmatizer.lemmatize(word, wntag) if wntag else word\n",
    "        res += word + ' '\n",
    "    return res\n",
    "\n",
    "\n",
    "def remove_stop_words(sentence):\n",
    "    return ' '.join([word for word in sentence.split() if word not in cachedStopWords])\n",
    "    \n",
    "def remove_short(sentence):\n",
    "    return ' '.join([word for word in sentence.split() if len(word) >= 3])\n",
    "    \n",
    "def remove_digits(sentence):\n",
    "    return ' '.join([i for i in sentence.split() if not i.isdigit()])\n",
    "    \n",
    "def preprocess(all_texts):\n",
    "    all_texts = list(map(lambda x: x.lower(), all_texts))\n",
    "    all_texts = list(map(lambda x: x.translate(str.maketrans('', '', string.punctuation)), all_texts))\n",
    "    all_texts = list(map(lambda x: lemmatize_article(x), all_texts))\n",
    "    all_texts = list(map(lambda x: x.strip(), all_texts))\n",
    "    all_texts = list(map(lambda x: remove_stop_words(x), all_texts))\n",
    "    all_texts = list(map(lambda x: remove_short(x), all_texts))\n",
    "    all_texts = list(map(lambda x: remove_digits(x), all_texts))\n",
    "    return all_texts"
   ]
  },
  {
   "cell_type": "code",
   "execution_count": 10,
   "metadata": {
    "colab": {
     "base_uri": "https://localhost:8080/",
     "height": 424
    },
    "id": "1znvyshW2dUC",
    "outputId": "15be7f59-558b-4641-8253-b2fdce558da5"
   },
   "outputs": [
    {
     "data": {
      "text/html": [
       "<div>\n",
       "<style scoped>\n",
       "    .dataframe tbody tr th:only-of-type {\n",
       "        vertical-align: middle;\n",
       "    }\n",
       "\n",
       "    .dataframe tbody tr th {\n",
       "        vertical-align: top;\n",
       "    }\n",
       "\n",
       "    .dataframe thead th {\n",
       "        text-align: right;\n",
       "    }\n",
       "</style>\n",
       "<table border=\"1\" class=\"dataframe\">\n",
       "  <thead>\n",
       "    <tr style=\"text-align: right;\">\n",
       "      <th></th>\n",
       "      <th>text</th>\n",
       "      <th>class</th>\n",
       "    </tr>\n",
       "    <tr>\n",
       "      <th>id</th>\n",
       "      <th></th>\n",
       "      <th></th>\n",
       "    </tr>\n",
       "  </thead>\n",
       "  <tbody>\n",
       "    <tr>\n",
       "      <th>6102</th>\n",
       "      <td>RT: when one of my mutuals makes a LOTR Thread</td>\n",
       "      <td>normal</td>\n",
       "    </tr>\n",
       "    <tr>\n",
       "      <th>652</th>\n",
       "      <td>RT: Ok so I just need people to rt this becaus...</td>\n",
       "      <td>anxiety</td>\n",
       "    </tr>\n",
       "    <tr>\n",
       "      <th>3324</th>\n",
       "      <td>oml i have a huge headache i need help to clea...</td>\n",
       "      <td>anxiety</td>\n",
       "    </tr>\n",
       "    <tr>\n",
       "      <th>3845</th>\n",
       "      <td>Okay so Im v need to bring a #fashionblogger b...</td>\n",
       "      <td>anxiety</td>\n",
       "    </tr>\n",
       "    <tr>\n",
       "      <th>2960</th>\n",
       "      <td>RT: The India ban is only getting more and mor...</td>\n",
       "      <td>anxiety</td>\n",
       "    </tr>\n",
       "    <tr>\n",
       "      <th>...</th>\n",
       "      <td>...</td>\n",
       "      <td>...</td>\n",
       "    </tr>\n",
       "    <tr>\n",
       "      <th>5734</th>\n",
       "      <td>RT: Former President Trump's speech on January...</td>\n",
       "      <td>normal</td>\n",
       "    </tr>\n",
       "    <tr>\n",
       "      <th>8442</th>\n",
       "      <td>i need me a wig like that</td>\n",
       "      <td>lonely</td>\n",
       "    </tr>\n",
       "    <tr>\n",
       "      <th>7940</th>\n",
       "      <td>I remember that episode. It made me feel so t...</td>\n",
       "      <td>anxiety</td>\n",
       "    </tr>\n",
       "    <tr>\n",
       "      <th>600</th>\n",
       "      <td>RT: Sad Movie is coming 13 Feb \\n#SadMovie13Feb</td>\n",
       "      <td>stress</td>\n",
       "    </tr>\n",
       "    <tr>\n",
       "      <th>2923</th>\n",
       "      <td>Im sure they were more than willing to help ou...</td>\n",
       "      <td>anxiety</td>\n",
       "    </tr>\n",
       "  </tbody>\n",
       "</table>\n",
       "<p>39766 rows × 2 columns</p>\n",
       "</div>"
      ],
      "text/plain": [
       "                                                   text    class\n",
       "id                                                              \n",
       "6102    RT: when one of my mutuals makes a LOTR Thread    normal\n",
       "652   RT: Ok so I just need people to rt this becaus...  anxiety\n",
       "3324  oml i have a huge headache i need help to clea...  anxiety\n",
       "3845  Okay so Im v need to bring a #fashionblogger b...  anxiety\n",
       "2960  RT: The India ban is only getting more and mor...  anxiety\n",
       "...                                                 ...      ...\n",
       "5734  RT: Former President Trump's speech on January...   normal\n",
       "8442                         i need me a wig like that    lonely\n",
       "7940   I remember that episode. It made me feel so t...  anxiety\n",
       "600    RT: Sad Movie is coming 13 Feb \\n#SadMovie13Feb    stress\n",
       "2923  Im sure they were more than willing to help ou...  anxiety\n",
       "\n",
       "[39766 rows x 2 columns]"
      ]
     },
     "execution_count": 10,
     "metadata": {},
     "output_type": "execute_result"
    }
   ],
   "source": [
    "data['text'] = data['text'].str.replace(r'\\s*@\\w+', '', regex = True)\n",
    "data['text'] = data['text'].str.replace(r'\\s*\\B@\\w+', '', regex = True)\n",
    "data['text'] = data['text'].str.replace(r'\\s*@\\S+', '', regex = True)\n",
    "data['text'] = data['text'].str.replace(r'\\s*@\\S+\\b', '', regex = True)\n",
    "data['text'] = data['text'].replace(r'http\\S+', '', regex=True).replace(r'www\\S+', '', regex=True)\n",
    "data\n"
   ]
  },
  {
   "cell_type": "code",
   "execution_count": 11,
   "metadata": {
    "colab": {
     "base_uri": "https://localhost:8080/",
     "height": 424
    },
    "id": "pnm4XGTW2_km",
    "outputId": "490775ef-2a4c-4619-e35f-783900ed3386"
   },
   "outputs": [
    {
     "data": {
      "text/html": [
       "<div>\n",
       "<style scoped>\n",
       "    .dataframe tbody tr th:only-of-type {\n",
       "        vertical-align: middle;\n",
       "    }\n",
       "\n",
       "    .dataframe tbody tr th {\n",
       "        vertical-align: top;\n",
       "    }\n",
       "\n",
       "    .dataframe thead th {\n",
       "        text-align: right;\n",
       "    }\n",
       "</style>\n",
       "<table border=\"1\" class=\"dataframe\">\n",
       "  <thead>\n",
       "    <tr style=\"text-align: right;\">\n",
       "      <th></th>\n",
       "      <th>text</th>\n",
       "      <th>class</th>\n",
       "    </tr>\n",
       "    <tr>\n",
       "      <th>id</th>\n",
       "      <th></th>\n",
       "      <th></th>\n",
       "    </tr>\n",
       "  </thead>\n",
       "  <tbody>\n",
       "    <tr>\n",
       "      <th>6102</th>\n",
       "      <td>mutuals make lotr thread</td>\n",
       "      <td>normal</td>\n",
       "    </tr>\n",
       "    <tr>\n",
       "      <th>652</th>\n",
       "      <td>just need people just shit need help actually ...</td>\n",
       "      <td>anxiety</td>\n",
       "    </tr>\n",
       "    <tr>\n",
       "      <th>3324</th>\n",
       "      <td>oml huge headache need help clean hamster verg...</td>\n",
       "      <td>anxiety</td>\n",
       "    </tr>\n",
       "    <tr>\n",
       "      <th>3845</th>\n",
       "      <td>okay need bring fashionblogger ive just post t...</td>\n",
       "      <td>anxiety</td>\n",
       "    </tr>\n",
       "    <tr>\n",
       "      <th>2960</th>\n",
       "      <td>india ban feel like lose battle really bad yall</td>\n",
       "      <td>anxiety</td>\n",
       "    </tr>\n",
       "    <tr>\n",
       "      <th>...</th>\n",
       "      <td>...</td>\n",
       "      <td>...</td>\n",
       "    </tr>\n",
       "    <tr>\n",
       "      <th>5734</th>\n",
       "      <td>president trump speech january just violent in...</td>\n",
       "      <td>normal</td>\n",
       "    </tr>\n",
       "    <tr>\n",
       "      <th>8442</th>\n",
       "      <td>need wig like</td>\n",
       "      <td>lonely</td>\n",
       "    </tr>\n",
       "    <tr>\n",
       "      <th>7940</th>\n",
       "      <td>remember episode make feel trapped isolate wri...</td>\n",
       "      <td>anxiety</td>\n",
       "    </tr>\n",
       "    <tr>\n",
       "      <th>600</th>\n",
       "      <td>sad movie come feb sadmovie13feb</td>\n",
       "      <td>stress</td>\n",
       "    </tr>\n",
       "    <tr>\n",
       "      <th>2923</th>\n",
       "      <td>sure willing help pretty girl say immediately ...</td>\n",
       "      <td>anxiety</td>\n",
       "    </tr>\n",
       "  </tbody>\n",
       "</table>\n",
       "<p>39766 rows × 2 columns</p>\n",
       "</div>"
      ],
      "text/plain": [
       "                                                   text    class\n",
       "id                                                              \n",
       "6102                           mutuals make lotr thread   normal\n",
       "652   just need people just shit need help actually ...  anxiety\n",
       "3324  oml huge headache need help clean hamster verg...  anxiety\n",
       "3845  okay need bring fashionblogger ive just post t...  anxiety\n",
       "2960    india ban feel like lose battle really bad yall  anxiety\n",
       "...                                                 ...      ...\n",
       "5734  president trump speech january just violent in...   normal\n",
       "8442                                      need wig like   lonely\n",
       "7940  remember episode make feel trapped isolate wri...  anxiety\n",
       "600                    sad movie come feb sadmovie13feb   stress\n",
       "2923  sure willing help pretty girl say immediately ...  anxiety\n",
       "\n",
       "[39766 rows x 2 columns]"
      ]
     },
     "execution_count": 11,
     "metadata": {},
     "output_type": "execute_result"
    }
   ],
   "source": [
    "data['text'] = preprocess(data['text'])\n",
    "data"
   ]
  },
  {
   "cell_type": "code",
   "execution_count": 12,
   "metadata": {
    "colab": {
     "base_uri": "https://localhost:8080/",
     "height": 206
    },
    "id": "x5cOlQBS3IrP",
    "outputId": "1c0c172a-233f-4fb3-a6ef-905235f9ba19"
   },
   "outputs": [
    {
     "data": {
      "text/html": [
       "<div>\n",
       "<style scoped>\n",
       "    .dataframe tbody tr th:only-of-type {\n",
       "        vertical-align: middle;\n",
       "    }\n",
       "\n",
       "    .dataframe tbody tr th {\n",
       "        vertical-align: top;\n",
       "    }\n",
       "\n",
       "    .dataframe thead th {\n",
       "        text-align: right;\n",
       "    }\n",
       "</style>\n",
       "<table border=\"1\" class=\"dataframe\">\n",
       "  <thead>\n",
       "    <tr style=\"text-align: right;\">\n",
       "      <th></th>\n",
       "      <th>text</th>\n",
       "      <th>class</th>\n",
       "    </tr>\n",
       "    <tr>\n",
       "      <th>id</th>\n",
       "      <th></th>\n",
       "      <th></th>\n",
       "    </tr>\n",
       "  </thead>\n",
       "  <tbody>\n",
       "    <tr>\n",
       "      <th>6102</th>\n",
       "      <td>mutuals make lotr thread</td>\n",
       "      <td>normal</td>\n",
       "    </tr>\n",
       "    <tr>\n",
       "      <th>652</th>\n",
       "      <td>just need people just shit need help actually ...</td>\n",
       "      <td>anxiety</td>\n",
       "    </tr>\n",
       "    <tr>\n",
       "      <th>3324</th>\n",
       "      <td>oml huge headache need help clean hamster verg...</td>\n",
       "      <td>anxiety</td>\n",
       "    </tr>\n",
       "    <tr>\n",
       "      <th>3845</th>\n",
       "      <td>okay need bring fashionblogger ive just post t...</td>\n",
       "      <td>anxiety</td>\n",
       "    </tr>\n",
       "    <tr>\n",
       "      <th>2960</th>\n",
       "      <td>india ban feel like lose battle really bad yall</td>\n",
       "      <td>anxiety</td>\n",
       "    </tr>\n",
       "  </tbody>\n",
       "</table>\n",
       "</div>"
      ],
      "text/plain": [
       "                                                   text    class\n",
       "id                                                              \n",
       "6102                           mutuals make lotr thread   normal\n",
       "652   just need people just shit need help actually ...  anxiety\n",
       "3324  oml huge headache need help clean hamster verg...  anxiety\n",
       "3845  okay need bring fashionblogger ive just post t...  anxiety\n",
       "2960    india ban feel like lose battle really bad yall  anxiety"
      ]
     },
     "execution_count": 12,
     "metadata": {},
     "output_type": "execute_result"
    }
   ],
   "source": [
    "data = pd.DataFrame(data)\n",
    "data.head()"
   ]
  },
  {
   "cell_type": "code",
   "execution_count": 13,
   "metadata": {
    "id": "hwDzrIiJ3QC-"
   },
   "outputs": [],
   "source": [
    "from sklearn.model_selection import train_test_split\n",
    "from sklearn.feature_extraction.text import TfidfVectorizer\n",
    "from sklearn.linear_model import LogisticRegression\n",
    "from sklearn.svm import LinearSVC\n",
    "from sklearn.ensemble import RandomForestClassifier\n",
    "from sklearn.neural_network import MLPClassifier\n",
    "from sklearn.pipeline import Pipeline\n",
    "from sklearn.model_selection import GridSearchCV, RandomizedSearchCV\n",
    "from xgboost import XGBClassifier"
   ]
  },
  {
   "cell_type": "code",
   "execution_count": 14,
   "metadata": {
    "id": "0FOUuYSI3dwl"
   },
   "outputs": [],
   "source": [
    "data = data[(data[\"text\"] != \"\") & (data[\"text\"] != \"null\")]\n"
   ]
  },
  {
   "cell_type": "code",
   "execution_count": 15,
   "metadata": {
    "colab": {
     "base_uri": "https://localhost:8080/"
    },
    "id": "pV7BET-x3rX0",
    "outputId": "34dae81f-33ec-4f27-ce5f-214a5430cb6f"
   },
   "outputs": [
    {
     "data": {
      "text/plain": [
       "(39555, 2)"
      ]
     },
     "execution_count": 15,
     "metadata": {},
     "output_type": "execute_result"
    }
   ],
   "source": [
    "data.shape"
   ]
  },
  {
   "cell_type": "code",
   "execution_count": 16,
   "metadata": {
    "colab": {
     "base_uri": "https://localhost:8080/"
    },
    "id": "v2nBLavU4OAZ",
    "outputId": "e279aa00-d7e2-47e4-e1cf-180df8d7e4c5"
   },
   "outputs": [
    {
     "data": {
      "text/plain": [
       "(39555,)"
      ]
     },
     "execution_count": 16,
     "metadata": {},
     "output_type": "execute_result"
    }
   ],
   "source": [
    "data['class'].shape"
   ]
  },
  {
   "cell_type": "code",
   "execution_count": 17,
   "metadata": {
    "colab": {
     "base_uri": "https://localhost:8080/"
    },
    "id": "D4ikLwSY_1DO",
    "outputId": "ea8a5e7a-6774-4729-f4bf-2292ea1ed088"
   },
   "outputs": [],
   "source": [
    "X = data['text'].values\n",
    "Y = data['class'].values\n"
   ]
  },
  {
   "cell_type": "code",
   "execution_count": 18,
   "metadata": {
    "id": "QY_PZKpRAZkm"
   },
   "outputs": [],
   "source": [
    "from sklearn.feature_extraction.text import TfidfVectorizer\n",
    "td = TfidfVectorizer(max_features = 4500)\n",
    "X = td.fit_transform(X).toarray()"
   ]
  },
  {
   "cell_type": "code",
   "execution_count": 19,
   "metadata": {
    "id": "MJrblTojAc75"
   },
   "outputs": [],
   "source": [
    "from sklearn.model_selection import train_test_split\n",
    "X_train, X_test, y_train, y_test = train_test_split(X, Y, test_size = 0.3,\n",
    "                                                    random_state = 0)"
   ]
  },
  {
   "cell_type": "code",
   "execution_count": 20,
   "metadata": {
    "colab": {
     "base_uri": "https://localhost:8080/"
    },
    "id": "A3oQKCAzAgCh",
    "outputId": "c2035afc-32d6-4f8b-b908-9134ff1a85aa",
    "scrolled": true
   },
   "outputs": [
    {
     "data": {
      "text/plain": [
       "MultinomialNB()"
      ]
     },
     "execution_count": 20,
     "metadata": {},
     "output_type": "execute_result"
    },
    {
     "name": "stdout",
     "output_type": "stream",
     "text": [
      "\n",
      " Accuracy:  0.6389989045251537\n",
      "\n",
      "Classification Report\n",
      "======================================================\n",
      "\n",
      "               precision    recall  f1-score   support\n",
      "\n",
      "     anxiety       0.59      0.70      0.64      3798\n",
      "      lonely       0.57      0.48      0.52      2550\n",
      "      normal       0.60      0.56      0.58      2950\n",
      "      stress       0.85      0.78      0.81      2569\n",
      "\n",
      "    accuracy                           0.64     11867\n",
      "   macro avg       0.65      0.63      0.64     11867\n",
      "weighted avg       0.64      0.64      0.64     11867\n",
      "\n"
     ]
    }
   ],
   "source": [
    "from sklearn.naive_bayes import MultinomialNB\n",
    "classifier = MultinomialNB()\n",
    "classifier.fit(X_train, y_train)\n",
    "\n",
    "y_pred = classifier.predict(X_test)\n",
    "\n",
    "# Classification metrics\n",
    "from sklearn.metrics import accuracy_score, classification_report\n",
    "classification_report = classification_report(y_test, y_pred)\n",
    "\n",
    "print('\\n Accuracy: ', accuracy_score(y_test, y_pred))\n",
    "print('\\nClassification Report')\n",
    "print('======================================================')\n",
    "print('\\n', classification_report)"
   ]
  },
  {
   "cell_type": "markdown",
   "metadata": {},
   "source": [
    "### Hyperparameters tuning for NB"
   ]
  },
  {
   "cell_type": "code",
   "execution_count": 34,
   "metadata": {},
   "outputs": [
    {
     "name": "stdout",
     "output_type": "stream",
     "text": [
      "Fitting 15 folds for each of 8 candidates, totalling 120 fits\n"
     ]
    },
    {
     "data": {
      "text/plain": [
       "GridSearchCV(cv=RepeatedStratifiedKFold(n_repeats=3, n_splits=5, random_state=999),\n",
       "             estimator=MultinomialNB(),\n",
       "             param_grid={'alpha': [1e-05, 0.0001, 0.001, 0.1, 1, 10, 100,\n",
       "                                   1000]},\n",
       "             scoring='accuracy', verbose=1)"
      ]
     },
     "execution_count": 34,
     "metadata": {},
     "output_type": "execute_result"
    },
    {
     "data": {
      "text/plain": [
       "{'alpha': 1}"
      ]
     },
     "execution_count": 34,
     "metadata": {},
     "output_type": "execute_result"
    },
    {
     "data": {
      "text/plain": [
       "0.6391215935330178"
      ]
     },
     "execution_count": 34,
     "metadata": {},
     "output_type": "execute_result"
    },
    {
     "data": {
      "text/plain": [
       "[<matplotlib.lines.Line2D at 0x1fe47de4ec8>]"
      ]
     },
     "execution_count": 34,
     "metadata": {},
     "output_type": "execute_result"
    },
    {
     "data": {
      "text/plain": [
       "Text(0.5, 0, 'alpha')"
      ]
     },
     "execution_count": 34,
     "metadata": {},
     "output_type": "execute_result"
    },
    {
     "data": {
      "text/plain": [
       "Text(0, 0.5, 'Mean CV Score')"
      ]
     },
     "execution_count": 34,
     "metadata": {},
     "output_type": "execute_result"
    },
    {
     "data": {
      "text/plain": [
       "Text(0.5, 1.0, 'NB Performance Comparison')"
      ]
     },
     "execution_count": 34,
     "metadata": {},
     "output_type": "execute_result"
    },
    {
     "data": {
      "image/png": "[encoded data removed]",
      "text/plain": [
       "<Figure size 432x288 with 1 Axes>"
      ]
     },
     "metadata": {
      "needs_background": "light"
     },
     "output_type": "display_data"
    },
    {
     "name": "stdout",
     "output_type": "stream",
     "text": [
      "accuracy_score on test dataset :  0.6389989045251537\n",
      "\n",
      " Accuracy:  0.6389989045251537\n",
      "\n",
      "Classification Report\n",
      "======================================================\n",
      "\n",
      "               precision    recall  f1-score   support\n",
      "\n",
      "     anxiety       0.59      0.70      0.64      3798\n",
      "      lonely       0.57      0.48      0.52      2550\n",
      "      normal       0.60      0.56      0.58      2950\n",
      "      stress       0.85      0.78      0.81      2569\n",
      "\n",
      "    accuracy                           0.64     11867\n",
      "   macro avg       0.65      0.63      0.64     11867\n",
      "weighted avg       0.64      0.64      0.64     11867\n",
      "\n"
     ]
    }
   ],
   "source": [
    "model = MultinomialNB()\n",
    "from sklearn.model_selection import RepeatedStratifiedKFold\n",
    "\n",
    "cv_method = RepeatedStratifiedKFold(n_splits=5, \n",
    "                                    n_repeats=3, \n",
    "                                    random_state=999)\n",
    "\n",
    "from sklearn.preprocessing import PowerTransformer\n",
    "params_NB = {'alpha': [0.00001, 0.0001, 0.001, 0.1, 1, 10, 100,1000]}\n",
    "\n",
    "gs_NB = GridSearchCV(estimator=model, \n",
    "                     param_grid=params_NB, \n",
    "                     cv=cv_method,\n",
    "                     verbose=1, \n",
    "                     scoring='accuracy')\n",
    "\n",
    "# Data_transformed = PowerTransformer().fit_transform(X_test)\n",
    "\n",
    "gs_NB.fit(X_train, y_train)\n",
    "gs_NB.best_params_\n",
    "gs_NB.best_score_\n",
    "\n",
    "results_NB = pd.DataFrame(gs_NB.cv_results_['params'])\n",
    "results_NB['test_score'] = gs_NB.cv_results_['mean_test_score']\n",
    "\n",
    "\n",
    "plt.plot(results_NB['alpha'], results_NB['test_score'], marker = '.')    \n",
    "plt.xlabel('alpha')\n",
    "plt.ylabel(\"Mean CV Score\")\n",
    "plt.title(\"NB Performance Comparison\")\n",
    "plt.show()\n",
    "\n",
    "# predict the target on the test dataset\n",
    "predict_test = gs_NB.predict(X_test)\n",
    "\n",
    "# Accuracy Score on test dataset\n",
    "accuracy_test = accuracy_score(y_test,predict_test)\n",
    "print('accuracy_score on test dataset : ', accuracy_test)\n",
    "\n",
    "\n",
    "# classification_report = classification_report(y_test, predict_test)\n",
    "\n",
    "print('\\n Accuracy: ', accuracy_score(y_test, predict_test))\n",
    "print('\\nClassification Report')\n",
    "print('======================================================')\n",
    "print('\\n', classification_report)"
   ]
  },
  {
   "cell_type": "code",
   "execution_count": 32,
   "metadata": {},
   "outputs": [
    {
     "data": {
      "text/plain": [
       "array(['normal', 'lonely', 'lonely', ..., 'normal', 'stress', 'anxiety'],\n",
       "      dtype='<U7')"
      ]
     },
     "execution_count": 32,
     "metadata": {},
     "output_type": "execute_result"
    }
   ],
   "source": [
    "# predict_test"
   ]
  },
  {
   "cell_type": "code",
   "execution_count": 33,
   "metadata": {},
   "outputs": [
    {
     "data": {
      "text/plain": [
       "array(['lonely', 'lonely', 'anxiety', ..., 'normal', 'stress', 'anxiety'],\n",
       "      dtype=object)"
      ]
     },
     "execution_count": 33,
     "metadata": {},
     "output_type": "execute_result"
    }
   ],
   "source": [
    "# y_test"
   ]
  },
  {
   "cell_type": "code",
   "execution_count": 35,
   "metadata": {
    "colab": {
     "base_uri": "https://localhost:8080/"
    },
    "id": "2qwiLOl94ksl",
    "outputId": "66aee9d6-b3ae-400b-9659-797caf3a1028"
   },
   "outputs": [
    {
     "name": "stdout",
     "output_type": "stream",
     "text": [
      "Classifiers to test: ['LogisticRegression', 'LinearSVC', 'RandomForestClassifier', 'XGBClassifier', 'MLPClassifier']\n"
     ]
    }
   ],
   "source": [
    "import re\n",
    "classifiers = [\n",
    "    LogisticRegression(solver=\"sag\", random_state=42),\n",
    "    LinearSVC(random_state=42),\n",
    "    RandomForestClassifier(random_state=1),\n",
    "    XGBClassifier(random_state=42),\n",
    "    MLPClassifier(\n",
    "        random_state=42,\n",
    "        solver=\"adam\",\n",
    "        hidden_layer_sizes=(500, 500, 400),\n",
    "        activation=\"relu\",\n",
    "        early_stopping=True,\n",
    "        n_iter_no_change=1,\n",
    "    ),\n",
    "]\n",
    "# get names of the objects in list (too lazy for c&p...)\n",
    "names = [re.match(r\"[^\\(]+\", name.__str__())[0] for name in classifiers]\n",
    "print(f\"Classifiers to test: {names}\")"
   ]
  },
  {
   "cell_type": "code",
   "execution_count": 36,
   "metadata": {
    "colab": {
     "base_uri": "https://localhost:8080/"
    },
    "id": "lXC9_TGY4wuJ",
    "outputId": "bcbc13d9-cd81-4e07-a101-122f8a23c2e3"
   },
   "outputs": [
    {
     "name": "stdout",
     "output_type": "stream",
     "text": [
      "Training classifier: LogisticRegression\n",
      "Training classifier: LinearSVC\n",
      "Training classifier: RandomForestClassifier\n",
      "Training classifier: XGBClassifier\n"
     ]
    },
    {
     "name": "stderr",
     "output_type": "stream",
     "text": [
      "C:\\Users\\fatma\\Anaconda3\\lib\\site-packages\\xgboost\\sklearn.py:1224: UserWarning: The use of label encoder in XGBClassifier is deprecated and will be removed in a future release. To remove this warning, do the following: 1) Pass option use_label_encoder=False when constructing XGBClassifier object; and 2) Encode your labels (y) as integers starting with 0, i.e. 0, 1, 2, ..., [num_class - 1].\n",
      "  warnings.warn(label_encoder_deprecation_msg, UserWarning)\n"
     ]
    },
    {
     "name": "stdout",
     "output_type": "stream",
     "text": [
      "[01:20:46] WARNING: C:/Users/Administrator/workspace/xgboost-win64_release_1.5.1/src/learner.cc:1115: Starting in XGBoost 1.3.0, the default evaluation metric used with the objective 'multi:softprob' was changed from 'merror' to 'mlogloss'. Explicitly set eval_metric if you'd like to restore the old behavior.\n",
      "Training classifier: MLPClassifier\n",
      "Wall time: 16min 16s\n"
     ]
    }
   ],
   "source": [
    "%%time\n",
    "import pickle\n",
    "import sklearn\n",
    "\n",
    "# test all classifiers and save pred. results on test data\n",
    "results = {}\n",
    "for name, clf in zip(names, classifiers):\n",
    "    print(f\"Training classifier: {name}\")\n",
    "    clf.fit(X_train, y_train)\n",
    "    prediction = clf.predict(X_test)\n",
    "    report = sklearn.metrics.classification_report(y_test, prediction)\n",
    "    results[name] = report"
   ]
  },
  {
   "cell_type": "markdown",
   "metadata": {
    "colab": {
     "base_uri": "https://localhost:8080/"
    },
    "id": "-6UKZoJ-46XF",
    "outputId": "9373d752-02f3-4a83-b238-c3ab79b5aaba"
   },
   "source": [
    "for k, v in results.items():\n",
    "    print(f\"Results for {k}:\")\n",
    "    print(f\"{v}\\n\")"
   ]
  },
  {
   "cell_type": "markdown",
   "metadata": {},
   "source": [
    "### hyperparameters for logistic regression/"
   ]
  },
  {
   "cell_type": "code",
   "execution_count": 38,
   "metadata": {},
   "outputs": [
    {
     "name": "stdout",
     "output_type": "stream",
     "text": [
      "Best: 0.961333 using {'C': 0.01, 'penalty': 'l2', 'solver': 'newton-cg'}\n",
      "0.959000 (0.017954) with: {'C': 100, 'penalty': 'l2', 'solver': 'newton-cg'}\n",
      "0.958667 (0.018209) with: {'C': 100, 'penalty': 'l2', 'solver': 'lbfgs'}\n",
      "0.958333 (0.018273) with: {'C': 100, 'penalty': 'l2', 'solver': 'liblinear'}\n",
      "0.959667 (0.016829) with: {'C': 10, 'penalty': 'l2', 'solver': 'newton-cg'}\n",
      "0.959333 (0.017499) with: {'C': 10, 'penalty': 'l2', 'solver': 'lbfgs'}\n",
      "0.958333 (0.018273) with: {'C': 10, 'penalty': 'l2', 'solver': 'liblinear'}\n",
      "0.959333 (0.016720) with: {'C': 1.0, 'penalty': 'l2', 'solver': 'newton-cg'}\n",
      "0.960333 (0.016224) with: {'C': 1.0, 'penalty': 'l2', 'solver': 'lbfgs'}\n",
      "0.959667 (0.018345) with: {'C': 1.0, 'penalty': 'l2', 'solver': 'liblinear'}\n",
      "0.959667 (0.016630) with: {'C': 0.1, 'penalty': 'l2', 'solver': 'newton-cg'}\n",
      "0.959667 (0.016630) with: {'C': 0.1, 'penalty': 'l2', 'solver': 'lbfgs'}\n",
      "0.959667 (0.016829) with: {'C': 0.1, 'penalty': 'l2', 'solver': 'liblinear'}\n",
      "0.961333 (0.016069) with: {'C': 0.01, 'penalty': 'l2', 'solver': 'newton-cg'}\n",
      "0.961333 (0.016069) with: {'C': 0.01, 'penalty': 'l2', 'solver': 'lbfgs'}\n",
      "0.961333 (0.017269) with: {'C': 0.01, 'penalty': 'l2', 'solver': 'liblinear'}\n"
     ]
    }
   ],
   "source": [
    "from sklearn.datasets import make_blobs\n",
    "from sklearn.model_selection import RepeatedStratifiedKFold\n",
    "from sklearn.model_selection import GridSearchCV\n",
    "from sklearn.linear_model import LogisticRegression\n",
    "# define dataset\n",
    "X, y = make_blobs(n_samples=1000, centers=2, n_features=100, cluster_std=20)\n",
    "# define models and parameters\n",
    "model = LogisticRegression()\n",
    "solvers = ['newton-cg', 'lbfgs', 'liblinear']\n",
    "penalty = ['l2']\n",
    "c_values = [100, 10, 1.0, 0.1, 0.01]\n",
    "# define grid search\n",
    "grid = dict(solver=solvers,penalty=penalty,C=c_values)\n",
    "cv = RepeatedStratifiedKFold(n_splits=10, n_repeats=3, random_state=1)\n",
    "grid_search = GridSearchCV(estimator=model, param_grid=grid, n_jobs=-1, cv=cv, scoring='accuracy',error_score=0)\n",
    "grid_result = grid_search.fit(X_train, y_train)\n",
    "# summarize results\n",
    "print(\"Best: %f using %s\" % (grid_result.best_score_, grid_result.best_params_))\n",
    "means = grid_result.cv_results_['mean_test_score']\n",
    "stds = grid_result.cv_results_['std_test_score']\n",
    "params = grid_result.cv_results_['params']\n",
    "for mean, stdev, param in zip(means, stds, params):\n",
    "    print(\"%f (%f) with: %r\" % (mean, stdev, param))"
   ]
  },
  {
   "cell_type": "code",
   "execution_count": null,
   "metadata": {},
   "outputs": [],
   "source": []
  }
 ],
 "metadata": {
  "colab": {
   "provenance": []
  },
  "kernelspec": {
   "display_name": "Python 3",
   "language": "python",
   "name": "python3"
  },
  "language_info": {
   "codemirror_mode": {
    "name": "ipython",
    "version": 3
   },
   "file_extension": ".py",
   "mimetype": "text/x-python",
   "name": "python",
   "nbconvert_exporter": "python",
   "pygments_lexer": "ipython3",
   "version": "3.7.4"
  }
 },
 "nbformat": 4,
 "nbformat_minor": 1
}
