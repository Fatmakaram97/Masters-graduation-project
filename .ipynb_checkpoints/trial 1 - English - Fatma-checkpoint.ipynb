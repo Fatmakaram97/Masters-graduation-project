{
 "cells": [
  {
   "cell_type": "code",
   "execution_count": 1,
   "metadata": {},
   "outputs": [
    {
     "name": "stderr",
     "output_type": "stream",
     "text": [
      "C:\\Users\\fatma\\Anaconda3\\lib\\site-packages\\numpy\\_distributor_init.py:32: UserWarning: loaded more than 1 DLL from .libs:\n",
      "C:\\Users\\fatma\\Anaconda3\\lib\\site-packages\\numpy\\.libs\\libopenblas.PYQHXLVVQ7VESDPUVUADXEVJOBGHJPAY.gfortran-win_amd64.dll\n",
      "C:\\Users\\fatma\\Anaconda3\\lib\\site-packages\\numpy\\.libs\\libopenblas.XWYDX2IKJW2NMTWSFYNGFUWKQU3LYTCZ.gfortran-win_amd64.dll\n",
      "  stacklevel=1)\n"
     ]
    }
   ],
   "source": [
    "import pandas as pd\n",
    "import sklearn\n",
    "import numpy as np\n",
    "import re\n",
    "import nltk\n",
    "\n",
    "import matplotlib.pyplot as plt\n",
    "from matplotlib import style\n",
    "\n",
    "from sklearn.feature_extraction.text import CountVectorizer\n",
    "\n",
    "from sklearn.feature_extraction.text import ENGLISH_STOP_WORDS as esw\n",
    "from nltk.stem import WordNetLemmatizer, PorterStemmer\n",
    "from nltk.tokenize import word_tokenize\n",
    "from nltk import pos_tag\n",
    "import string\n",
    "\n",
    "# allow display of multiple outputs by running one code cell\n",
    "from IPython.core.interactiveshell import InteractiveShell\n",
    "InteractiveShell.ast_node_interactivity = \"all\"\n",
    "\n"
   ]
  },
  {
   "cell_type": "code",
   "execution_count": 2,
   "metadata": {},
   "outputs": [
    {
     "data": {
      "text/html": [
       "<div>\n",
       "<style scoped>\n",
       "    .dataframe tbody tr th:only-of-type {\n",
       "        vertical-align: middle;\n",
       "    }\n",
       "\n",
       "    .dataframe tbody tr th {\n",
       "        vertical-align: top;\n",
       "    }\n",
       "\n",
       "    .dataframe thead th {\n",
       "        text-align: right;\n",
       "    }\n",
       "</style>\n",
       "<table border=\"1\" class=\"dataframe\">\n",
       "  <thead>\n",
       "    <tr style=\"text-align: right;\">\n",
       "      <th></th>\n",
       "      <th>Unnamed: 0</th>\n",
       "      <th>location</th>\n",
       "      <th>tweetcreatedts</th>\n",
       "      <th>text</th>\n",
       "      <th>class</th>\n",
       "    </tr>\n",
       "    <tr>\n",
       "      <th>id</th>\n",
       "      <th></th>\n",
       "      <th></th>\n",
       "      <th></th>\n",
       "      <th></th>\n",
       "      <th></th>\n",
       "    </tr>\n",
       "  </thead>\n",
       "  <tbody>\n",
       "    <tr>\n",
       "      <th>1039</th>\n",
       "      <td>9604</td>\n",
       "      <td>the nationwood street</td>\n",
       "      <td>2021-02-08 19:07:40+00:00</td>\n",
       "      <td>RT @maideeeni: I want to say a very big thank ...</td>\n",
       "      <td>anxiety</td>\n",
       "    </tr>\n",
       "    <tr>\n",
       "      <th>1682</th>\n",
       "      <td>1682</td>\n",
       "      <td>RH Waiting For Update Planet</td>\n",
       "      <td>2021-02-03 23:58:40+00:00</td>\n",
       "      <td>@AisYalcaE @clyrhck Done! I just need 320! Tha...</td>\n",
       "      <td>lonely</td>\n",
       "    </tr>\n",
       "    <tr>\n",
       "      <th>5275</th>\n",
       "      <td>5275</td>\n",
       "      <td>Any pronouns ¡ GMT+8</td>\n",
       "      <td>2021-01-27 23:57:59+00:00</td>\n",
       "      <td>@SAD_istfied I'm gonna cry /pos</td>\n",
       "      <td>stress</td>\n",
       "    </tr>\n",
       "    <tr>\n",
       "      <th>6069</th>\n",
       "      <td>6069</td>\n",
       "      <td>........</td>\n",
       "      <td>2021-02-03 23:58:23+00:00</td>\n",
       "      <td>RT @JoshOfficial___: I need a consistent fuck ...</td>\n",
       "      <td>anxiety</td>\n",
       "    </tr>\n",
       "    <tr>\n",
       "      <th>6087</th>\n",
       "      <td>6087</td>\n",
       "      <td>St Louis, MO</td>\n",
       "      <td>2021-02-12 20:27:58+00:00</td>\n",
       "      <td>RT @mikegolicjr: glad we're finally talking ab...</td>\n",
       "      <td>normal</td>\n",
       "    </tr>\n",
       "  </tbody>\n",
       "</table>\n",
       "</div>"
      ],
      "text/plain": [
       "      Unnamed: 0                      location             tweetcreatedts  \\\n",
       "id                                                                          \n",
       "1039        9604        the nationwood street   2021-02-08 19:07:40+00:00   \n",
       "1682        1682  RH Waiting For Update Planet  2021-02-03 23:58:40+00:00   \n",
       "5275        5275          Any pronouns ¡ GMT+8  2021-01-27 23:57:59+00:00   \n",
       "6069        6069                      ........  2021-02-03 23:58:23+00:00   \n",
       "6087        6087                  St Louis, MO  2021-02-12 20:27:58+00:00   \n",
       "\n",
       "                                                   text    class  \n",
       "id                                                                \n",
       "1039  RT @maideeeni: I want to say a very big thank ...  anxiety  \n",
       "1682  @AisYalcaE @clyrhck Done! I just need 320! Tha...   lonely  \n",
       "5275                    @SAD_istfied I'm gonna cry /pos   stress  \n",
       "6069  RT @JoshOfficial___: I need a consistent fuck ...  anxiety  \n",
       "6087  RT @mikegolicjr: glad we're finally talking ab...   normal  "
      ]
     },
     "execution_count": 2,
     "metadata": {},
     "output_type": "execute_result"
    }
   ],
   "source": [
    "data = pd.read_csv('Data/final_data_en.csv', index_col='id')\n",
    "data.head()\n"
   ]
  },
  {
   "cell_type": "code",
   "execution_count": 3,
   "metadata": {},
   "outputs": [
    {
     "name": "stdout",
     "output_type": "stream",
     "text": [
      "Number of the duplicated rows=  0\n",
      "Total missing values =  13084\n",
      "Number of nulls in each column:\n"
     ]
    },
    {
     "data": {
      "text/plain": [
       "Unnamed: 0            0\n",
       "location          13084\n",
       "tweetcreatedts        0\n",
       "text                  0\n",
       "class                 0\n",
       "dtype: int64"
      ]
     },
     "execution_count": 3,
     "metadata": {},
     "output_type": "execute_result"
    },
    {
     "name": "stdout",
     "output_type": "stream",
     "text": [
      "________________________________________________________________\n"
     ]
    },
    {
     "data": {
      "text/html": [
       "<div>\n",
       "<style scoped>\n",
       "    .dataframe tbody tr th:only-of-type {\n",
       "        vertical-align: middle;\n",
       "    }\n",
       "\n",
       "    .dataframe tbody tr th {\n",
       "        vertical-align: top;\n",
       "    }\n",
       "\n",
       "    .dataframe thead th {\n",
       "        text-align: right;\n",
       "    }\n",
       "</style>\n",
       "<table border=\"1\" class=\"dataframe\">\n",
       "  <thead>\n",
       "    <tr style=\"text-align: right;\">\n",
       "      <th></th>\n",
       "      <th>Total missing</th>\n",
       "      <th>% missing</th>\n",
       "    </tr>\n",
       "  </thead>\n",
       "  <tbody>\n",
       "    <tr>\n",
       "      <th>location</th>\n",
       "      <td>13084</td>\n",
       "      <td>32.90248</td>\n",
       "    </tr>\n",
       "    <tr>\n",
       "      <th>Unnamed: 0</th>\n",
       "      <td>0</td>\n",
       "      <td>0.00000</td>\n",
       "    </tr>\n",
       "    <tr>\n",
       "      <th>tweetcreatedts</th>\n",
       "      <td>0</td>\n",
       "      <td>0.00000</td>\n",
       "    </tr>\n",
       "    <tr>\n",
       "      <th>text</th>\n",
       "      <td>0</td>\n",
       "      <td>0.00000</td>\n",
       "    </tr>\n",
       "    <tr>\n",
       "      <th>class</th>\n",
       "      <td>0</td>\n",
       "      <td>0.00000</td>\n",
       "    </tr>\n",
       "  </tbody>\n",
       "</table>\n",
       "</div>"
      ],
      "text/plain": [
       "                Total missing  % missing\n",
       "location                13084   32.90248\n",
       "Unnamed: 0                  0    0.00000\n",
       "tweetcreatedts              0    0.00000\n",
       "text                        0    0.00000\n",
       "class                       0    0.00000"
      ]
     },
     "execution_count": 3,
     "metadata": {},
     "output_type": "execute_result"
    }
   ],
   "source": [
    "#find duplicate rows across all columns\n",
    "print('Number of the duplicated rows= ',data.duplicated().sum())\n",
    "\n",
    "# summary of the number of nulls\n",
    "print('Total missing values = ', data.isna().sum().sum())\n",
    "\n",
    "print('Number of nulls in each column:')\n",
    "data.isna().sum()\n",
    "print('________________________________________________________________')\n",
    "\n",
    "# count the ratio of missing values\n",
    "total_miss = data.isnull().sum()\n",
    "percent_miss = (total_miss/data.isnull().count()*100)\n",
    "\n",
    "# sort attributes by missing value ratio\n",
    "missing_data = pd.DataFrame({'Total missing':total_miss,'% missing':percent_miss})\n",
    "missing_data.sort_values(by='Total missing',ascending=False)"
   ]
  },
  {
   "cell_type": "code",
   "execution_count": 4,
   "metadata": {},
   "outputs": [
    {
     "data": {
      "text/plain": [
       "anxiety    12585\n",
       "normal     10022\n",
       "stress      8599\n",
       "lonely      8560\n",
       "Name: class, dtype: int64"
      ]
     },
     "execution_count": 4,
     "metadata": {},
     "output_type": "execute_result"
    }
   ],
   "source": [
    "data['class'].value_counts()"
   ]
  },
  {
   "cell_type": "code",
   "execution_count": 5,
   "metadata": {},
   "outputs": [
    {
     "data": {
      "text/plain": [
       "<matplotlib.axes._subplots.AxesSubplot at 0x22f28810688>"
      ]
     },
     "execution_count": 5,
     "metadata": {},
     "output_type": "execute_result"
    },
    {
     "data": {
      "image/png": "[encoded data removed]",
      "text/plain": [
       "<Figure size 432x288 with 1 Axes>"
      ]
     },
     "metadata": {},
     "output_type": "display_data"
    }
   ],
   "source": [
    "data.groupby('class').size().plot(kind='pie', autopct='%.2f')"
   ]
  },
  {
   "cell_type": "code",
   "execution_count": 6,
   "metadata": {},
   "outputs": [],
   "source": [
    "# let's use standard english stop-words first, later we would see if we need to filter specific stopwords (high-frequent words with no discriminative power)\n",
    "cachedStopWords = list(esw)\n",
    "lemmatizer=WordNetLemmatizer()\n",
    "#ps = PorterStemmer()\n",
    "\n",
    "def lemmatize_article(sentence):\n",
    "    sentence = word_tokenize(sentence)\n",
    "    res = ''\n",
    "    for word, tag in pos_tag(sentence):\n",
    "        wntag = tag[0].lower()\n",
    "        wntag = wntag if wntag in ['a', 'r', 'n', 'v'] else None\n",
    "        word = lemmatizer.lemmatize(word, wntag) if wntag else word\n",
    "        res += word + ' '\n",
    "    return res\n",
    "    \n",
    "def remove_stop_words(sentence):\n",
    "    return ' '.join([word for word in sentence.split() if word not in cachedStopWords])\n",
    "    \n",
    "def remove_short(sentence):\n",
    "    return ' '.join([word for word in sentence.split() if len(word) >= 3])\n",
    "    \n",
    "def remove_digits(sentence):\n",
    "    return ' '.join([i for i in sentence.split() if not i.isdigit()])\n",
    "    \n",
    "def preprocess(all_texts):\n",
    "    all_texts = list(map(lambda x: x.lower(), all_texts))\n",
    "    all_texts = list(map(lambda x: x.translate(str.maketrans('', '', string.punctuation)), all_texts))\n",
    "    all_texts = list(map(lambda x: lemmatize_article(x), all_texts))\n",
    "    all_texts = list(map(lambda x: x.strip(), all_texts))\n",
    "    all_texts = list(map(lambda x: remove_stop_words(x), all_texts))\n",
    "    all_texts = list(map(lambda x: remove_short(x), all_texts))\n",
    "    all_texts = list(map(lambda x: remove_digits(x), all_texts))\n",
    "    return all_texts\n",
    "    "
   ]
  },
  {
   "cell_type": "code",
   "execution_count": null,
   "metadata": {},
   "outputs": [],
   "source": [
    "# preprocess text\n",
    "data['text_cleaned'] = preprocess(data['text'])\n",
    "data"
   ]
  },
  {
   "cell_type": "code",
   "execution_count": null,
   "metadata": {},
   "outputs": [],
   "source": [
    "from wordcloud import WordCloud,STOPWORDS\n",
    "\n",
    "\n",
    "plt.figure(figsize=(40,60))\n",
    "subset = data[data['class']=='lonely']\n",
    "text_cleaned = subset.text_cleaned.values\n",
    "cloud1=WordCloud(stopwords=STOPWORDS,background_color='white',colormap=\"Dark2\",collocations=False,width=2500,height=1800).generate(\" \".join(text_cleaned))\n",
    "\n",
    "plt.subplot(2,2,1)\n",
    "plt.axis('off')\n",
    "plt.title(\"lonely\",fontsize=60)\n",
    "plt.imshow(cloud1)\n",
    "\n",
    "\n",
    "subset = data[data['class']=='normal']\n",
    "text_cleaned = subset.text_cleaned.values\n",
    "cloud2 = WordCloud(stopwords=STOPWORDS,background_color='white',colormap=\"Dark2\",collocations=False,width=2500,height=1800).generate(\" \".join(text_cleaned))\n",
    "\n",
    "plt.subplot(2,2,2)\n",
    "plt.axis('off')\n",
    "plt.title(\"normal\",fontsize=60)\n",
    "plt.imshow(cloud2)\n",
    "\n",
    "subset = data[data['class']=='anxiety']\n",
    "text_cleaned = subset.text_cleaned.values\n",
    "cloud3 = WordCloud(stopwords=STOPWORDS,background_color='white',colormap=\"Dark2\",collocations=False,width=2500,height=1800).generate(\" \".join(text_cleaned))\n",
    "\n",
    "plt.subplot(2,2,3)\n",
    "plt.axis('off')\n",
    "plt.title(\"anxiety\",fontsize=60)\n",
    "plt.imshow(cloud3)\n",
    "\n",
    "\n",
    "subset = data[data['class']=='stress']\n",
    "text_cleaned = subset.text_cleaned.values\n",
    "cloud4 = WordCloud(stopwords=STOPWORDS,background_color='white',colormap=\"Dark2\",collocations=False,width=2500,height=1800).generate(\" \".join(text_cleaned))\n",
    "\n",
    "plt.subplot(2,2,4)\n",
    "plt.axis('off')\n",
    "plt.title(\"stress\",fontsize=60)\n",
    "plt.imshow(cloud4)\n"
   ]
  },
  {
   "cell_type": "code",
   "execution_count": null,
   "metadata": {},
   "outputs": [],
   "source": [
    "# word2vec\n",
    "from nltk.tokenize import sent_tokenize, word_tokenize\n",
    "import warnings\n",
    " \n",
    "warnings.filterwarnings(action = 'ignore')\n",
    " \n",
    "import gensim\n",
    "from gensim.models import Word2Vec\n",
    " \n",
    "data = []\n",
    " \n",
    "\n",
    "\n",
    "# tokenize the sentence into words\n",
    "for j in word_tokenize(X):\n",
    "    data.append(j.lower())\n",
    "\n",
    "# data.append(temp)\n",
    "\n",
    "# Create CBOW model\n",
    "model1 = gensim.models.Word2Vec(data, min_count = 1,\n",
    "                              vector_size = 100, window = 5)\n",
    " \n",
    "# Print results\n",
    "print(\"Cosine similarity between 'alice' \" +\n",
    "               \"and 'wonderland' - CBOW : \",\n",
    "    model1.wv.similarity('alice', 'wonderland'))\n",
    "     \n",
    "print(\"Cosine similarity between 'alice' \" +\n",
    "                 \"and 'machines' - CBOW : \",\n",
    "      model1.wv.similarity('alice', 'machines'))\n",
    " \n",
    "# Create Skip Gram model\n",
    "model2 = gensim.models.Word2Vec(data, min_count = 1, vector_size = 100,\n",
    "                                             window = 5, sg = 1)\n",
    " \n",
    "# Print results\n",
    "print(\"Cosine similarity between 'alice' \" +\n",
    "          \"and 'wonderland' - Skip Gram : \",\n",
    "    model2.wv.similarity('alice', 'wonderland'))\n",
    "     \n",
    "print(\"Cosine similarity between 'alice' \" +\n",
    "            \"and 'machines' - Skip Gram : \",\n",
    "      model2.wv.similarity('alice', 'machines'))"
   ]
  },
  {
   "cell_type": "code",
   "execution_count": null,
   "metadata": {},
   "outputs": [],
   "source": []
  },
  {
   "cell_type": "code",
   "execution_count": null,
   "metadata": {},
   "outputs": [],
   "source": [
    "from sklearn.model_selection import train_test_split\n",
    "\n",
    "X_train, X_test, y_train, y_test = train_test_split(X, y, stratify=y, test_size=0.3)\n"
   ]
  }
 ],
 "metadata": {
  "kernelspec": {
   "display_name": "Python 3",
   "language": "python",
   "name": "python3"
  },
  "language_info": {
   "codemirror_mode": {
    "name": "ipython",
    "version": 3
   },
   "file_extension": ".py",
   "mimetype": "text/x-python",
   "name": "python",
   "nbconvert_exporter": "python",
   "pygments_lexer": "ipython3",
   "version": "3.7.4"
  }
 },
 "nbformat": 4,
 "nbformat_minor": 4
}
