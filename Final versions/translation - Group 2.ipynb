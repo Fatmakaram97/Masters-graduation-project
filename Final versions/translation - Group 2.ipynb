{
 "cells": [
  {
   "cell_type": "markdown",
   "metadata": {},
   "source": [
    "# Translation the data \n",
    "## Import required libraries\n",
    "We used Kaggle to run this code"
   ]
  },
  {
   "cell_type": "code",
   "execution_count": 2,
   "metadata": {
    "_cell_guid": "b1076dfc-b9ad-4769-8c92-a6c4dae69d19",
    "_uuid": "8f2839f25d086af736a60e9eeb907d3b93b6e0e5",
    "execution": {
     "iopub.execute_input": "2022-10-31T19:16:23.893113Z",
     "iopub.status.busy": "2022-10-31T19:16:23.892649Z",
     "iopub.status.idle": "2022-10-31T19:16:23.908007Z",
     "shell.execute_reply": "2022-10-31T19:16:23.906271Z",
     "shell.execute_reply.started": "2022-10-31T19:16:23.893076Z"
    }
   },
   "outputs": [
    {
     "name": "stdout",
     "output_type": "stream",
     "text": [
      "/kaggle/input/translate/fff.csv\n"
     ]
    }
   ],
   "source": [
    "# This Python 3 environment comes with many helpful analytics libraries installed\n",
    "# It is defined by the kaggle/python Docker image: https://github.com/kaggle/docker-python\n",
    "# For example, here's several helpful packages to load\n",
    "\n",
    "import numpy as np # linear algebra\n",
    "import pandas as pd # data processing, CSV file I/O (e.g. pd.read_csv)\n",
    "\n",
    "# Input data files are available in the read-only \"../input/\" directory\n",
    "# For example, running this (by clicking run or pressing Shift+Enter) will list all files under the input directory\n",
    "\n",
    "import os\n",
    "for dirname, _, filenames in os.walk('/kaggle/input'):\n",
    "    for filename in filenames:\n",
    "        print(os.path.join(dirname, filename))\n",
    "\n",
    "# You can write up to 20GB to the current directory (/kaggle/working/) that gets preserved as output when you create a version using \"Save & Run All\" \n",
    "# You can also write temporary files to /kaggle/temp/, but they won't be saved outside of the current session"
   ]
  },
  {
   "cell_type": "code",
   "execution_count": 3,
   "metadata": {
    "execution": {
     "iopub.execute_input": "2022-10-31T19:16:23.910667Z",
     "iopub.status.busy": "2022-10-31T19:16:23.910283Z",
     "iopub.status.idle": "2022-10-31T19:16:38.992466Z",
     "shell.execute_reply": "2022-10-31T19:16:38.991162Z",
     "shell.execute_reply.started": "2022-10-31T19:16:23.910635Z"
    }
   },
   "outputs": [
    {
     "name": "stdout",
     "output_type": "stream",
     "text": [
      "Collecting googletrans==3.1.0a0\n",
      "  Downloading googletrans-3.1.0a0.tar.gz (19 kB)\n",
      "  Preparing metadata (setup.py) ... \u001b[?25ldone\n",
      "\u001b[?25hCollecting httpx==0.13.3\n",
      "  Downloading httpx-0.13.3-py3-none-any.whl (55 kB)\n",
      "\u001b[2K     \u001b[90m━━━━━━━━━━━━━━━━━━━━━━━━━━━━━━━━━━━━━━━━\u001b[0m \u001b[32m55.1/55.1 kB\u001b[0m \u001b[31m1.6 MB/s\u001b[0m eta \u001b[36m0:00:00\u001b[0m\n",
      "\u001b[?25hRequirement already satisfied: sniffio in /opt/conda/lib/python3.7/site-packages (from httpx==0.13.3->googletrans==3.1.0a0) (1.2.0)\n",
      "Requirement already satisfied: certifi in /opt/conda/lib/python3.7/site-packages (from httpx==0.13.3->googletrans==3.1.0a0) (2022.6.15)\n",
      "Collecting idna==2.*\n",
      "  Downloading idna-2.10-py2.py3-none-any.whl (58 kB)\n",
      "\u001b[2K     \u001b[90m━━━━━━━━━━━━━━━━━━━━━━━━━━━━━━━━━━━━━━━━\u001b[0m \u001b[32m58.8/58.8 kB\u001b[0m \u001b[31m2.6 MB/s\u001b[0m eta \u001b[36m0:00:00\u001b[0m\n",
      "\u001b[?25hCollecting httpcore==0.9.*\n",
      "  Downloading httpcore-0.9.1-py3-none-any.whl (42 kB)\n",
      "\u001b[2K     \u001b[90m━━━━━━━━━━━━━━━━━━━━━━━━━━━━━━━━━━━━━━━━\u001b[0m \u001b[32m42.6/42.6 kB\u001b[0m \u001b[31m2.4 MB/s\u001b[0m eta \u001b[36m0:00:00\u001b[0m\n",
      "\u001b[?25hCollecting hstspreload\n",
      "  Downloading hstspreload-2022.10.1-py3-none-any.whl (1.4 MB)\n",
      "\u001b[2K     \u001b[90m━━━━━━━━━━━━━━━━━━━━━━━━━━━━━━━━━━━━━━━━\u001b[0m \u001b[32m1.4/1.4 MB\u001b[0m \u001b[31m17.3 MB/s\u001b[0m eta \u001b[36m0:00:00\u001b[0m00:01\u001b[0m00:01\u001b[0m\n",
      "\u001b[?25hCollecting rfc3986<2,>=1.3\n",
      "  Downloading rfc3986-1.5.0-py2.py3-none-any.whl (31 kB)\n",
      "Collecting chardet==3.*\n",
      "  Downloading chardet-3.0.4-py2.py3-none-any.whl (133 kB)\n",
      "\u001b[2K     \u001b[90m━━━━━━━━━━━━━━━━━━━━━━━━━━━━━━━━━━━━━━━\u001b[0m \u001b[32m133.4/133.4 kB\u001b[0m \u001b[31m6.8 MB/s\u001b[0m eta \u001b[36m0:00:00\u001b[0m\n",
      "\u001b[?25hCollecting h2==3.*\n",
      "  Downloading h2-3.2.0-py2.py3-none-any.whl (65 kB)\n",
      "\u001b[2K     \u001b[90m━━━━━━━━━━━━━━━━━━━━━━━━━━━━━━━━━━━━━━━━\u001b[0m \u001b[32m65.0/65.0 kB\u001b[0m \u001b[31m4.2 MB/s\u001b[0m eta \u001b[36m0:00:00\u001b[0m\n",
      "\u001b[?25hCollecting h11<0.10,>=0.8\n",
      "  Downloading h11-0.9.0-py2.py3-none-any.whl (53 kB)\n",
      "\u001b[2K     \u001b[90m━━━━━━━━━━━━━━━━━━━━━━━━━━━━━━━━━━━━━━━━\u001b[0m \u001b[32m53.6/53.6 kB\u001b[0m \u001b[31m2.3 MB/s\u001b[0m eta \u001b[36m0:00:00\u001b[0m\n",
      "\u001b[?25hCollecting hyperframe<6,>=5.2.0\n",
      "  Downloading hyperframe-5.2.0-py2.py3-none-any.whl (12 kB)\n",
      "Collecting hpack<4,>=3.0\n",
      "  Downloading hpack-3.0.0-py2.py3-none-any.whl (38 kB)\n",
      "Building wheels for collected packages: googletrans\n",
      "  Building wheel for googletrans (setup.py) ... \u001b[?25ldone\n",
      "\u001b[?25h  Created wheel for googletrans: filename=googletrans-3.1.0a0-py3-none-any.whl size=16367 sha256=892b43aa8547acf9b2ff4a8e05acad98fdbf33f7f9d36438a1a2e045a4bb35ec\n",
      "  Stored in directory: /root/.cache/pip/wheels/0c/be/fe/93a6a40ffe386e16089e44dad9018ebab9dc4cb9eb7eab65ae\n",
      "Successfully built googletrans\n",
      "Installing collected packages: rfc3986, hyperframe, hpack, h11, chardet, idna, hstspreload, h2, httpcore, httpx, googletrans\n",
      "  Attempting uninstall: h11\n",
      "    Found existing installation: h11 0.13.0\n",
      "    Uninstalling h11-0.13.0:\n",
      "      Successfully uninstalled h11-0.13.0\n",
      "  Attempting uninstall: chardet\n",
      "    Found existing installation: chardet 5.0.0\n",
      "    Uninstalling chardet-5.0.0:\n",
      "      Successfully uninstalled chardet-5.0.0\n",
      "  Attempting uninstall: idna\n",
      "    Found existing installation: idna 3.3\n",
      "    Uninstalling idna-3.3:\n",
      "      Successfully uninstalled idna-3.3\n",
      "\u001b[31mERROR: pip's dependency resolver does not currently take into account all the packages that are installed. This behaviour is the source of the following dependency conflicts.\n",
      "beatrix-jupyterlab 3.1.7 requires google-cloud-bigquery-storage, which is not installed.\n",
      "pandas-profiling 3.1.0 requires markupsafe~=2.0.1, but you have markupsafe 2.1.1 which is incompatible.\n",
      "gcsfs 2022.5.0 requires fsspec==2022.5.0, but you have fsspec 2022.7.1 which is incompatible.\n",
      "apache-beam 2.40.0 requires dill<0.3.2,>=0.3.1.1, but you have dill 0.3.5.1 which is incompatible.\n",
      "apache-beam 2.40.0 requires pyarrow<8.0.0,>=0.15.1, but you have pyarrow 8.0.0 which is incompatible.\n",
      "allennlp 2.10.0 requires protobuf==3.20.0, but you have protobuf 3.19.4 which is incompatible.\n",
      "aiobotocore 2.3.4 requires botocore<1.24.22,>=1.24.21, but you have botocore 1.27.56 which is incompatible.\u001b[0m\u001b[31m\n",
      "\u001b[0mSuccessfully installed chardet-3.0.4 googletrans-3.1.0a0 h11-0.9.0 h2-3.2.0 hpack-3.0.0 hstspreload-2022.10.1 httpcore-0.9.1 httpx-0.13.3 hyperframe-5.2.0 idna-2.10 rfc3986-1.5.0\n",
      "\u001b[33mWARNING: Running pip as the 'root' user can result in broken permissions and conflicting behaviour with the system package manager. It is recommended to use a virtual environment instead: https://pip.pypa.io/warnings/venv\u001b[0m\u001b[33m\n",
      "\u001b[0mNote: you may need to restart the kernel to use updated packages.\n"
     ]
    }
   ],
   "source": [
    "pip install googletrans==3.1.0a0\n"
   ]
  },
  {
   "cell_type": "code",
   "execution_count": 4,
   "metadata": {
    "execution": {
     "iopub.execute_input": "2022-10-31T19:16:38.994525Z",
     "iopub.status.busy": "2022-10-31T19:16:38.994090Z",
     "iopub.status.idle": "2022-10-31T19:16:39.085778Z",
     "shell.execute_reply": "2022-10-31T19:16:39.084396Z",
     "shell.execute_reply.started": "2022-10-31T19:16:38.994478Z"
    }
   },
   "outputs": [],
   "source": [
    "from googletrans import Translator\n",
    "import pandas as pd"
   ]
  },
  {
   "cell_type": "markdown",
   "metadata": {},
   "source": [
    "## Read the English dataset"
   ]
  },
  {
   "cell_type": "code",
   "execution_count": 5,
   "metadata": {
    "execution": {
     "iopub.execute_input": "2022-10-31T19:16:39.087588Z",
     "iopub.status.busy": "2022-10-31T19:16:39.087263Z",
     "iopub.status.idle": "2022-10-31T19:16:39.245292Z",
     "shell.execute_reply": "2022-10-31T19:16:39.244338Z",
     "shell.execute_reply.started": "2022-10-31T19:16:39.087562Z"
    }
   },
   "outputs": [
    {
     "data": {
      "text/html": [
       "<div>\n",
       "<style scoped>\n",
       "    .dataframe tbody tr th:only-of-type {\n",
       "        vertical-align: middle;\n",
       "    }\n",
       "\n",
       "    .dataframe tbody tr th {\n",
       "        vertical-align: top;\n",
       "    }\n",
       "\n",
       "    .dataframe thead th {\n",
       "        text-align: right;\n",
       "    }\n",
       "</style>\n",
       "<table border=\"1\" class=\"dataframe\">\n",
       "  <thead>\n",
       "    <tr style=\"text-align: right;\">\n",
       "      <th></th>\n",
       "      <th>Unnamed: 0</th>\n",
       "      <th>text</th>\n",
       "      <th>class</th>\n",
       "    </tr>\n",
       "    <tr>\n",
       "      <th>id</th>\n",
       "      <th></th>\n",
       "      <th></th>\n",
       "      <th></th>\n",
       "    </tr>\n",
       "  </thead>\n",
       "  <tbody>\n",
       "    <tr>\n",
       "      <th>1039</th>\n",
       "      <td>0</td>\n",
       "      <td>rt want to say very big thank you to every sin...</td>\n",
       "      <td>anxiety</td>\n",
       "    </tr>\n",
       "    <tr>\n",
       "      <th>1682</th>\n",
       "      <td>1</td>\n",
       "      <td>done just need thanks for the chance</td>\n",
       "      <td>lonely</td>\n",
       "    </tr>\n",
       "    <tr>\n",
       "      <th>5275</th>\n",
       "      <td>2</td>\n",
       "      <td>istfied gon na cry pos</td>\n",
       "      <td>stress</td>\n",
       "    </tr>\n",
       "    <tr>\n",
       "      <th>6069</th>\n",
       "      <td>3</td>\n",
       "      <td>rt need consistent fuck buddy</td>\n",
       "      <td>anxiety</td>\n",
       "    </tr>\n",
       "    <tr>\n",
       "      <th>6087</th>\n",
       "      <td>4</td>\n",
       "      <td>rt glad we re finally talking about deshaun an...</td>\n",
       "      <td>normal</td>\n",
       "    </tr>\n",
       "    <tr>\n",
       "      <th>...</th>\n",
       "      <td>...</td>\n",
       "      <td>...</td>\n",
       "      <td>...</td>\n",
       "    </tr>\n",
       "    <tr>\n",
       "      <th>7813</th>\n",
       "      <td>39761</td>\n",
       "      <td>im nervous ash to fly though</td>\n",
       "      <td>anxiety</td>\n",
       "    </tr>\n",
       "    <tr>\n",
       "      <th>1305</th>\n",
       "      <td>39762</td>\n",
       "      <td>da battle id need backup lvl grimnir</td>\n",
       "      <td>lonely</td>\n",
       "    </tr>\n",
       "    <tr>\n",
       "      <th>5192</th>\n",
       "      <td>39763</td>\n",
       "      <td>snow much fun writing about our snow days in t...</td>\n",
       "      <td>anxiety</td>\n",
       "    </tr>\n",
       "    <tr>\n",
       "      <th>3607</th>\n",
       "      <td>39764</td>\n",
       "      <td>very time sensitive trans and my roommates fou...</td>\n",
       "      <td>anxiety</td>\n",
       "    </tr>\n",
       "    <tr>\n",
       "      <th>1797</th>\n",
       "      <td>39765</td>\n",
       "      <td>oatmeal cream pie cheesecake need that</td>\n",
       "      <td>lonely</td>\n",
       "    </tr>\n",
       "  </tbody>\n",
       "</table>\n",
       "<p>39766 rows × 3 columns</p>\n",
       "</div>"
      ],
      "text/plain": [
       "      Unnamed: 0                                               text    class\n",
       "id                                                                          \n",
       "1039           0  rt want to say very big thank you to every sin...  anxiety\n",
       "1682           1               done just need thanks for the chance   lonely\n",
       "5275           2                             istfied gon na cry pos   stress\n",
       "6069           3                      rt need consistent fuck buddy  anxiety\n",
       "6087           4  rt glad we re finally talking about deshaun an...   normal\n",
       "...          ...                                                ...      ...\n",
       "7813       39761                       im nervous ash to fly though  anxiety\n",
       "1305       39762               da battle id need backup lvl grimnir   lonely\n",
       "5192       39763  snow much fun writing about our snow days in t...  anxiety\n",
       "3607       39764  very time sensitive trans and my roommates fou...  anxiety\n",
       "1797       39765             oatmeal cream pie cheesecake need that   lonely\n",
       "\n",
       "[39766 rows x 3 columns]"
      ]
     },
     "execution_count": 5,
     "metadata": {},
     "output_type": "execute_result"
    }
   ],
   "source": [
    "data=pd.read_csv('../input/translate/fff.csv',index_col='id')\n",
    "data"
   ]
  },
  {
   "cell_type": "code",
   "execution_count": 6,
   "metadata": {
    "execution": {
     "iopub.execute_input": "2022-10-31T19:16:39.248688Z",
     "iopub.status.busy": "2022-10-31T19:16:39.248338Z",
     "iopub.status.idle": "2022-10-31T19:16:39.259955Z",
     "shell.execute_reply": "2022-10-31T19:16:39.258060Z",
     "shell.execute_reply.started": "2022-10-31T19:16:39.248661Z"
    }
   },
   "outputs": [
    {
     "data": {
      "text/plain": [
       "id\n",
       "1039    rt want to say very big thank you to every sin...\n",
       "1682                 done just need thanks for the chance\n",
       "5275                               istfied gon na cry pos\n",
       "6069                        rt need consistent fuck buddy\n",
       "6087    rt glad we re finally talking about deshaun an...\n",
       "                              ...                        \n",
       "7813                         im nervous ash to fly though\n",
       "1305                 da battle id need backup lvl grimnir\n",
       "5192    snow much fun writing about our snow days in t...\n",
       "3607    very time sensitive trans and my roommates fou...\n",
       "1797               oatmeal cream pie cheesecake need that\n",
       "Name: text, Length: 39766, dtype: object"
      ]
     },
     "execution_count": 6,
     "metadata": {},
     "output_type": "execute_result"
    }
   ],
   "source": [
    "data[\"text\"]"
   ]
  },
  {
   "cell_type": "code",
   "execution_count": 7,
   "metadata": {
    "execution": {
     "iopub.execute_input": "2022-10-31T19:16:39.261891Z",
     "iopub.status.busy": "2022-10-31T19:16:39.261537Z",
     "iopub.status.idle": "2022-10-31T19:16:48.189066Z",
     "shell.execute_reply": "2022-10-31T19:16:48.187871Z",
     "shell.execute_reply.started": "2022-10-31T19:16:39.261853Z"
    }
   },
   "outputs": [
    {
     "name": "stdout",
     "output_type": "stream",
     "text": [
      "Requirement already satisfied: googletrans in /opt/conda/lib/python3.7/site-packages (3.1.0a0)\n",
      "Requirement already satisfied: httpx==0.13.3 in /opt/conda/lib/python3.7/site-packages (from googletrans) (0.13.3)\n",
      "Requirement already satisfied: hstspreload in /opt/conda/lib/python3.7/site-packages (from httpx==0.13.3->googletrans) (2022.10.1)\n",
      "Requirement already satisfied: sniffio in /opt/conda/lib/python3.7/site-packages (from httpx==0.13.3->googletrans) (1.2.0)\n",
      "Requirement already satisfied: idna==2.* in /opt/conda/lib/python3.7/site-packages (from httpx==0.13.3->googletrans) (2.10)\n",
      "Requirement already satisfied: certifi in /opt/conda/lib/python3.7/site-packages (from httpx==0.13.3->googletrans) (2022.6.15)\n",
      "Requirement already satisfied: rfc3986<2,>=1.3 in /opt/conda/lib/python3.7/site-packages (from httpx==0.13.3->googletrans) (1.5.0)\n",
      "Requirement already satisfied: chardet==3.* in /opt/conda/lib/python3.7/site-packages (from httpx==0.13.3->googletrans) (3.0.4)\n",
      "Requirement already satisfied: httpcore==0.9.* in /opt/conda/lib/python3.7/site-packages (from httpx==0.13.3->googletrans) (0.9.1)\n",
      "Requirement already satisfied: h11<0.10,>=0.8 in /opt/conda/lib/python3.7/site-packages (from httpcore==0.9.*->httpx==0.13.3->googletrans) (0.9.0)\n",
      "Requirement already satisfied: h2==3.* in /opt/conda/lib/python3.7/site-packages (from httpcore==0.9.*->httpx==0.13.3->googletrans) (3.2.0)\n",
      "Requirement already satisfied: hpack<4,>=3.0 in /opt/conda/lib/python3.7/site-packages (from h2==3.*->httpcore==0.9.*->httpx==0.13.3->googletrans) (3.0.0)\n",
      "Requirement already satisfied: hyperframe<6,>=5.2.0 in /opt/conda/lib/python3.7/site-packages (from h2==3.*->httpcore==0.9.*->httpx==0.13.3->googletrans) (5.2.0)\n",
      "\u001b[33mWARNING: Running pip as the 'root' user can result in broken permissions and conflicting behaviour with the system package manager. It is recommended to use a virtual environment instead: https://pip.pypa.io/warnings/venv\u001b[0m\u001b[33m\n",
      "\u001b[0mNote: you may need to restart the kernel to use updated packages.\n"
     ]
    }
   ],
   "source": [
    "pip install googletrans"
   ]
  },
  {
   "cell_type": "code",
   "execution_count": 8,
   "metadata": {
    "execution": {
     "iopub.execute_input": "2022-10-31T19:16:48.192947Z",
     "iopub.status.busy": "2022-10-31T19:16:48.192583Z",
     "iopub.status.idle": "2022-10-31T20:17:32.798471Z",
     "shell.execute_reply": "2022-10-31T20:17:32.793458Z",
     "shell.execute_reply.started": "2022-10-31T19:16:48.192910Z"
    }
   },
   "outputs": [
    {
     "data": {
      "text/html": [
       "<div>\n",
       "<style scoped>\n",
       "    .dataframe tbody tr th:only-of-type {\n",
       "        vertical-align: middle;\n",
       "    }\n",
       "\n",
       "    .dataframe tbody tr th {\n",
       "        vertical-align: top;\n",
       "    }\n",
       "\n",
       "    .dataframe thead th {\n",
       "        text-align: right;\n",
       "    }\n",
       "</style>\n",
       "<table border=\"1\" class=\"dataframe\">\n",
       "  <thead>\n",
       "    <tr style=\"text-align: right;\">\n",
       "      <th></th>\n",
       "      <th>Unnamed: 0</th>\n",
       "      <th>text</th>\n",
       "      <th>class</th>\n",
       "    </tr>\n",
       "    <tr>\n",
       "      <th>id</th>\n",
       "      <th></th>\n",
       "      <th></th>\n",
       "      <th></th>\n",
       "    </tr>\n",
       "  </thead>\n",
       "  <tbody>\n",
       "    <tr>\n",
       "      <th>1039</th>\n",
       "      <td>0</td>\n",
       "      <td>اريد ان اقول شكرا جزيلا لكل واحد منكم اتصل بي ...</td>\n",
       "      <td>anxiety</td>\n",
       "    </tr>\n",
       "    <tr>\n",
       "      <th>1682</th>\n",
       "      <td>1</td>\n",
       "      <td>فعلت فقط بحاجة شكرا على الفرصة</td>\n",
       "      <td>lonely</td>\n",
       "    </tr>\n",
       "    <tr>\n",
       "      <th>5275</th>\n",
       "      <td>2</td>\n",
       "      <td>istfied gon na cry pos</td>\n",
       "      <td>stress</td>\n",
       "    </tr>\n",
       "    <tr>\n",
       "      <th>6069</th>\n",
       "      <td>3</td>\n",
       "      <td>RT بحاجة متسقة اللعنة الأصدقاء</td>\n",
       "      <td>anxiety</td>\n",
       "    </tr>\n",
       "    <tr>\n",
       "      <th>6087</th>\n",
       "      <td>4</td>\n",
       "      <td>RT سعيد لأننا أخيرًا نتحدث عن deshaun و denver...</td>\n",
       "      <td>normal</td>\n",
       "    </tr>\n",
       "    <tr>\n",
       "      <th>...</th>\n",
       "      <td>...</td>\n",
       "      <td>...</td>\n",
       "      <td>...</td>\n",
       "    </tr>\n",
       "    <tr>\n",
       "      <th>7813</th>\n",
       "      <td>39761</td>\n",
       "      <td>أنا رماد عصبي لأطير من خلاله</td>\n",
       "      <td>anxiety</td>\n",
       "    </tr>\n",
       "    <tr>\n",
       "      <th>1305</th>\n",
       "      <td>39762</td>\n",
       "      <td>دا معركة معرف بحاجة النسخ الاحتياطي lvl grimnir</td>\n",
       "      <td>lonely</td>\n",
       "    </tr>\n",
       "    <tr>\n",
       "      <th>5192</th>\n",
       "      <td>39763</td>\n",
       "      <td>ثلج كثيرًا من المرح في الكتابة عن أيام الثلج ل...</td>\n",
       "      <td>anxiety</td>\n",
       "    </tr>\n",
       "    <tr>\n",
       "      <th>3607</th>\n",
       "      <td>39764</td>\n",
       "      <td>اكتشف زملائي في السكن حساسًا للوقت جدًا اليوم ...</td>\n",
       "      <td>anxiety</td>\n",
       "    </tr>\n",
       "    <tr>\n",
       "      <th>1797</th>\n",
       "      <td>39765</td>\n",
       "      <td>فطيرة الشوفان كريم فطيرة الجبن بحاجة إلى ذلك</td>\n",
       "      <td>lonely</td>\n",
       "    </tr>\n",
       "  </tbody>\n",
       "</table>\n",
       "<p>39766 rows × 3 columns</p>\n",
       "</div>"
      ],
      "text/plain": [
       "      Unnamed: 0                                               text    class\n",
       "id                                                                          \n",
       "1039           0  اريد ان اقول شكرا جزيلا لكل واحد منكم اتصل بي ...  anxiety\n",
       "1682           1                     فعلت فقط بحاجة شكرا على الفرصة   lonely\n",
       "5275           2                             istfied gon na cry pos   stress\n",
       "6069           3                     RT بحاجة متسقة اللعنة الأصدقاء  anxiety\n",
       "6087           4  RT سعيد لأننا أخيرًا نتحدث عن deshaun و denver...   normal\n",
       "...          ...                                                ...      ...\n",
       "7813       39761                       أنا رماد عصبي لأطير من خلاله  anxiety\n",
       "1305       39762    دا معركة معرف بحاجة النسخ الاحتياطي lvl grimnir   lonely\n",
       "5192       39763  ثلج كثيرًا من المرح في الكتابة عن أيام الثلج ل...  anxiety\n",
       "3607       39764  اكتشف زملائي في السكن حساسًا للوقت جدًا اليوم ...  anxiety\n",
       "1797       39765       فطيرة الشوفان كريم فطيرة الجبن بحاجة إلى ذلك   lonely\n",
       "\n",
       "[39766 rows x 3 columns]"
      ]
     },
     "execution_count": 8,
     "metadata": {},
     "output_type": "execute_result"
    }
   ],
   "source": [
    "# Translate the text column\n",
    "translater=Translator()\n",
    "\n",
    "data['text'] = data['text'].astype(str)\n",
    "data['text']=data['text'].apply(translater.translate,src=\"auto\",dest=\"ar\").apply(getattr,args=(\"text\",))\n",
    "\n",
    "data"
   ]
  },
  {
   "cell_type": "code",
   "execution_count": 15,
   "metadata": {
    "execution": {
     "iopub.execute_input": "2022-10-31T20:33:19.655018Z",
     "iopub.status.busy": "2022-10-31T20:33:19.654367Z",
     "iopub.status.idle": "2022-10-31T20:33:19.853080Z",
     "shell.execute_reply": "2022-10-31T20:33:19.850995Z",
     "shell.execute_reply.started": "2022-10-31T20:33:19.654983Z"
    }
   },
   "outputs": [],
   "source": [
    "# save the new column in a new csv file\n",
    "data.to_csv('natef.csv',encoding='utf-8-sig')"
   ]
  },
  {
   "cell_type": "code",
   "execution_count": 16,
   "metadata": {
    "execution": {
     "iopub.execute_input": "2022-10-31T20:35:38.059177Z",
     "iopub.status.busy": "2022-10-31T20:35:38.058778Z",
     "iopub.status.idle": "2022-10-31T20:35:38.289436Z",
     "shell.execute_reply": "2022-10-31T20:35:38.288522Z",
     "shell.execute_reply.started": "2022-10-31T20:35:38.059145Z"
    }
   },
   "outputs": [
    {
     "data": {
      "text/html": [
       "<div>\n",
       "<style scoped>\n",
       "    .dataframe tbody tr th:only-of-type {\n",
       "        vertical-align: middle;\n",
       "    }\n",
       "\n",
       "    .dataframe tbody tr th {\n",
       "        vertical-align: top;\n",
       "    }\n",
       "\n",
       "    .dataframe thead th {\n",
       "        text-align: right;\n",
       "    }\n",
       "</style>\n",
       "<table border=\"1\" class=\"dataframe\">\n",
       "  <thead>\n",
       "    <tr style=\"text-align: right;\">\n",
       "      <th></th>\n",
       "      <th>Unnamed: 0</th>\n",
       "      <th>text</th>\n",
       "      <th>class</th>\n",
       "    </tr>\n",
       "    <tr>\n",
       "      <th>id</th>\n",
       "      <th></th>\n",
       "      <th></th>\n",
       "      <th></th>\n",
       "    </tr>\n",
       "  </thead>\n",
       "  <tbody>\n",
       "    <tr>\n",
       "      <th>1039</th>\n",
       "      <td>0</td>\n",
       "      <td>اريد ان اقول شكرا جزيلا لكل واحد منكم اتصل بي ...</td>\n",
       "      <td>anxiety</td>\n",
       "    </tr>\n",
       "    <tr>\n",
       "      <th>1682</th>\n",
       "      <td>1</td>\n",
       "      <td>فعلت فقط بحاجة شكرا على الفرصة</td>\n",
       "      <td>lonely</td>\n",
       "    </tr>\n",
       "    <tr>\n",
       "      <th>5275</th>\n",
       "      <td>2</td>\n",
       "      <td>istfied gon na cry pos</td>\n",
       "      <td>stress</td>\n",
       "    </tr>\n",
       "    <tr>\n",
       "      <th>6069</th>\n",
       "      <td>3</td>\n",
       "      <td>RT بحاجة متسقة اللعنة الأصدقاء</td>\n",
       "      <td>anxiety</td>\n",
       "    </tr>\n",
       "    <tr>\n",
       "      <th>6087</th>\n",
       "      <td>4</td>\n",
       "      <td>RT سعيد لأننا أخيرًا نتحدث عن deshaun و denver...</td>\n",
       "      <td>normal</td>\n",
       "    </tr>\n",
       "    <tr>\n",
       "      <th>...</th>\n",
       "      <td>...</td>\n",
       "      <td>...</td>\n",
       "      <td>...</td>\n",
       "    </tr>\n",
       "    <tr>\n",
       "      <th>7813</th>\n",
       "      <td>39761</td>\n",
       "      <td>أنا رماد عصبي لأطير من خلاله</td>\n",
       "      <td>anxiety</td>\n",
       "    </tr>\n",
       "    <tr>\n",
       "      <th>1305</th>\n",
       "      <td>39762</td>\n",
       "      <td>دا معركة معرف بحاجة النسخ الاحتياطي lvl grimnir</td>\n",
       "      <td>lonely</td>\n",
       "    </tr>\n",
       "    <tr>\n",
       "      <th>5192</th>\n",
       "      <td>39763</td>\n",
       "      <td>ثلج كثيرًا من المرح في الكتابة عن أيام الثلج ل...</td>\n",
       "      <td>anxiety</td>\n",
       "    </tr>\n",
       "    <tr>\n",
       "      <th>3607</th>\n",
       "      <td>39764</td>\n",
       "      <td>اكتشف زملائي في السكن حساسًا للوقت جدًا اليوم ...</td>\n",
       "      <td>anxiety</td>\n",
       "    </tr>\n",
       "    <tr>\n",
       "      <th>1797</th>\n",
       "      <td>39765</td>\n",
       "      <td>فطيرة الشوفان كريم فطيرة الجبن بحاجة إلى ذلك</td>\n",
       "      <td>lonely</td>\n",
       "    </tr>\n",
       "  </tbody>\n",
       "</table>\n",
       "<p>39766 rows × 3 columns</p>\n",
       "</div>"
      ],
      "text/plain": [
       "      Unnamed: 0                                               text    class\n",
       "id                                                                          \n",
       "1039           0  اريد ان اقول شكرا جزيلا لكل واحد منكم اتصل بي ...  anxiety\n",
       "1682           1                     فعلت فقط بحاجة شكرا على الفرصة   lonely\n",
       "5275           2                             istfied gon na cry pos   stress\n",
       "6069           3                     RT بحاجة متسقة اللعنة الأصدقاء  anxiety\n",
       "6087           4  RT سعيد لأننا أخيرًا نتحدث عن deshaun و denver...   normal\n",
       "...          ...                                                ...      ...\n",
       "7813       39761                       أنا رماد عصبي لأطير من خلاله  anxiety\n",
       "1305       39762    دا معركة معرف بحاجة النسخ الاحتياطي lvl grimnir   lonely\n",
       "5192       39763  ثلج كثيرًا من المرح في الكتابة عن أيام الثلج ل...  anxiety\n",
       "3607       39764  اكتشف زملائي في السكن حساسًا للوقت جدًا اليوم ...  anxiety\n",
       "1797       39765       فطيرة الشوفان كريم فطيرة الجبن بحاجة إلى ذلك   lonely\n",
       "\n",
       "[39766 rows x 3 columns]"
      ]
     },
     "execution_count": 16,
     "metadata": {},
     "output_type": "execute_result"
    }
   ],
   "source": [
    "# read the new csv file to check\n",
    "data=pd.read_csv('../input/ffdddd/natef.csv',index_col='id')\n",
    "data"
   ]
  },
  {
   "cell_type": "code",
   "execution_count": 17,
   "metadata": {
    "execution": {
     "iopub.execute_input": "2022-10-31T20:35:49.289690Z",
     "iopub.status.busy": "2022-10-31T20:35:49.288559Z",
     "iopub.status.idle": "2022-10-31T20:57:41.879508Z",
     "shell.execute_reply": "2022-10-31T20:57:41.878199Z",
     "shell.execute_reply.started": "2022-10-31T20:35:49.289653Z"
    }
   },
   "outputs": [],
   "source": [
    "# Translate the class column\n",
    "data['class']=data['class'].astype(str)\n",
    "data['class']=data['class'].apply(translater.translate,src=\"auto\",dest=\"ar\").apply(getattr,args=(\"text\",))\n"
   ]
  },
  {
   "cell_type": "code",
   "execution_count": 18,
   "metadata": {
    "execution": {
     "iopub.execute_input": "2022-10-31T21:03:06.740475Z",
     "iopub.status.busy": "2022-10-31T21:03:06.740035Z",
     "iopub.status.idle": "2022-10-31T21:03:06.773114Z",
     "shell.execute_reply": "2022-10-31T21:03:06.771716Z",
     "shell.execute_reply.started": "2022-10-31T21:03:06.740439Z"
    }
   },
   "outputs": [
    {
     "data": {
      "text/html": [
       "<div>\n",
       "<style scoped>\n",
       "    .dataframe tbody tr th:only-of-type {\n",
       "        vertical-align: middle;\n",
       "    }\n",
       "\n",
       "    .dataframe tbody tr th {\n",
       "        vertical-align: top;\n",
       "    }\n",
       "\n",
       "    .dataframe thead th {\n",
       "        text-align: right;\n",
       "    }\n",
       "</style>\n",
       "<table border=\"1\" class=\"dataframe\">\n",
       "  <thead>\n",
       "    <tr style=\"text-align: right;\">\n",
       "      <th></th>\n",
       "      <th>Unnamed: 0</th>\n",
       "      <th>text</th>\n",
       "      <th>class</th>\n",
       "    </tr>\n",
       "    <tr>\n",
       "      <th>id</th>\n",
       "      <th></th>\n",
       "      <th></th>\n",
       "      <th></th>\n",
       "    </tr>\n",
       "  </thead>\n",
       "  <tbody>\n",
       "    <tr>\n",
       "      <th>1039</th>\n",
       "      <td>0</td>\n",
       "      <td>اريد ان اقول شكرا جزيلا لكل واحد منكم اتصل بي ...</td>\n",
       "      <td>القلق</td>\n",
       "    </tr>\n",
       "    <tr>\n",
       "      <th>1682</th>\n",
       "      <td>1</td>\n",
       "      <td>فعلت فقط بحاجة شكرا على الفرصة</td>\n",
       "      <td>وحيد</td>\n",
       "    </tr>\n",
       "    <tr>\n",
       "      <th>5275</th>\n",
       "      <td>2</td>\n",
       "      <td>istfied gon na cry pos</td>\n",
       "      <td>ضغط عصبى</td>\n",
       "    </tr>\n",
       "    <tr>\n",
       "      <th>6069</th>\n",
       "      <td>3</td>\n",
       "      <td>RT بحاجة متسقة اللعنة الأصدقاء</td>\n",
       "      <td>القلق</td>\n",
       "    </tr>\n",
       "    <tr>\n",
       "      <th>6087</th>\n",
       "      <td>4</td>\n",
       "      <td>RT سعيد لأننا أخيرًا نتحدث عن deshaun و denver...</td>\n",
       "      <td>عادي</td>\n",
       "    </tr>\n",
       "    <tr>\n",
       "      <th>...</th>\n",
       "      <td>...</td>\n",
       "      <td>...</td>\n",
       "      <td>...</td>\n",
       "    </tr>\n",
       "    <tr>\n",
       "      <th>7813</th>\n",
       "      <td>39761</td>\n",
       "      <td>أنا رماد عصبي لأطير من خلاله</td>\n",
       "      <td>القلق</td>\n",
       "    </tr>\n",
       "    <tr>\n",
       "      <th>1305</th>\n",
       "      <td>39762</td>\n",
       "      <td>دا معركة معرف بحاجة النسخ الاحتياطي lvl grimnir</td>\n",
       "      <td>وحيد</td>\n",
       "    </tr>\n",
       "    <tr>\n",
       "      <th>5192</th>\n",
       "      <td>39763</td>\n",
       "      <td>ثلج كثيرًا من المرح في الكتابة عن أيام الثلج ل...</td>\n",
       "      <td>القلق</td>\n",
       "    </tr>\n",
       "    <tr>\n",
       "      <th>3607</th>\n",
       "      <td>39764</td>\n",
       "      <td>اكتشف زملائي في السكن حساسًا للوقت جدًا اليوم ...</td>\n",
       "      <td>القلق</td>\n",
       "    </tr>\n",
       "    <tr>\n",
       "      <th>1797</th>\n",
       "      <td>39765</td>\n",
       "      <td>فطيرة الشوفان كريم فطيرة الجبن بحاجة إلى ذلك</td>\n",
       "      <td>وحيد</td>\n",
       "    </tr>\n",
       "  </tbody>\n",
       "</table>\n",
       "<p>39766 rows × 3 columns</p>\n",
       "</div>"
      ],
      "text/plain": [
       "      Unnamed: 0                                               text     class\n",
       "id                                                                           \n",
       "1039           0  اريد ان اقول شكرا جزيلا لكل واحد منكم اتصل بي ...     القلق\n",
       "1682           1                     فعلت فقط بحاجة شكرا على الفرصة      وحيد\n",
       "5275           2                             istfied gon na cry pos  ضغط عصبى\n",
       "6069           3                     RT بحاجة متسقة اللعنة الأصدقاء     القلق\n",
       "6087           4  RT سعيد لأننا أخيرًا نتحدث عن deshaun و denver...      عادي\n",
       "...          ...                                                ...       ...\n",
       "7813       39761                       أنا رماد عصبي لأطير من خلاله     القلق\n",
       "1305       39762    دا معركة معرف بحاجة النسخ الاحتياطي lvl grimnir      وحيد\n",
       "5192       39763  ثلج كثيرًا من المرح في الكتابة عن أيام الثلج ل...     القلق\n",
       "3607       39764  اكتشف زملائي في السكن حساسًا للوقت جدًا اليوم ...     القلق\n",
       "1797       39765       فطيرة الشوفان كريم فطيرة الجبن بحاجة إلى ذلك      وحيد\n",
       "\n",
       "[39766 rows x 3 columns]"
      ]
     },
     "execution_count": 18,
     "metadata": {},
     "output_type": "execute_result"
    }
   ],
   "source": [
    "data"
   ]
  },
  {
   "cell_type": "code",
   "execution_count": 19,
   "metadata": {
    "execution": {
     "iopub.execute_input": "2022-10-31T21:03:12.356944Z",
     "iopub.status.busy": "2022-10-31T21:03:12.356264Z",
     "iopub.status.idle": "2022-10-31T21:03:12.564633Z",
     "shell.execute_reply": "2022-10-31T21:03:12.563835Z",
     "shell.execute_reply.started": "2022-10-31T21:03:12.356908Z"
    }
   },
   "outputs": [],
   "source": [
    "# save the translated columns (text, class) in a new csv\n",
    "data.to_csv('final_data_ar.csv',encoding='utf-8-sig')"
   ]
  }
 ],
 "metadata": {
  "kernelspec": {
   "display_name": "Python 3",
   "language": "python",
   "name": "python3"
  },
  "language_info": {
   "codemirror_mode": {
    "name": "ipython",
    "version": 3
   },
   "file_extension": ".py",
   "mimetype": "text/x-python",
   "name": "python",
   "nbconvert_exporter": "python",
   "pygments_lexer": "ipython3",
   "version": "3.7.4"
  }
 },
 "nbformat": 4,
 "nbformat_minor": 4
}
