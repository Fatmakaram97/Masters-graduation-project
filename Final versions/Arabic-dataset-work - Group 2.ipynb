{
 "cells": [
  {
   "cell_type": "markdown",
   "metadata": {},
   "source": [
    "# Arabic dataset\n",
    "we used kaggle platform to run this notebook"
   ]
  },
  {
   "cell_type": "markdown",
   "metadata": {},
   "source": [
    "## Import required libraries"
   ]
  },
  {
   "cell_type": "code",
   "execution_count": 1,
   "metadata": {
    "_cell_guid": "b1076dfc-b9ad-4769-8c92-a6c4dae69d19",
    "_uuid": "8f2839f25d086af736a60e9eeb907d3b93b6e0e5",
    "execution": {
     "iopub.execute_input": "2022-10-30T18:03:15.656740Z",
     "iopub.status.busy": "2022-10-30T18:03:15.656148Z",
     "iopub.status.idle": "2022-10-30T18:03:15.677813Z",
     "shell.execute_reply": "2022-10-30T18:03:15.676580Z"
    },
    "papermill": {
     "duration": 0.041811,
     "end_time": "2022-10-30T18:03:15.680918",
     "exception": false,
     "start_time": "2022-10-30T18:03:15.639107",
     "status": "completed"
    },
    "tags": []
   },
   "outputs": [
    {
     "name": "stdout",
     "output_type": "stream",
     "text": [
      "/kaggle/input/mentalhealth-ar/final_data_ar.csv\n"
     ]
    }
   ],
   "source": [
    "# This Python 3 environment comes with many helpful analytics libraries installed\n",
    "# It is defined by the kaggle/python Docker image: https://github.com/kaggle/docker-python\n",
    "# For example, here's several helpful packages to load\n",
    "\n",
    "import numpy as np # linear algebra\n",
    "import pandas as pd # data processing, CSV file I/O (e.g. pd.read_csv)\n",
    "\n",
    "# Input data files are available in the read-only \"../input/\" directory\n",
    "# For example, running this (by clicking run or pressing Shift+Enter) will list all files under the input directory\n",
    "\n",
    "import os\n",
    "for dirname, _, filenames in os.walk('/kaggle/input'):\n",
    "    for filename in filenames:\n",
    "        print(os.path.join(dirname, filename))\n",
    "\n",
    "# You can write up to 20GB to the current directory (/kaggle/working/) that gets preserved as output when you create a version using \"Save & Run All\" \n",
    "# You can also write temporary files to /kaggle/temp/, but they won't be saved outside of the current session"
   ]
  },
  {
   "cell_type": "code",
   "execution_count": 2,
   "metadata": {
    "execution": {
     "iopub.execute_input": "2022-10-30T18:03:15.712877Z",
     "iopub.status.busy": "2022-10-30T18:03:15.712349Z",
     "iopub.status.idle": "2022-10-30T18:03:32.401020Z",
     "shell.execute_reply": "2022-10-30T18:03:32.399590Z"
    },
    "papermill": {
     "duration": 16.709188,
     "end_time": "2022-10-30T18:03:32.404143",
     "exception": false,
     "start_time": "2022-10-30T18:03:15.694955",
     "status": "completed"
    },
    "tags": []
   },
   "outputs": [
    {
     "name": "stdout",
     "output_type": "stream",
     "text": [
      "Collecting Tashaphyne\r\n",
      "  Downloading Tashaphyne-0.3.6-py3-none-any.whl (251 kB)\r\n",
      "\u001b[2K     \u001b[90m━━━━━━━━━━━━━━━━━━━━━━━━━━━━━━━━━━━━━\u001b[0m \u001b[32m251.5/251.5 kB\u001b[0m \u001b[31m463.5 kB/s\u001b[0m eta \u001b[36m0:00:00\u001b[0m\r\n",
      "\u001b[?25hRequirement already satisfied: pyarabic in /opt/conda/lib/python3.7/site-packages (from Tashaphyne) (0.6.15)\r\n",
      "Requirement already satisfied: six>=1.14.0 in /opt/conda/lib/python3.7/site-packages (from pyarabic->Tashaphyne) (1.15.0)\r\n",
      "Installing collected packages: Tashaphyne\r\n",
      "Successfully installed Tashaphyne-0.3.6\r\n",
      "\u001b[33mWARNING: Running pip as the 'root' user can result in broken permissions and conflicting behaviour with the system package manager. It is recommended to use a virtual environment instead: https://pip.pypa.io/warnings/venv\u001b[0m\u001b[33m\r\n",
      "\u001b[0m"
     ]
    }
   ],
   "source": [
    "!pip install Tashaphyne"
   ]
  },
  {
   "cell_type": "code",
   "execution_count": 3,
   "metadata": {
    "execution": {
     "iopub.execute_input": "2022-10-30T18:03:32.435451Z",
     "iopub.status.busy": "2022-10-30T18:03:32.434972Z",
     "iopub.status.idle": "2022-10-30T18:03:34.555010Z",
     "shell.execute_reply": "2022-10-30T18:03:34.553605Z"
    },
    "papermill": {
     "duration": 2.139646,
     "end_time": "2022-10-30T18:03:34.558274",
     "exception": false,
     "start_time": "2022-10-30T18:03:32.418628",
     "status": "completed"
    },
    "tags": []
   },
   "outputs": [],
   "source": [
    "import pandas as pd \n",
    "import nltk \n",
    "import re\n",
    "\n",
    "import seaborn as sns\n",
    "\n",
    "import matplotlib.pyplot as plt \n",
    "from sklearn.model_selection import train_test_split\n",
    "\n",
    "from nltk.stem.snowball import SnowballStemmer, ArabicStemmer\n",
    "from tashaphyne.stemming import ArabicLightStemmer\n",
    "\n",
    "from warnings import filterwarnings\n",
    "filterwarnings(\"ignore\")"
   ]
  },
  {
   "cell_type": "markdown",
   "metadata": {
    "papermill": {
     "duration": 0.013781,
     "end_time": "2022-10-30T18:03:34.586694",
     "exception": false,
     "start_time": "2022-10-30T18:03:34.572913",
     "status": "completed"
    },
    "tags": []
   },
   "source": [
    "#### Helper Funs "
   ]
  },
  {
   "cell_type": "code",
   "execution_count": 4,
   "metadata": {
    "execution": {
     "iopub.execute_input": "2022-10-30T18:03:34.617248Z",
     "iopub.status.busy": "2022-10-30T18:03:34.616779Z",
     "iopub.status.idle": "2022-10-30T18:03:34.629904Z",
     "shell.execute_reply": "2022-10-30T18:03:34.628851Z"
    },
    "papermill": {
     "duration": 0.031482,
     "end_time": "2022-10-30T18:03:34.632174",
     "exception": false,
     "start_time": "2022-10-30T18:03:34.600692",
     "status": "completed"
    },
    "tags": []
   },
   "outputs": [],
   "source": [
    "def get_stemming(word):\n",
    "    arabic_stemming = ArabicLightStemmer()\n",
    "    return (\n",
    "        arabic_stemming.light_stem(word),\n",
    "        arabic_stemming.get_stem(),\n",
    "        arabic_stemming.get_root(),\n",
    "        arabic_stemming.get_prefix(),\n",
    "        arabic_stemming.get_suffix(),\n",
    "        arabic_stemming.get_affix()\n",
    "    )\n",
    "\n",
    "def normalize_text(text):\n",
    "    \"\"\"\n",
    "        this function used to convert all letter to standar ones \n",
    "        \n",
    "    \"\"\"\n",
    "    \n",
    "    return text # due to all the given text is translated from google translate we don't need to  normalize\n",
    "    text = text.strip()\n",
    "    text = re.sub(\"[إأٱآا]\", \"ا\", text)\n",
    "    text = re.sub(\"ى\" , \"ي\", text)\n",
    "    text = re.sub(\"ؤ\", \"ء\", text)\n",
    "    text = re.sub(\"ئ\", \"ء\", text)\n",
    "    text = re.sub(\"ة\" , \"ه\", text)\n",
    "    text = re.sub(\"[ًٌٍَُِّ]\", \"\", text)\n",
    "    return text\n",
    "\n",
    "def basic_cleaning(text):\n",
    "    \"\"\"\n",
    "        this function used to perform the basic cleaning steps like \n",
    "            1. remove digit \n",
    "            2. remove repeated words \n",
    "            3. remove emojis \n",
    "            4. remove hashtage and \n",
    "        \n",
    "    \"\"\"\n",
    "    \n",
    "    #the stemmer requires a language parameter\n",
    "    text =  \" \".join([ snow_stemmer.stem(word) for word in text.split()])\n",
    "    text = normalize_text(text)\n",
    "    # use the Ascii code to detect arabic letters only \n",
    "    text = re.sub(r'[^0-9\\u0600-\\u06ff\\u0750-\\u077f\\ufb50-\\ufbc1\\ufbd3-\\ufd3f\\ufd50-\\ufd8f\\ufd50-\\ufd8f\\ufe70-\\ufefc\\uFDF0-\\uFDFD]+', ' ', text)\n",
    "    # remove digits \n",
    "    text = re.sub(\"[0-9]+\", \"\", text)\n",
    "    text = re.sub(\"[#@$%^&*!.,’/،ـ÷×٪؛<>؟~]\", \"\", text)\n",
    "    # stemmer      \n",
    "    text = \" \".join([get_stemming(word)[1] for word in text.split()])\n",
    "    \n",
    "    text = \" \".join([ word for word in text.split() if not (word in arb_stopwords or word in normalized_arb_stopwords)])\n",
    "    return text"
   ]
  },
  {
   "cell_type": "markdown",
   "metadata": {
    "papermill": {
     "duration": 0.013624,
     "end_time": "2022-10-30T18:03:34.660474",
     "exception": false,
     "start_time": "2022-10-30T18:03:34.646850",
     "status": "completed"
    },
    "tags": []
   },
   "source": [
    "## Load dataset"
   ]
  },
  {
   "cell_type": "code",
   "execution_count": 5,
   "metadata": {
    "execution": {
     "iopub.execute_input": "2022-10-30T18:03:34.690803Z",
     "iopub.status.busy": "2022-10-30T18:03:34.689898Z",
     "iopub.status.idle": "2022-10-30T18:03:35.097783Z",
     "shell.execute_reply": "2022-10-30T18:03:35.096150Z"
    },
    "papermill": {
     "duration": 0.426159,
     "end_time": "2022-10-30T18:03:35.100728",
     "exception": false,
     "start_time": "2022-10-30T18:03:34.674569",
     "status": "completed"
    },
    "tags": []
   },
   "outputs": [],
   "source": [
    "df = pd.read_csv(\"../input/mentalhealth-ar/final_data_ar.csv\")"
   ]
  },
  {
   "cell_type": "code",
   "execution_count": 6,
   "metadata": {
    "execution": {
     "iopub.execute_input": "2022-10-30T18:03:35.132488Z",
     "iopub.status.busy": "2022-10-30T18:03:35.132040Z",
     "iopub.status.idle": "2022-10-30T18:03:35.152816Z",
     "shell.execute_reply": "2022-10-30T18:03:35.151447Z"
    },
    "papermill": {
     "duration": 0.040538,
     "end_time": "2022-10-30T18:03:35.155903",
     "exception": false,
     "start_time": "2022-10-30T18:03:35.115365",
     "status": "completed"
    },
    "tags": []
   },
   "outputs": [],
   "source": [
    "df.rename(columns= {\"arabic_class\": \"class\", \"arabic_text\": \"text\"}, inplace=True)\n",
    "df = df[[\"text\", \"class\"]]"
   ]
  },
  {
   "cell_type": "markdown",
   "metadata": {
    "papermill": {
     "duration": 0.015292,
     "end_time": "2022-10-30T18:03:35.185670",
     "exception": false,
     "start_time": "2022-10-30T18:03:35.170378",
     "status": "completed"
    },
    "tags": []
   },
   "source": [
    "### Preprocessing the data"
   ]
  },
  {
   "cell_type": "code",
   "execution_count": 7,
   "metadata": {
    "execution": {
     "iopub.execute_input": "2022-10-30T18:03:35.216263Z",
     "iopub.status.busy": "2022-10-30T18:03:35.215771Z",
     "iopub.status.idle": "2022-10-30T18:03:35.229076Z",
     "shell.execute_reply": "2022-10-30T18:03:35.227939Z"
    },
    "papermill": {
     "duration": 0.031906,
     "end_time": "2022-10-30T18:03:35.231839",
     "exception": false,
     "start_time": "2022-10-30T18:03:35.199933",
     "status": "completed"
    },
    "tags": []
   },
   "outputs": [],
   "source": [
    "\n",
    "#the stemmer requires a language parameter\n",
    "snow_stemmer = SnowballStemmer(language='arabic')\n",
    "\n",
    "arb_stopwords = set(nltk.corpus.stopwords.words(\"arabic\"))\n",
    "normalized_arb_stopwords = [normalize_text(sw) for sw in arb_stopwords]"
   ]
  },
  {
   "cell_type": "code",
   "execution_count": 8,
   "metadata": {
    "execution": {
     "iopub.execute_input": "2022-10-30T18:03:35.262653Z",
     "iopub.status.busy": "2022-10-30T18:03:35.261728Z",
     "iopub.status.idle": "2022-10-30T18:23:50.078809Z",
     "shell.execute_reply": "2022-10-30T18:23:50.077853Z"
    },
    "papermill": {
     "duration": 1214.835849,
     "end_time": "2022-10-30T18:23:50.081790",
     "exception": false,
     "start_time": "2022-10-30T18:03:35.245941",
     "status": "completed"
    },
    "tags": []
   },
   "outputs": [],
   "source": [
    "df[\"clean_text\"] = df[\"text\"].apply(basic_cleaning)"
   ]
  },
  {
   "cell_type": "code",
   "execution_count": 9,
   "metadata": {
    "execution": {
     "iopub.execute_input": "2022-10-30T18:23:50.112495Z",
     "iopub.status.busy": "2022-10-30T18:23:50.112040Z",
     "iopub.status.idle": "2022-10-30T18:23:50.143445Z",
     "shell.execute_reply": "2022-10-30T18:23:50.142154Z"
    },
    "papermill": {
     "duration": 0.049636,
     "end_time": "2022-10-30T18:23:50.145970",
     "exception": false,
     "start_time": "2022-10-30T18:23:50.096334",
     "status": "completed"
    },
    "tags": []
   },
   "outputs": [
    {
     "data": {
      "text/html": [
       "<div>\n",
       "<style scoped>\n",
       "    .dataframe tbody tr th:only-of-type {\n",
       "        vertical-align: middle;\n",
       "    }\n",
       "\n",
       "    .dataframe tbody tr th {\n",
       "        vertical-align: top;\n",
       "    }\n",
       "\n",
       "    .dataframe thead th {\n",
       "        text-align: right;\n",
       "    }\n",
       "</style>\n",
       "<table border=\"1\" class=\"dataframe\">\n",
       "  <thead>\n",
       "    <tr style=\"text-align: right;\">\n",
       "      <th></th>\n",
       "      <th>text</th>\n",
       "      <th>clean_text</th>\n",
       "      <th>class</th>\n",
       "    </tr>\n",
       "  </thead>\n",
       "  <tbody>\n",
       "    <tr>\n",
       "      <th>0</th>\n",
       "      <td>RTmaideeeni: أريد أن أقول شكراً جزيلاً لكل فرد...</td>\n",
       "      <td>ريد قول شكر جزيل رد واصل قط تاكد نن موافق</td>\n",
       "      <td>القلق</td>\n",
       "    </tr>\n",
       "    <tr>\n",
       "      <th>1</th>\n",
       "      <td>تضمين التغريدة أنا فقط بحاجة إلى 320! شكرا على...</td>\n",
       "      <td>ضم غريد قط حاج لى شكر رص</td>\n",
       "      <td>وحيد</td>\n",
       "    </tr>\n",
       "    <tr>\n",
       "      <th>2</th>\n",
       "      <td>SAD_istfied سأبكي / نقاط البيع</td>\n",
       "      <td>ساب قاط يع</td>\n",
       "      <td>ضغط عصبى</td>\n",
       "    </tr>\n",
       "    <tr>\n",
       "      <th>3</th>\n",
       "      <td>RTJoshOfficial___: أحتاج إلى رفيق اللعنة الثابت</td>\n",
       "      <td>حتاج لى رفيق ثا</td>\n",
       "      <td>القلق</td>\n",
       "    </tr>\n",
       "    <tr>\n",
       "      <th>4</th>\n",
       "      <td>RTmikegolicjr: سعيد لأننا نتحدث أخيرًا عن Desh...</td>\n",
       "      <td>سعيد ان تحدث خير صو عال ان</td>\n",
       "      <td>عادي</td>\n",
       "    </tr>\n",
       "    <tr>\n",
       "      <th>...</th>\n",
       "      <td>...</td>\n",
       "      <td>...</td>\n",
       "      <td>...</td>\n",
       "    </tr>\n",
       "    <tr>\n",
       "      <th>39761</th>\n",
       "      <td>أنا متوتر الرماد لأطير من خلاله</td>\n",
       "      <td>متوتر رماد طير خلال</td>\n",
       "      <td>القلق</td>\n",
       "    </tr>\n",
       "    <tr>\n",
       "      <th>39762</th>\n",
       "      <td>64E7B6DA: معرف المعركة\\r\\nأحتاج نسخة احتياطية!...</td>\n",
       "      <td>معرف معر حتاج سخ احتياط مستوى غريمنير</td>\n",
       "      <td>وحيد</td>\n",
       "    </tr>\n",
       "    <tr>\n",
       "      <th>39763</th>\n",
       "      <td>الكثير من المرح ثلج الكتابة عن أيام الثلج لدين...</td>\n",
       "      <td>ثير مرح ثلج تاب يام ثلج لد وم مدهش تاب مشار رك...</td>\n",
       "      <td>القلق</td>\n",
       "    </tr>\n",
       "    <tr>\n",
       "      <th>39764</th>\n",
       "      <td>حساسة جدا للوقت. أنا ترانس واكتشف زملائي في ال...</td>\n",
       "      <td>حساس جد قت ترانس كتشف زملاء غرف مر وم طرد شق ح...</td>\n",
       "      <td>القلق</td>\n",
       "    </tr>\n",
       "    <tr>\n",
       "      <th>39765</th>\n",
       "      <td>فطيرة الشوفان كريم فطيرة الجبن ؟!\\r\\nأحتاج ذلك</td>\n",
       "      <td>طير شوف ريم طير جب حتاج</td>\n",
       "      <td>وحيد</td>\n",
       "    </tr>\n",
       "  </tbody>\n",
       "</table>\n",
       "<p>39766 rows × 3 columns</p>\n",
       "</div>"
      ],
      "text/plain": [
       "                                                    text  \\\n",
       "0      RTmaideeeni: أريد أن أقول شكراً جزيلاً لكل فرد...   \n",
       "1      تضمين التغريدة أنا فقط بحاجة إلى 320! شكرا على...   \n",
       "2                         SAD_istfied سأبكي / نقاط البيع   \n",
       "3        RTJoshOfficial___: أحتاج إلى رفيق اللعنة الثابت   \n",
       "4      RTmikegolicjr: سعيد لأننا نتحدث أخيرًا عن Desh...   \n",
       "...                                                  ...   \n",
       "39761                    أنا متوتر الرماد لأطير من خلاله   \n",
       "39762  64E7B6DA: معرف المعركة\\r\\nأحتاج نسخة احتياطية!...   \n",
       "39763  الكثير من المرح ثلج الكتابة عن أيام الثلج لدين...   \n",
       "39764  حساسة جدا للوقت. أنا ترانس واكتشف زملائي في ال...   \n",
       "39765     فطيرة الشوفان كريم فطيرة الجبن ؟!\\r\\nأحتاج ذلك   \n",
       "\n",
       "                                              clean_text     class  \n",
       "0              ريد قول شكر جزيل رد واصل قط تاكد نن موافق     القلق  \n",
       "1                               ضم غريد قط حاج لى شكر رص      وحيد  \n",
       "2                                             ساب قاط يع  ضغط عصبى  \n",
       "3                                        حتاج لى رفيق ثا     القلق  \n",
       "4                             سعيد ان تحدث خير صو عال ان      عادي  \n",
       "...                                                  ...       ...  \n",
       "39761                                متوتر رماد طير خلال     القلق  \n",
       "39762              معرف معر حتاج سخ احتياط مستوى غريمنير      وحيد  \n",
       "39763  ثير مرح ثلج تاب يام ثلج لد وم مدهش تاب مشار رك...     القلق  \n",
       "39764  حساس جد قت ترانس كتشف زملاء غرف مر وم طرد شق ح...     القلق  \n",
       "39765                            طير شوف ريم طير جب حتاج      وحيد  \n",
       "\n",
       "[39766 rows x 3 columns]"
      ]
     },
     "execution_count": 9,
     "metadata": {},
     "output_type": "execute_result"
    }
   ],
   "source": [
    "df[[\"text\", \"clean_text\", \"class\"]]"
   ]
  },
  {
   "cell_type": "markdown",
   "metadata": {
    "papermill": {
     "duration": 0.013917,
     "end_time": "2022-10-30T18:23:50.174555",
     "exception": false,
     "start_time": "2022-10-30T18:23:50.160638",
     "status": "completed"
    },
    "tags": []
   },
   "source": [
    "### Feature extraction "
   ]
  },
  {
   "cell_type": "code",
   "execution_count": 10,
   "metadata": {
    "execution": {
     "iopub.execute_input": "2022-10-30T18:23:50.204871Z",
     "iopub.status.busy": "2022-10-30T18:23:50.204420Z",
     "iopub.status.idle": "2022-10-30T18:23:50.348137Z",
     "shell.execute_reply": "2022-10-30T18:23:50.346768Z"
    },
    "papermill": {
     "duration": 0.162017,
     "end_time": "2022-10-30T18:23:50.350943",
     "exception": false,
     "start_time": "2022-10-30T18:23:50.188926",
     "status": "completed"
    },
    "tags": []
   },
   "outputs": [],
   "source": [
    "# import required libraries for this step\n",
    "from sklearn import preprocessing, model_selection, linear_model, naive_bayes, metrics, svm\n",
    "from sklearn.feature_extraction.text import CountVectorizer,TfidfVectorizer\n",
    "from sklearn import decomposition, ensemble\n",
    "\n",
    "\n",
    "\n",
    "from sklearn.metrics import classification_report\n",
    "from sklearn.metrics import accuracy_score\n",
    "\n",
    "\n",
    "from sklearn.pipeline import make_pipeline"
   ]
  },
  {
   "cell_type": "code",
   "execution_count": 11,
   "metadata": {
    "execution": {
     "iopub.execute_input": "2022-10-30T18:23:50.382045Z",
     "iopub.status.busy": "2022-10-30T18:23:50.381633Z",
     "iopub.status.idle": "2022-10-30T18:23:50.428499Z",
     "shell.execute_reply": "2022-10-30T18:23:50.427280Z"
    },
    "papermill": {
     "duration": 0.065307,
     "end_time": "2022-10-30T18:23:50.430899",
     "exception": false,
     "start_time": "2022-10-30T18:23:50.365592",
     "status": "completed"
    },
    "tags": []
   },
   "outputs": [
    {
     "data": {
      "text/plain": [
       "0    12585\n",
       "2    10022\n",
       "1     8599\n",
       "3     8560\n",
       "Name: class, dtype: int64"
      ]
     },
     "execution_count": 11,
     "metadata": {},
     "output_type": "execute_result"
    }
   ],
   "source": [
    "# encode the target variable\n",
    "encoder = preprocessing.LabelEncoder()\n",
    "num_class = len(np.unique(df[\"class\"].values))\n",
    "df['class'] = encoder.fit_transform(df['class'])\n",
    "# the following is the data after encoding\n",
    "df['class'].value_counts()"
   ]
  },
  {
   "cell_type": "code",
   "execution_count": 12,
   "metadata": {
    "execution": {
     "iopub.execute_input": "2022-10-30T18:23:50.462275Z",
     "iopub.status.busy": "2022-10-30T18:23:50.461615Z",
     "iopub.status.idle": "2022-10-30T18:23:50.516590Z",
     "shell.execute_reply": "2022-10-30T18:23:50.515678Z"
    },
    "papermill": {
     "duration": 0.073762,
     "end_time": "2022-10-30T18:23:50.519132",
     "exception": false,
     "start_time": "2022-10-30T18:23:50.445370",
     "status": "completed"
    },
    "tags": []
   },
   "outputs": [],
   "source": [
    "# split the features and the labels\n",
    "X = df['clean_text'].values.astype(\"U\")\n",
    "Y = df['class'].values.astype(\"U\")"
   ]
  },
  {
   "cell_type": "code",
   "execution_count": 13,
   "metadata": {
    "execution": {
     "iopub.execute_input": "2022-10-30T18:23:50.550629Z",
     "iopub.status.busy": "2022-10-30T18:23:50.550131Z",
     "iopub.status.idle": "2022-10-30T18:23:50.623051Z",
     "shell.execute_reply": "2022-10-30T18:23:50.621607Z"
    },
    "papermill": {
     "duration": 0.092213,
     "end_time": "2022-10-30T18:23:50.626058",
     "exception": false,
     "start_time": "2022-10-30T18:23:50.533845",
     "status": "completed"
    },
    "tags": []
   },
   "outputs": [],
   "source": [
    "# split the data into training and testing parts\n",
    "Xtrain, Xtest, Ytrain, Ytest = model_selection.train_test_split(X, Y, test_size= 0.25,stratify= Y)"
   ]
  },
  {
   "cell_type": "code",
   "execution_count": 14,
   "metadata": {
    "execution": {
     "iopub.execute_input": "2022-10-30T18:23:50.657366Z",
     "iopub.status.busy": "2022-10-30T18:23:50.656915Z",
     "iopub.status.idle": "2022-10-30T18:23:52.914799Z",
     "shell.execute_reply": "2022-10-30T18:23:52.913466Z"
    },
    "papermill": {
     "duration": 2.277432,
     "end_time": "2022-10-30T18:23:52.918155",
     "exception": false,
     "start_time": "2022-10-30T18:23:50.640723",
     "status": "completed"
    },
    "tags": []
   },
   "outputs": [],
   "source": [
    "# Feature Engineering\n",
    "cv = CountVectorizer()\n",
    "cv.fit_transform(X)\n",
    "cv_xtrain =  cv.transform(Xtrain)\n",
    "cv_xtest =  cv.transform(Xtest)\n",
    "\n",
    "\n",
    "# The following is word-level TF-IDF\n",
    "tv = TfidfVectorizer()\n",
    "tv.fit_transform(X)\n",
    "\n",
    "# Transform the training and validation data using TF-IDF object\n",
    "tv_xtrain =  tv.transform(Xtrain)\n",
    "tv_xtest =  tv.transform(Xtest)"
   ]
  },
  {
   "cell_type": "markdown",
   "metadata": {
    "papermill": {
     "duration": 0.014271,
     "end_time": "2022-10-30T18:23:52.947132",
     "exception": false,
     "start_time": "2022-10-30T18:23:52.932861",
     "status": "completed"
    },
    "tags": []
   },
   "source": [
    "## Machine Learning models"
   ]
  },
  {
   "cell_type": "code",
   "execution_count": 15,
   "metadata": {
    "execution": {
     "iopub.execute_input": "2022-10-30T18:23:52.979059Z",
     "iopub.status.busy": "2022-10-30T18:23:52.978596Z",
     "iopub.status.idle": "2022-10-30T18:23:52.984534Z",
     "shell.execute_reply": "2022-10-30T18:23:52.983393Z"
    },
    "papermill": {
     "duration": 0.024515,
     "end_time": "2022-10-30T18:23:52.986981",
     "exception": false,
     "start_time": "2022-10-30T18:23:52.962466",
     "status": "completed"
    },
    "tags": []
   },
   "outputs": [],
   "source": [
    "def build(model_initializer, independent_variables_training, target, independent_variable_test):\n",
    "    # fit\n",
    "    model_initializer.fit(independent_variables_training, target)\n",
    "    # predict\n",
    "    modelPred = model_initializer.predict(independent_variable_test)\n",
    "    print(classification_report(Ytest, modelPred))\n",
    "    return metrics.accuracy_score(modelPred, Ytest)"
   ]
  },
  {
   "cell_type": "code",
   "execution_count": 16,
   "metadata": {
    "execution": {
     "iopub.execute_input": "2022-10-30T18:23:53.018859Z",
     "iopub.status.busy": "2022-10-30T18:23:53.018400Z",
     "iopub.status.idle": "2022-10-30T18:23:53.023896Z",
     "shell.execute_reply": "2022-10-30T18:23:53.022611Z"
    },
    "papermill": {
     "duration": 0.024925,
     "end_time": "2022-10-30T18:23:53.026567",
     "exception": false,
     "start_time": "2022-10-30T18:23:53.001642",
     "status": "completed"
    },
    "tags": []
   },
   "outputs": [],
   "source": [
    "models_results = []"
   ]
  },
  {
   "cell_type": "code",
   "execution_count": 17,
   "metadata": {
    "execution": {
     "iopub.execute_input": "2022-10-30T18:23:53.058561Z",
     "iopub.status.busy": "2022-10-30T18:23:53.058103Z",
     "iopub.status.idle": "2022-10-30T18:23:53.438814Z",
     "shell.execute_reply": "2022-10-30T18:23:53.437587Z"
    },
    "papermill": {
     "duration": 0.400769,
     "end_time": "2022-10-30T18:23:53.442063",
     "exception": false,
     "start_time": "2022-10-30T18:23:53.041294",
     "status": "completed"
    },
    "tags": []
   },
   "outputs": [
    {
     "name": "stdout",
     "output_type": "stream",
     "text": [
      "              precision    recall  f1-score   support\n",
      "\n",
      "           0       0.64      0.65      0.65      3146\n",
      "           1       0.77      0.78      0.77      2150\n",
      "           2       0.66      0.57      0.61      2506\n",
      "           3       0.55      0.61      0.58      2140\n",
      "\n",
      "    accuracy                           0.65      9942\n",
      "   macro avg       0.65      0.65      0.65      9942\n",
      "weighted avg       0.65      0.65      0.65      9942\n",
      "\n",
      "count vector : 0.6503721585194125\n",
      "              precision    recall  f1-score   support\n",
      "\n",
      "           0       0.54      0.78      0.64      3146\n",
      "           1       0.81      0.70      0.75      2150\n",
      "           2       0.65      0.52      0.57      2506\n",
      "           3       0.59      0.44      0.50      2140\n",
      "\n",
      "    accuracy                           0.62      9942\n",
      "   macro avg       0.65      0.61      0.62      9942\n",
      "weighted avg       0.64      0.62      0.62      9942\n",
      "\n",
      "tfidf vector : 0.6202977268155301\n"
     ]
    }
   ],
   "source": [
    "output = build(naive_bayes.MultinomialNB(), cv_xtrain, Ytrain, cv_xtest)\n",
    "print(f\"count vector : {output}\")\n",
    "models_results.append({\"model\": \"naive bayes count Vector\", \"result\": output})\n",
    "output = build(naive_bayes.MultinomialNB(), tv_xtrain, Ytrain, tv_xtest)\n",
    "print(f\"tfidf vector : {output}\")\n",
    "models_results.append({\"model\": \"naive bayes tfidf vector\", \"result\": output})"
   ]
  },
  {
   "cell_type": "code",
   "execution_count": 18,
   "metadata": {
    "execution": {
     "iopub.execute_input": "2022-10-30T18:23:53.476249Z",
     "iopub.status.busy": "2022-10-30T18:23:53.475779Z",
     "iopub.status.idle": "2022-10-30T18:31:05.093903Z",
     "shell.execute_reply": "2022-10-30T18:31:05.092594Z"
    },
    "papermill": {
     "duration": 431.651919,
     "end_time": "2022-10-30T18:31:05.109948",
     "exception": false,
     "start_time": "2022-10-30T18:23:53.458029",
     "status": "completed"
    },
    "tags": []
   },
   "outputs": [
    {
     "name": "stdout",
     "output_type": "stream",
     "text": [
      "              precision    recall  f1-score   support\n",
      "\n",
      "           0       0.78      0.67      0.72      3146\n",
      "           1       0.94      0.85      0.89      2150\n",
      "           2       0.78      0.88      0.83      2506\n",
      "           3       0.63      0.73      0.68      2140\n",
      "\n",
      "    accuracy                           0.77      9942\n",
      "   macro avg       0.78      0.78      0.78      9942\n",
      "weighted avg       0.78      0.77      0.77      9942\n",
      "\n",
      "count vector: 0.7740897203781936\n",
      "              precision    recall  f1-score   support\n",
      "\n",
      "           0       0.76      0.67      0.71      3146\n",
      "           1       0.94      0.86      0.90      2150\n",
      "           2       0.78      0.89      0.83      2506\n",
      "           3       0.63      0.69      0.66      2140\n",
      "\n",
      "    accuracy                           0.77      9942\n",
      "   macro avg       0.78      0.78      0.77      9942\n",
      "weighted avg       0.78      0.77      0.77      9942\n",
      "\n",
      "tfidf vector : 0.7700663850331925\n"
     ]
    }
   ],
   "source": [
    "#for cv\n",
    "output = build(svm.SVC(), cv_xtrain, Ytrain, cv_xtest)\n",
    "print(f\"count vector: {output}\")\n",
    "models_results.append({\"model\": \"SVC count Vector\", \"result\": output})\n",
    "#for TF-IDF\n",
    "output = build(svm.SVC(), tv_xtrain, Ytrain, tv_xtest)\n",
    "print(f\"tfidf vector : {output}\")\n",
    "models_results.append({\"model\": \"SVC tfidf vector\", \"result\": output})"
   ]
  },
  {
   "cell_type": "code",
   "execution_count": 19,
   "metadata": {
    "execution": {
     "iopub.execute_input": "2022-10-30T18:31:05.141225Z",
     "iopub.status.busy": "2022-10-30T18:31:05.140774Z",
     "iopub.status.idle": "2022-10-30T18:31:19.525390Z",
     "shell.execute_reply": "2022-10-30T18:31:19.523646Z"
    },
    "papermill": {
     "duration": 14.405253,
     "end_time": "2022-10-30T18:31:19.529684",
     "exception": false,
     "start_time": "2022-10-30T18:31:05.124431",
     "status": "completed"
    },
    "tags": []
   },
   "outputs": [
    {
     "name": "stdout",
     "output_type": "stream",
     "text": [
      "              precision    recall  f1-score   support\n",
      "\n",
      "           0       0.75      0.67      0.71      3146\n",
      "           1       0.90      0.85      0.88      2150\n",
      "           2       0.77      0.85      0.81      2506\n",
      "           3       0.61      0.65      0.63      2140\n",
      "\n",
      "    accuracy                           0.75      9942\n",
      "   macro avg       0.76      0.76      0.76      9942\n",
      "weighted avg       0.76      0.75      0.75      9942\n",
      "\n",
      "count vector: 0.7528666264333133\n",
      "              precision    recall  f1-score   support\n",
      "\n",
      "           0       0.75      0.68      0.71      3146\n",
      "           1       0.91      0.83      0.87      2150\n",
      "           2       0.72      0.85      0.78      2506\n",
      "           3       0.62      0.61      0.61      2140\n",
      "\n",
      "    accuracy                           0.74      9942\n",
      "   macro avg       0.75      0.74      0.74      9942\n",
      "weighted avg       0.75      0.74      0.74      9942\n",
      "\n",
      "tfidf vector : 0.7420036210018105\n"
     ]
    }
   ],
   "source": [
    "# for CV\n",
    "output = build(linear_model.LogisticRegression(), cv_xtrain, Ytrain, cv_xtest)\n",
    "print(f\"count vector: {output}\")\n",
    "models_results.append({\"model\": \"Logistic Regression count Vector\", \"result\": output})\n",
    "# for TF-IDF\n",
    "output = build(linear_model.LogisticRegression(), tv_xtrain, Ytrain, tv_xtest)\n",
    "\n",
    "print(f\"tfidf vector : {output}\")\n",
    "models_results.append({\"model\": \"Logistic Regression tfidf vector\", \"result\": output})"
   ]
  },
  {
   "cell_type": "code",
   "execution_count": 20,
   "metadata": {
    "execution": {
     "iopub.execute_input": "2022-10-30T18:31:19.562311Z",
     "iopub.status.busy": "2022-10-30T18:31:19.561504Z",
     "iopub.status.idle": "2022-10-30T18:35:39.684953Z",
     "shell.execute_reply": "2022-10-30T18:35:39.684087Z"
    },
    "papermill": {
     "duration": 260.157355,
     "end_time": "2022-10-30T18:35:39.702370",
     "exception": false,
     "start_time": "2022-10-30T18:31:19.545015",
     "status": "completed"
    },
    "tags": []
   },
   "outputs": [
    {
     "name": "stdout",
     "output_type": "stream",
     "text": [
      "              precision    recall  f1-score   support\n",
      "\n",
      "           0       0.75      0.67      0.71      3146\n",
      "           1       0.94      0.88      0.91      2150\n",
      "           2       0.79      0.90      0.84      2506\n",
      "           3       0.63      0.68      0.66      2140\n",
      "\n",
      "    accuracy                           0.77      9942\n",
      "   macro avg       0.78      0.78      0.78      9942\n",
      "weighted avg       0.78      0.77      0.77      9942\n",
      "\n",
      "count vector: 0.7741903037618185\n",
      "              precision    recall  f1-score   support\n",
      "\n",
      "           0       0.75      0.68      0.71      3146\n",
      "           1       0.95      0.89      0.92      2150\n",
      "           2       0.81      0.91      0.85      2506\n",
      "           3       0.64      0.68      0.66      2140\n",
      "\n",
      "    accuracy                           0.78      9942\n",
      "   macro avg       0.79      0.79      0.79      9942\n",
      "weighted avg       0.78      0.78      0.78      9942\n",
      "\n",
      "tfidf vector : 0.7806276403138201\n"
     ]
    }
   ],
   "source": [
    "#for CV\n",
    "output = build(ensemble.RandomForestClassifier(), cv_xtrain, Ytrain, cv_xtest)\n",
    "print(f\"count vector: {output}\")\n",
    "models_results.append({\"model\": \"Random Forest count vector\", \"result\": output})\n",
    "#for TF-IDF\n",
    "output = build(ensemble.RandomForestClassifier(), tv_xtrain, Ytrain, tv_xtest)\n",
    "print(f\"tfidf vector : {output}\")\n",
    "models_results.append({\"model\": \"Random Forest tfidf vector\", \"result\": output})"
   ]
  },
  {
   "cell_type": "code",
   "execution_count": 21,
   "metadata": {
    "execution": {
     "iopub.execute_input": "2022-10-30T18:35:39.734596Z",
     "iopub.status.busy": "2022-10-30T18:35:39.733860Z",
     "iopub.status.idle": "2022-10-30T18:37:49.721805Z",
     "shell.execute_reply": "2022-10-30T18:37:49.720603Z"
    },
    "papermill": {
     "duration": 130.022718,
     "end_time": "2022-10-30T18:37:49.739975",
     "exception": false,
     "start_time": "2022-10-30T18:35:39.717257",
     "status": "completed"
    },
    "tags": []
   },
   "outputs": [
    {
     "name": "stdout",
     "output_type": "stream",
     "text": [
      "              precision    recall  f1-score   support\n",
      "\n",
      "           0       0.74      0.68      0.71      3146\n",
      "           1       0.95      0.89      0.92      2150\n",
      "           2       0.81      0.90      0.85      2506\n",
      "           3       0.64      0.67      0.65      2140\n",
      "\n",
      "    accuracy                           0.78      9942\n",
      "   macro avg       0.78      0.78      0.78      9942\n",
      "weighted avg       0.78      0.78      0.78      9942\n",
      "\n"
     ]
    }
   ],
   "source": [
    "classifier = ensemble.RandomForestClassifier().fit(tv_xtrain, Ytrain)\n",
    "val_predictions = classifier.predict(tv_xtest)\n",
    "# Precision , Recall , F1 - score , Support\n",
    "y_true, y_pred = Ytest, val_predictions\n",
    "print(classification_report(y_true, y_pred))\n"
   ]
  },
  {
   "cell_type": "markdown",
   "metadata": {
    "papermill": {
     "duration": 0.01505,
     "end_time": "2022-10-30T18:37:49.771142",
     "exception": false,
     "start_time": "2022-10-30T18:37:49.756092",
     "status": "completed"
    },
    "tags": []
   },
   "source": [
    "## Deep Learning models\n",
    "### Import required libraries"
   ]
  },
  {
   "cell_type": "code",
   "execution_count": 22,
   "metadata": {
    "execution": {
     "iopub.execute_input": "2022-10-30T18:37:49.803278Z",
     "iopub.status.busy": "2022-10-30T18:37:49.802777Z",
     "iopub.status.idle": "2022-10-30T18:37:56.447305Z",
     "shell.execute_reply": "2022-10-30T18:37:56.446260Z"
    },
    "papermill": {
     "duration": 6.66412,
     "end_time": "2022-10-30T18:37:56.450284",
     "exception": false,
     "start_time": "2022-10-30T18:37:49.786164",
     "status": "completed"
    },
    "tags": []
   },
   "outputs": [],
   "source": [
    "import nltk \n",
    "import re\n",
    "\n",
    "from nltk.stem.snowball import SnowballStemmer, ArabicStemmer\n",
    "import tensorflow as tf\n",
    "from keras.preprocessing.text import Tokenizer\n",
    "from keras.preprocessing.sequence import pad_sequences\n",
    "from numpy import array\n",
    "import gensim\n",
    "from gensim.models import KeyedVectors\n",
    "from gensim.models import word2vec\n",
    "\n",
    "# stemming \n",
    "from tashaphyne.stemming import ArabicLightStemmer\n",
    "\n",
    "from wordcloud import WordCloud, STOPWORDS\n",
    "\n",
    "\n",
    "\n",
    "import keras\n",
    "from keras.preprocessing.text import Tokenizer\n",
    "from keras.models import Sequential\n",
    "from keras.layers import Dense\n",
    "from keras.preprocessing.sequence import pad_sequences\n",
    "from keras.layers import Input, Dense, Dropout, Embedding, LSTM, Flatten, Conv1D, MaxPooling1D, GRU\n",
    "from keras.models import Model\n",
    "from tensorflow.keras.utils import to_categorical\n",
    "from keras.callbacks import ModelCheckpoint\n",
    "from keras import layers\n",
    "\n",
    "from sklearn.metrics import accuracy_score"
   ]
  },
  {
   "cell_type": "code",
   "execution_count": 23,
   "metadata": {
    "execution": {
     "iopub.execute_input": "2022-10-30T18:37:56.487080Z",
     "iopub.status.busy": "2022-10-30T18:37:56.486039Z",
     "iopub.status.idle": "2022-10-30T18:37:58.261698Z",
     "shell.execute_reply": "2022-10-30T18:37:58.260320Z"
    },
    "papermill": {
     "duration": 1.7974,
     "end_time": "2022-10-30T18:37:58.264955",
     "exception": false,
     "start_time": "2022-10-30T18:37:56.467555",
     "status": "completed"
    },
    "tags": []
   },
   "outputs": [],
   "source": [
    "MAX_LENGTH= 200\n",
    "text_tok = Tokenizer()\n",
    "text_tok.fit_on_texts(df['clean_text'])\n",
    "clean_text = text_tok.texts_to_sequences(df['clean_text'])\n",
    "#padding\n",
    "X = pad_sequences( clean_text, maxlen= MAX_LENGTH)"
   ]
  },
  {
   "cell_type": "code",
   "execution_count": 24,
   "metadata": {
    "execution": {
     "iopub.execute_input": "2022-10-30T18:37:58.299950Z",
     "iopub.status.busy": "2022-10-30T18:37:58.299037Z",
     "iopub.status.idle": "2022-10-30T18:37:58.305389Z",
     "shell.execute_reply": "2022-10-30T18:37:58.304160Z"
    },
    "papermill": {
     "duration": 0.026414,
     "end_time": "2022-10-30T18:37:58.307753",
     "exception": false,
     "start_time": "2022-10-30T18:37:58.281339",
     "status": "completed"
    },
    "tags": []
   },
   "outputs": [],
   "source": [
    "num_words = len(list(text_tok.word_index))\n",
    "vocab_size = num_words + 1 "
   ]
  },
  {
   "cell_type": "code",
   "execution_count": 25,
   "metadata": {
    "execution": {
     "iopub.execute_input": "2022-10-30T18:37:58.342058Z",
     "iopub.status.busy": "2022-10-30T18:37:58.341465Z",
     "iopub.status.idle": "2022-10-30T18:37:58.371255Z",
     "shell.execute_reply": "2022-10-30T18:37:58.369734Z"
    },
    "papermill": {
     "duration": 0.049777,
     "end_time": "2022-10-30T18:37:58.373832",
     "exception": false,
     "start_time": "2022-10-30T18:37:58.324055",
     "status": "completed"
    },
    "tags": []
   },
   "outputs": [
    {
     "name": "stdout",
     "output_type": "stream",
     "text": [
      "(31812, 200)\n",
      "(7954, 200)\n",
      "(31812,)\n",
      "(7954,)\n"
     ]
    }
   ],
   "source": [
    "#train test split\n",
    "indepentent_features_build, indepentent_features_valid, depentent_feature_build, depentent_feature_valid = train_test_split(X, df[\"class\"], test_size=0.2, random_state=1) #train 80, test 20\n",
    "print(indepentent_features_build.shape)\n",
    "print(indepentent_features_valid.shape)\n",
    "print(depentent_feature_build.shape)\n",
    "print(depentent_feature_valid.shape)\n"
   ]
  },
  {
   "cell_type": "code",
   "execution_count": 26,
   "metadata": {
    "execution": {
     "iopub.execute_input": "2022-10-30T18:37:58.410790Z",
     "iopub.status.busy": "2022-10-30T18:37:58.409569Z",
     "iopub.status.idle": "2022-10-30T18:37:58.416358Z",
     "shell.execute_reply": "2022-10-30T18:37:58.414768Z"
    },
    "papermill": {
     "duration": 0.028415,
     "end_time": "2022-10-30T18:37:58.418856",
     "exception": false,
     "start_time": "2022-10-30T18:37:58.390441",
     "status": "completed"
    },
    "tags": []
   },
   "outputs": [],
   "source": [
    "earlyStoppingCallback = tf.keras.callbacks.EarlyStopping(monitor='val_loss', patience=5)"
   ]
  },
  {
   "cell_type": "markdown",
   "metadata": {
    "papermill": {
     "duration": 0.014991,
     "end_time": "2022-10-30T18:37:58.449339",
     "exception": false,
     "start_time": "2022-10-30T18:37:58.434348",
     "status": "completed"
    },
    "tags": []
   },
   "source": [
    "### Trail 1"
   ]
  },
  {
   "cell_type": "code",
   "execution_count": 27,
   "metadata": {
    "execution": {
     "iopub.execute_input": "2022-10-30T18:37:58.481475Z",
     "iopub.status.busy": "2022-10-30T18:37:58.480822Z",
     "iopub.status.idle": "2022-10-30T18:37:59.214080Z",
     "shell.execute_reply": "2022-10-30T18:37:59.212207Z"
    },
    "papermill": {
     "duration": 0.752331,
     "end_time": "2022-10-30T18:37:59.216696",
     "exception": false,
     "start_time": "2022-10-30T18:37:58.464365",
     "status": "completed"
    },
    "tags": []
   },
   "outputs": [
    {
     "name": "stderr",
     "output_type": "stream",
     "text": [
      "2022-10-30 18:37:58.524888: I tensorflow/core/common_runtime/process_util.cc:146] Creating new thread pool with default inter op setting: 2. Tune using inter_op_parallelism_threads for best performance.\n"
     ]
    },
    {
     "name": "stdout",
     "output_type": "stream",
     "text": [
      "Model: \"sequential\"\n",
      "_________________________________________________________________\n",
      "Layer (type)                 Output Shape              Param #   \n",
      "=================================================================\n",
      "embedding (Embedding)        (None, 200, 100)          914800    \n",
      "_________________________________________________________________\n",
      "gru (GRU)                    (None, 200, 265)          291765    \n",
      "_________________________________________________________________\n",
      "gru_1 (GRU)                  (None, 128)               151680    \n",
      "_________________________________________________________________\n",
      "dense (Dense)                (None, 2500)              322500    \n",
      "_________________________________________________________________\n",
      "dense_1 (Dense)              (None, 2000)              5002000   \n",
      "_________________________________________________________________\n",
      "dense_2 (Dense)              (None, 1000)              2001000   \n",
      "_________________________________________________________________\n",
      "dense_3 (Dense)              (None, 4)                 4004      \n",
      "=================================================================\n",
      "Total params: 8,687,749\n",
      "Trainable params: 8,687,749\n",
      "Non-trainable params: 0\n",
      "_________________________________________________________________\n",
      "None\n"
     ]
    }
   ],
   "source": [
    "model1 = Sequential()\n",
    "model1.add(Embedding(vocab_size, 100, input_length=X.shape[1]))\n",
    "model1.add(GRU(265, return_sequences=True))\n",
    "model1.add(GRU(128))\n",
    "\n",
    "model1.add(Dense(2500, activation='relu'))\n",
    "model1.add(Dense(2000, activation='relu'))\n",
    "model1.add(Dense(1000, activation='relu'))\n",
    "\n",
    "model1.add(Dense(4, activation='softmax'))\n",
    "model1.compile(loss = 'sparse_categorical_crossentropy', optimizer='adam', metrics = ['accuracy'])\n",
    "\n",
    "print(model1.summary())"
   ]
  },
  {
   "cell_type": "code",
   "execution_count": 28,
   "metadata": {
    "execution": {
     "iopub.execute_input": "2022-10-30T18:37:59.255378Z",
     "iopub.status.busy": "2022-10-30T18:37:59.254361Z",
     "iopub.status.idle": "2022-10-30T19:23:23.018458Z",
     "shell.execute_reply": "2022-10-30T19:23:23.017152Z"
    },
    "papermill": {
     "duration": 2724.042838,
     "end_time": "2022-10-30T19:23:23.277309",
     "exception": false,
     "start_time": "2022-10-30T18:37:59.234471",
     "status": "completed"
    },
    "tags": []
   },
   "outputs": [
    {
     "name": "stdout",
     "output_type": "stream",
     "text": [
      "Epoch 1/50\n"
     ]
    },
    {
     "name": "stderr",
     "output_type": "stream",
     "text": [
      "2022-10-30 18:37:59.322766: I tensorflow/compiler/mlir/mlir_graph_optimization_pass.cc:185] None of the MLIR Optimization Passes are enabled (registered 2)\n"
     ]
    },
    {
     "name": "stdout",
     "output_type": "stream",
     "text": [
      "373/373 [==============================] - 395s 1s/step - loss: 0.8192 - accuracy: 0.6534 - val_loss: 0.6904 - val_accuracy: 0.7302\n",
      "Epoch 2/50\n",
      "373/373 [==============================] - 388s 1s/step - loss: 0.5500 - accuracy: 0.7782 - val_loss: 0.6078 - val_accuracy: 0.7498\n",
      "Epoch 3/50\n",
      "373/373 [==============================] - 389s 1s/step - loss: 0.4561 - accuracy: 0.8105 - val_loss: 0.6714 - val_accuracy: 0.7548\n",
      "Epoch 4/50\n",
      "373/373 [==============================] - 386s 1s/step - loss: 0.3907 - accuracy: 0.8349 - val_loss: 0.6322 - val_accuracy: 0.7569\n",
      "Epoch 5/50\n",
      "373/373 [==============================] - 385s 1s/step - loss: 0.3391 - accuracy: 0.8517 - val_loss: 0.6916 - val_accuracy: 0.7546\n",
      "Epoch 6/50\n",
      "373/373 [==============================] - 388s 1s/step - loss: 0.3078 - accuracy: 0.8644 - val_loss: 0.7533 - val_accuracy: 0.7471\n",
      "Epoch 7/50\n",
      "373/373 [==============================] - 393s 1s/step - loss: 0.2837 - accuracy: 0.8717 - val_loss: 0.8191 - val_accuracy: 0.7527\n"
     ]
    }
   ],
   "source": [
    "filepath=\"output_ANN.hdf5\"\n",
    "x = ModelCheckpoint(filepath, monitor='val_acc', verbose=1, save_best_only=True, mode='max')\n",
    "#fir the model\n",
    "history1 = model1.fit([indepentent_features_build], batch_size=64,\n",
    "            y= depentent_feature_build, verbose=1, validation_split=0.25, shuffle=True, \n",
    "            epochs=50, callbacks=[x, earlyStoppingCallback])"
   ]
  },
  {
   "cell_type": "code",
   "execution_count": 29,
   "metadata": {
    "execution": {
     "iopub.execute_input": "2022-10-30T19:23:23.645398Z",
     "iopub.status.busy": "2022-10-30T19:23:23.644908Z",
     "iopub.status.idle": "2022-10-30T19:23:23.947687Z",
     "shell.execute_reply": "2022-10-30T19:23:23.946486Z"
    },
    "papermill": {
     "duration": 0.483631,
     "end_time": "2022-10-30T19:23:23.950242",
     "exception": false,
     "start_time": "2022-10-30T19:23:23.466611",
     "status": "completed"
    },
    "tags": []
   },
   "outputs": [
    {
     "data": {
      "image/png": "[encoded data removed]",
      "text/plain": [
       "<Figure size 432x288 with 1 Axes>"
      ]
     },
     "metadata": {
      "needs_background": "light"
     },
     "output_type": "display_data"
    }
   ],
   "source": [
    "dfaccuracy = pd.DataFrame({ 'Model hist': history1.history['accuracy'], \n",
    "                           'Model Perd': history1.history['val_accuracy']})\n",
    "#line for train accuracy\n",
    "g = sns.pointplot(x= dfaccuracy.index, y=\"Model hist\", data=dfaccuracy, fit_reg=False)\n",
    "#line for test\n",
    "g = sns.pointplot(x=dfaccuracy.index, y=\"Model Perd\", data=dfaccuracy, fit_reg=False, color='Red')"
   ]
  },
  {
   "cell_type": "code",
   "execution_count": 30,
   "metadata": {
    "execution": {
     "iopub.execute_input": "2022-10-30T19:23:24.310411Z",
     "iopub.status.busy": "2022-10-30T19:23:24.309949Z",
     "iopub.status.idle": "2022-10-30T19:24:19.104581Z",
     "shell.execute_reply": "2022-10-30T19:24:19.103273Z"
    },
    "papermill": {
     "duration": 54.976461,
     "end_time": "2022-10-30T19:24:19.106911",
     "exception": false,
     "start_time": "2022-10-30T19:23:24.130450",
     "status": "completed"
    },
    "tags": []
   },
   "outputs": [
    {
     "name": "stdout",
     "output_type": "stream",
     "text": [
      "249/249 [==============================] - 55s 216ms/step - loss: 0.8350 - accuracy: 0.7475\n",
      "Test set\n",
      "  Loss: 0.835\n",
      "  Accuracy: 0.748\n"
     ]
    }
   ],
   "source": [
    "accr1 = model1.evaluate(indepentent_features_valid, depentent_feature_valid)\n",
    "print('Test set\\n  Loss: {:0.3f}\\n  Accuracy: {:0.3f}'.format(accr1[0],accr1[1]))\n",
    "models_results.append({\"model\": \"GRU\", \"result\": accr1[1]})"
   ]
  },
  {
   "cell_type": "markdown",
   "metadata": {
    "papermill": {
     "duration": 0.198741,
     "end_time": "2022-10-30T19:24:19.502311",
     "exception": false,
     "start_time": "2022-10-30T19:24:19.303570",
     "status": "completed"
    },
    "tags": []
   },
   "source": [
    "### Trial 2"
   ]
  },
  {
   "cell_type": "code",
   "execution_count": 31,
   "metadata": {
    "execution": {
     "iopub.execute_input": "2022-10-30T19:24:19.899317Z",
     "iopub.status.busy": "2022-10-30T19:24:19.898859Z",
     "iopub.status.idle": "2022-10-30T19:24:19.967277Z",
     "shell.execute_reply": "2022-10-30T19:24:19.965592Z"
    },
    "papermill": {
     "duration": 0.270231,
     "end_time": "2022-10-30T19:24:19.969982",
     "exception": false,
     "start_time": "2022-10-30T19:24:19.699751",
     "status": "completed"
    },
    "tags": []
   },
   "outputs": [
    {
     "name": "stdout",
     "output_type": "stream",
     "text": [
      "Model: \"sequential_1\"\n",
      "_________________________________________________________________\n",
      "Layer (type)                 Output Shape              Param #   \n",
      "=================================================================\n",
      "embedding_1 (Embedding)      (None, 200, 100)          914800    \n",
      "_________________________________________________________________\n",
      "flatten (Flatten)            (None, 20000)             0         \n",
      "_________________________________________________________________\n",
      "FC1 (Dense)                  (None, 100)               2000100   \n",
      "_________________________________________________________________\n",
      "dropout (Dropout)            (None, 100)               0         \n",
      "_________________________________________________________________\n",
      "out_layer (Dense)            (None, 4)                 404       \n",
      "=================================================================\n",
      "Total params: 2,915,304\n",
      "Trainable params: 2,915,304\n",
      "Non-trainable params: 0\n",
      "_________________________________________________________________\n",
      "None\n"
     ]
    }
   ],
   "source": [
    "model2= Sequential()\n",
    "model2.add(Embedding(vocab_size,100, input_length = MAX_LENGTH))\n",
    "model2.add(Flatten())\n",
    "model2.add(Dense(100,name='FC1', activation='relu'))\n",
    "model2.add(Dropout(0.5))\n",
    "model2.add(Dense(num_class, activation='softmax',name='out_layer'))\n",
    "model2.compile(loss = 'categorical_crossentropy', optimizer='rmsprop', metrics = ['accuracy'])\n",
    "print(model2.summary())\n"
   ]
  },
  {
   "cell_type": "code",
   "execution_count": 32,
   "metadata": {
    "execution": {
     "iopub.execute_input": "2022-10-30T19:24:20.371369Z",
     "iopub.status.busy": "2022-10-30T19:24:20.370009Z",
     "iopub.status.idle": "2022-10-30T19:25:32.460876Z",
     "shell.execute_reply": "2022-10-30T19:25:32.459503Z"
    },
    "papermill": {
     "duration": 72.296845,
     "end_time": "2022-10-30T19:25:32.463766",
     "exception": false,
     "start_time": "2022-10-30T19:24:20.166921",
     "status": "completed"
    },
    "tags": []
   },
   "outputs": [
    {
     "name": "stdout",
     "output_type": "stream",
     "text": [
      "Epoch 1/50\n",
      "373/373 [==============================] - 10s 24ms/step - loss: 0.9765 - accuracy: 0.5828 - val_loss: 0.6812 - val_accuracy: 0.7173\n",
      "Epoch 2/50\n",
      "373/373 [==============================] - 9s 23ms/step - loss: 0.6138 - accuracy: 0.7556 - val_loss: 0.6116 - val_accuracy: 0.7499\n",
      "Epoch 3/50\n",
      "373/373 [==============================] - 9s 23ms/step - loss: 0.5031 - accuracy: 0.8031 - val_loss: 0.6012 - val_accuracy: 0.7588\n",
      "Epoch 4/50\n",
      "373/373 [==============================] - 9s 25ms/step - loss: 0.4234 - accuracy: 0.8338 - val_loss: 0.6183 - val_accuracy: 0.7586\n",
      "Epoch 5/50\n",
      "373/373 [==============================] - 9s 23ms/step - loss: 0.3585 - accuracy: 0.8579 - val_loss: 0.6911 - val_accuracy: 0.7573\n",
      "Epoch 6/50\n",
      "373/373 [==============================] - 9s 24ms/step - loss: 0.3116 - accuracy: 0.8724 - val_loss: 0.7127 - val_accuracy: 0.7588\n",
      "Epoch 7/50\n",
      "373/373 [==============================] - 9s 25ms/step - loss: 0.2794 - accuracy: 0.8848 - val_loss: 0.7800 - val_accuracy: 0.7515\n",
      "Epoch 8/50\n",
      "373/373 [==============================] - 9s 23ms/step - loss: 0.2536 - accuracy: 0.8932 - val_loss: 0.8360 - val_accuracy: 0.7541\n"
     ]
    }
   ],
   "source": [
    "filepath=\"output_ANN.hdf5\"\n",
    "x = ModelCheckpoint(filepath, monitor='val_acc', verbose=1, save_best_only=True, mode='max')\n",
    "#fir the model\n",
    "history = model2.fit([indepentent_features_build], batch_size=64,\n",
    "            y= to_categorical(depentent_feature_build), verbose=1, validation_split=0.25, shuffle=True, \n",
    "            epochs=50, callbacks=[x, earlyStoppingCallback])"
   ]
  },
  {
   "cell_type": "code",
   "execution_count": 33,
   "metadata": {
    "execution": {
     "iopub.execute_input": "2022-10-30T19:25:32.999618Z",
     "iopub.status.busy": "2022-10-30T19:25:32.998470Z",
     "iopub.status.idle": "2022-10-30T19:25:33.276001Z",
     "shell.execute_reply": "2022-10-30T19:25:33.274743Z"
    },
    "papermill": {
     "duration": 0.554165,
     "end_time": "2022-10-30T19:25:33.278893",
     "exception": false,
     "start_time": "2022-10-30T19:25:32.724728",
     "status": "completed"
    },
    "tags": []
   },
   "outputs": [
    {
     "data": {
      "image/png": "[encoded data removed]",
      "text/plain": [
       "<Figure size 432x288 with 1 Axes>"
      ]
     },
     "metadata": {
      "needs_background": "light"
     },
     "output_type": "display_data"
    }
   ],
   "source": [
    "dfaccuracy = pd.DataFrame({ 'Model hist': history.history['accuracy'], \n",
    "                           'Model Perd': history.history['val_accuracy']})\n",
    "#line for train accuracy\n",
    "g = sns.pointplot(x= dfaccuracy.index, y=\"Model hist\", data=dfaccuracy, fit_reg=False)\n",
    "#line for test\n",
    "g = sns.pointplot(x=dfaccuracy.index, y=\"Model Perd\", data=dfaccuracy, fit_reg=False, color='Red')"
   ]
  },
  {
   "cell_type": "code",
   "execution_count": 34,
   "metadata": {
    "execution": {
     "iopub.execute_input": "2022-10-30T19:25:33.829116Z",
     "iopub.status.busy": "2022-10-30T19:25:33.827756Z",
     "iopub.status.idle": "2022-10-30T19:25:35.115601Z",
     "shell.execute_reply": "2022-10-30T19:25:35.113858Z"
    },
    "papermill": {
     "duration": 1.565523,
     "end_time": "2022-10-30T19:25:35.118476",
     "exception": false,
     "start_time": "2022-10-30T19:25:33.552953",
     "status": "completed"
    },
    "tags": []
   },
   "outputs": [
    {
     "name": "stdout",
     "output_type": "stream",
     "text": [
      "249/249 [==============================] - 1s 4ms/step - loss: 0.8560 - accuracy: 0.7514\n",
      "Test set\n",
      "  Loss: 0.856\n",
      "  Accuracy: 0.751\n"
     ]
    }
   ],
   "source": [
    "accr = model2.evaluate(indepentent_features_valid, to_categorical(depentent_feature_valid))\n",
    "print('Test set\\n  Loss: {:0.3f}\\n  Accuracy: {:0.3f}'.format(accr[0],accr[1]))\n",
    "models_results.append({\"model\": \"Normal NN\", \"result\": accr[1]})"
   ]
  },
  {
   "cell_type": "markdown",
   "metadata": {
    "papermill": {
     "duration": 0.257564,
     "end_time": "2022-10-30T19:25:35.635610",
     "exception": false,
     "start_time": "2022-10-30T19:25:35.378046",
     "status": "completed"
    },
    "tags": []
   },
   "source": [
    "### Trail 3"
   ]
  },
  {
   "cell_type": "code",
   "execution_count": 35,
   "metadata": {
    "execution": {
     "iopub.execute_input": "2022-10-30T19:25:36.228308Z",
     "iopub.status.busy": "2022-10-30T19:25:36.227878Z",
     "iopub.status.idle": "2022-10-30T19:25:36.516339Z",
     "shell.execute_reply": "2022-10-30T19:25:36.515033Z"
    },
    "papermill": {
     "duration": 0.552802,
     "end_time": "2022-10-30T19:25:36.520552",
     "exception": false,
     "start_time": "2022-10-30T19:25:35.967750",
     "status": "completed"
    },
    "tags": []
   },
   "outputs": [
    {
     "name": "stdout",
     "output_type": "stream",
     "text": [
      "Model: \"sequential_2\"\n",
      "_________________________________________________________________\n",
      "Layer (type)                 Output Shape              Param #   \n",
      "=================================================================\n",
      "embedding_2 (Embedding)      (None, 200, 100)          914800    \n",
      "_________________________________________________________________\n",
      "lstm (LSTM)                  (None, 60)                38640     \n",
      "_________________________________________________________________\n",
      "FC1 (Dense)                  (None, 100)               6100      \n",
      "_________________________________________________________________\n",
      "dropout_1 (Dropout)          (None, 100)               0         \n",
      "_________________________________________________________________\n",
      "out_layer (Dense)            (None, 4)                 404       \n",
      "=================================================================\n",
      "Total params: 959,944\n",
      "Trainable params: 959,944\n",
      "Non-trainable params: 0\n",
      "_________________________________________________________________\n",
      "None\n"
     ]
    }
   ],
   "source": [
    "model3= Sequential()\n",
    "model3.add(Embedding(vocab_size,100, input_length = MAX_LENGTH))\n",
    "model3.add(LSTM(60))\n",
    "model3.add(Dense(100,name='FC1', activation='relu'))\n",
    "model3.add(Dropout(0.5))\n",
    "model3.add(Dense(num_class, activation='softmax',name='out_layer'))\n",
    "model3.compile(loss = 'sparse_categorical_crossentropy', optimizer='rmsprop', metrics = ['accuracy'])\n",
    "print(model3.summary())"
   ]
  },
  {
   "cell_type": "code",
   "execution_count": 36,
   "metadata": {
    "execution": {
     "iopub.execute_input": "2022-10-30T19:25:37.039169Z",
     "iopub.status.busy": "2022-10-30T19:25:37.037982Z",
     "iopub.status.idle": "2022-10-30T19:39:04.901353Z",
     "shell.execute_reply": "2022-10-30T19:39:04.900185Z"
    },
    "papermill": {
     "duration": 808.591855,
     "end_time": "2022-10-30T19:39:05.371189",
     "exception": false,
     "start_time": "2022-10-30T19:25:36.779334",
     "status": "completed"
    },
    "tags": []
   },
   "outputs": [
    {
     "name": "stdout",
     "output_type": "stream",
     "text": [
      "Epoch 1/50\n",
      "373/373 [==============================] - 90s 233ms/step - loss: 0.8484 - accuracy: 0.6413 - val_loss: 0.6606 - val_accuracy: 0.7343\n",
      "Epoch 2/50\n",
      "373/373 [==============================] - 86s 230ms/step - loss: 0.5962 - accuracy: 0.7623 - val_loss: 0.6139 - val_accuracy: 0.7416\n",
      "Epoch 3/50\n",
      "373/373 [==============================] - 87s 233ms/step - loss: 0.5310 - accuracy: 0.7885 - val_loss: 0.6038 - val_accuracy: 0.7485\n",
      "Epoch 4/50\n",
      "373/373 [==============================] - 100s 269ms/step - loss: 0.4958 - accuracy: 0.8010 - val_loss: 0.6000 - val_accuracy: 0.7547\n",
      "Epoch 5/50\n",
      "373/373 [==============================] - 97s 260ms/step - loss: 0.4676 - accuracy: 0.8117 - val_loss: 0.6246 - val_accuracy: 0.7505\n",
      "Epoch 6/50\n",
      "373/373 [==============================] - 94s 252ms/step - loss: 0.4361 - accuracy: 0.8223 - val_loss: 0.6120 - val_accuracy: 0.7510\n",
      "Epoch 7/50\n",
      "373/373 [==============================] - 85s 227ms/step - loss: 0.4125 - accuracy: 0.8308 - val_loss: 0.6424 - val_accuracy: 0.7478\n",
      "Epoch 8/50\n",
      "373/373 [==============================] - 85s 227ms/step - loss: 0.3872 - accuracy: 0.8396 - val_loss: 0.6893 - val_accuracy: 0.7468\n",
      "Epoch 9/50\n",
      "373/373 [==============================] - 84s 227ms/step - loss: 0.3658 - accuracy: 0.8439 - val_loss: 0.6734 - val_accuracy: 0.7514\n"
     ]
    }
   ],
   "source": [
    "filepath=\"output_ANN.hdf5\"\n",
    "x = ModelCheckpoint(filepath, monitor='val_acc', verbose=1, save_best_only=True, mode='max')\n",
    "#fir the model\n",
    "history2 = model3.fit([indepentent_features_build], batch_size=64,\n",
    "            y= depentent_feature_build, verbose=1, validation_split=0.25, shuffle=True, \n",
    "            epochs=50, callbacks=[x, earlyStoppingCallback])"
   ]
  },
  {
   "cell_type": "code",
   "execution_count": 37,
   "metadata": {
    "execution": {
     "iopub.execute_input": "2022-10-30T19:39:06.309923Z",
     "iopub.status.busy": "2022-10-30T19:39:06.309512Z",
     "iopub.status.idle": "2022-10-30T19:39:06.584577Z",
     "shell.execute_reply": "2022-10-30T19:39:06.583407Z"
    },
    "papermill": {
     "duration": 0.745987,
     "end_time": "2022-10-30T19:39:06.586722",
     "exception": false,
     "start_time": "2022-10-30T19:39:05.840735",
     "status": "completed"
    },
    "tags": []
   },
   "outputs": [
    {
     "data": {
      "image/png": "[encoded data removed]",
      "text/plain": [
       "<Figure size 432x288 with 1 Axes>"
      ]
     },
     "metadata": {
      "needs_background": "light"
     },
     "output_type": "display_data"
    }
   ],
   "source": [
    "dfaccuracy = pd.DataFrame({ 'Model hist': history2.history['accuracy'], \n",
    "                           'Model Perd': history2.history['val_accuracy']})\n",
    "#line for train accuracy\n",
    "g = sns.pointplot(x= dfaccuracy.index, y=\"Model hist\", data=dfaccuracy, fit_reg=False)\n",
    "#line for test\n",
    "g = sns.pointplot(x=dfaccuracy.index, y=\"Model Perd\", data=dfaccuracy, fit_reg=False, color='Red')"
   ]
  },
  {
   "cell_type": "code",
   "execution_count": 38,
   "metadata": {
    "execution": {
     "iopub.execute_input": "2022-10-30T19:39:07.641824Z",
     "iopub.status.busy": "2022-10-30T19:39:07.640351Z",
     "iopub.status.idle": "2022-10-30T19:39:20.457752Z",
     "shell.execute_reply": "2022-10-30T19:39:20.456116Z"
    },
    "papermill": {
     "duration": 13.300811,
     "end_time": "2022-10-30T19:39:20.460078",
     "exception": false,
     "start_time": "2022-10-30T19:39:07.159267",
     "status": "completed"
    },
    "tags": []
   },
   "outputs": [
    {
     "name": "stdout",
     "output_type": "stream",
     "text": [
      "249/249 [==============================] - 13s 49ms/step - loss: 0.6687 - accuracy: 0.7514\n",
      "Test set\n",
      "  Loss: 0.669\n",
      "  Accuracy: 0.751\n"
     ]
    }
   ],
   "source": [
    "accr = model3.evaluate(indepentent_features_valid, depentent_feature_valid)\n",
    "print('Test set\\n  Loss: {:0.3f}\\n  Accuracy: {:0.3f}'.format(accr[0],accr[1]))\n",
    "models_results.append({\"model\": \"LSTM\", \"result\": accr[1]})"
   ]
  },
  {
   "cell_type": "markdown",
   "metadata": {
    "papermill": {
     "duration": 0.479194,
     "end_time": "2022-10-30T19:39:21.422487",
     "exception": false,
     "start_time": "2022-10-30T19:39:20.943293",
     "status": "completed"
    },
    "tags": []
   },
   "source": [
    "#### Trail 4"
   ]
  },
  {
   "cell_type": "code",
   "execution_count": 39,
   "metadata": {
    "execution": {
     "iopub.execute_input": "2022-10-30T19:39:22.450333Z",
     "iopub.status.busy": "2022-10-30T19:39:22.449909Z",
     "iopub.status.idle": "2022-10-30T19:39:22.746864Z",
     "shell.execute_reply": "2022-10-30T19:39:22.745644Z"
    },
    "papermill": {
     "duration": 0.774295,
     "end_time": "2022-10-30T19:39:22.750316",
     "exception": false,
     "start_time": "2022-10-30T19:39:21.976021",
     "status": "completed"
    },
    "tags": []
   },
   "outputs": [
    {
     "name": "stdout",
     "output_type": "stream",
     "text": [
      "Model: \"sequential_3\"\n",
      "_________________________________________________________________\n",
      "Layer (type)                 Output Shape              Param #   \n",
      "=================================================================\n",
      "embedding_3 (Embedding)      (None, 200, 100)          914800    \n",
      "_________________________________________________________________\n",
      "conv1d (Conv1D)              (None, 191, 60)           60060     \n",
      "_________________________________________________________________\n",
      "max_pooling1d (MaxPooling1D) (None, 95, 60)            0         \n",
      "_________________________________________________________________\n",
      "lstm_1 (LSTM)                (None, 60)                29040     \n",
      "_________________________________________________________________\n",
      "FC1 (Dense)                  (None, 100)               6100      \n",
      "_________________________________________________________________\n",
      "dropout_2 (Dropout)          (None, 100)               0         \n",
      "_________________________________________________________________\n",
      "out_layer (Dense)            (None, 4)                 404       \n",
      "=================================================================\n",
      "Total params: 1,010,404\n",
      "Trainable params: 1,010,404\n",
      "Non-trainable params: 0\n",
      "_________________________________________________________________\n",
      "None\n"
     ]
    }
   ],
   "source": [
    "model4 = Sequential()\n",
    "model4.add(Embedding(vocab_size,100, input_length = MAX_LENGTH))\n",
    "model4.add(Conv1D(60, 10))\n",
    "model4.add(MaxPooling1D(pool_size=2))\n",
    "model4.add(LSTM(60))\n",
    "model4.add(Dense(100,name='FC1', activation='relu'))\n",
    "model4.add(Dropout(0.5))\n",
    "model4.add(Dense(num_class, activation='softmax',name='out_layer'))\n",
    "model4.compile(loss = 'sparse_categorical_crossentropy', optimizer='rmsprop', metrics = ['accuracy'])\n",
    "print(model4.summary())\n",
    "\n"
   ]
  },
  {
   "cell_type": "code",
   "execution_count": 40,
   "metadata": {
    "execution": {
     "iopub.execute_input": "2022-10-30T19:39:23.709394Z",
     "iopub.status.busy": "2022-10-30T19:39:23.708947Z",
     "iopub.status.idle": "2022-10-30T19:47:33.171004Z",
     "shell.execute_reply": "2022-10-30T19:47:33.170043Z"
    },
    "papermill": {
     "duration": 489.94346,
     "end_time": "2022-10-30T19:47:33.175213",
     "exception": false,
     "start_time": "2022-10-30T19:39:23.231753",
     "status": "completed"
    },
    "tags": []
   },
   "outputs": [
    {
     "name": "stdout",
     "output_type": "stream",
     "text": [
      "Epoch 1/50\n",
      "373/373 [==============================] - 64s 164ms/step - loss: 0.8959 - accuracy: 0.6206 - val_loss: 0.7067 - val_accuracy: 0.7127\n",
      "Epoch 2/50\n",
      "373/373 [==============================] - 60s 161ms/step - loss: 0.6578 - accuracy: 0.7411 - val_loss: 0.6872 - val_accuracy: 0.7170\n",
      "Epoch 3/50\n",
      "373/373 [==============================] - 60s 162ms/step - loss: 0.5710 - accuracy: 0.7720 - val_loss: 0.6753 - val_accuracy: 0.7258\n",
      "Epoch 4/50\n",
      "373/373 [==============================] - 61s 162ms/step - loss: 0.4930 - accuracy: 0.8024 - val_loss: 0.6944 - val_accuracy: 0.7266\n",
      "Epoch 5/50\n",
      "373/373 [==============================] - 61s 164ms/step - loss: 0.4250 - accuracy: 0.8277 - val_loss: 0.7487 - val_accuracy: 0.7293\n",
      "Epoch 6/50\n",
      "373/373 [==============================] - 61s 164ms/step - loss: 0.3682 - accuracy: 0.8473 - val_loss: 0.7980 - val_accuracy: 0.7270\n",
      "Epoch 7/50\n",
      "373/373 [==============================] - 61s 163ms/step - loss: 0.3260 - accuracy: 0.8606 - val_loss: 0.9120 - val_accuracy: 0.7265\n",
      "Epoch 8/50\n",
      "373/373 [==============================] - 61s 165ms/step - loss: 0.2967 - accuracy: 0.8728 - val_loss: 0.9722 - val_accuracy: 0.6943\n"
     ]
    }
   ],
   "source": [
    "filepath=\"output_ANN.hdf5\"\n",
    "x = ModelCheckpoint(filepath, monitor='val_acc', verbose=1, save_best_only=True, mode='max')\n",
    "#fir the model\n",
    "history2 = model4.fit([indepentent_features_build], batch_size=64,\n",
    "            y= depentent_feature_build.values, verbose=1, validation_split=0.25, shuffle=True, \n",
    "            epochs=50, callbacks=[x, earlyStoppingCallback])"
   ]
  },
  {
   "cell_type": "code",
   "execution_count": 41,
   "metadata": {
    "execution": {
     "iopub.execute_input": "2022-10-30T19:47:34.594629Z",
     "iopub.status.busy": "2022-10-30T19:47:34.594160Z",
     "iopub.status.idle": "2022-10-30T19:47:34.844572Z",
     "shell.execute_reply": "2022-10-30T19:47:34.843359Z"
    },
    "papermill": {
     "duration": 0.91543,
     "end_time": "2022-10-30T19:47:34.846742",
     "exception": false,
     "start_time": "2022-10-30T19:47:33.931312",
     "status": "completed"
    },
    "tags": []
   },
   "outputs": [
    {
     "data": {
      "image/png": "[encoded data removed]",
      "text/plain": [
       "<Figure size 432x288 with 1 Axes>"
      ]
     },
     "metadata": {
      "needs_background": "light"
     },
     "output_type": "display_data"
    }
   ],
   "source": [
    "dfaccuracy = pd.DataFrame({ 'Model hist': history2.history['accuracy'], \n",
    "                           'Model Perd': history2.history['val_accuracy']})\n",
    "#line for train accuracy\n",
    "g = sns.pointplot(x= dfaccuracy.index, y=\"Model hist\", data=dfaccuracy, fit_reg=False)\n",
    "#line for test\n",
    "g = sns.pointplot(x=dfaccuracy.index, y=\"Model Perd\", data=dfaccuracy, fit_reg=False, color='Red')"
   ]
  },
  {
   "cell_type": "code",
   "execution_count": 42,
   "metadata": {
    "execution": {
     "iopub.execute_input": "2022-10-30T19:47:36.166378Z",
     "iopub.status.busy": "2022-10-30T19:47:36.165631Z",
     "iopub.status.idle": "2022-10-30T19:47:45.078325Z",
     "shell.execute_reply": "2022-10-30T19:47:45.076322Z"
    },
    "papermill": {
     "duration": 9.577059,
     "end_time": "2022-10-30T19:47:45.080975",
     "exception": false,
     "start_time": "2022-10-30T19:47:35.503916",
     "status": "completed"
    },
    "tags": []
   },
   "outputs": [
    {
     "name": "stdout",
     "output_type": "stream",
     "text": [
      "249/249 [==============================] - 9s 32ms/step - loss: 0.9934 - accuracy: 0.6934\n",
      "Test set\n",
      "  Loss: 0.993\n",
      "  Accuracy: 0.693\n"
     ]
    }
   ],
   "source": [
    "accr = model4.evaluate(indepentent_features_valid, depentent_feature_valid)\n",
    "print('Test set\\n  Loss: {:0.3f}\\n  Accuracy: {:0.3f}'.format(accr[0],accr[1]))\n",
    "models_results.append({\"model\": \"CNN\", \"result\": accr[1]})"
   ]
  },
  {
   "cell_type": "code",
   "execution_count": 43,
   "metadata": {
    "execution": {
     "iopub.execute_input": "2022-10-30T19:47:46.496808Z",
     "iopub.status.busy": "2022-10-30T19:47:46.496360Z",
     "iopub.status.idle": "2022-10-30T19:47:46.504388Z",
     "shell.execute_reply": "2022-10-30T19:47:46.503492Z"
    },
    "papermill": {
     "duration": 0.682462,
     "end_time": "2022-10-30T19:47:46.506376",
     "exception": false,
     "start_time": "2022-10-30T19:47:45.823914",
     "status": "completed"
    },
    "tags": []
   },
   "outputs": [],
   "source": [
    "results = pd.DataFrame(models_results).sort_values(by=\"result\")\n"
   ]
  },
  {
   "cell_type": "code",
   "execution_count": 44,
   "metadata": {
    "execution": {
     "iopub.execute_input": "2022-10-30T19:47:47.920425Z",
     "iopub.status.busy": "2022-10-30T19:47:47.919413Z",
     "iopub.status.idle": "2022-10-30T19:47:47.926321Z",
     "shell.execute_reply": "2022-10-30T19:47:47.925449Z"
    },
    "papermill": {
     "duration": 0.677099,
     "end_time": "2022-10-30T19:47:47.928381",
     "exception": false,
     "start_time": "2022-10-30T19:47:47.251282",
     "status": "completed"
    },
    "tags": []
   },
   "outputs": [],
   "source": [
    "results[\"result\"] = results[\"result\"].apply(lambda x : int(x * 100))"
   ]
  },
  {
   "cell_type": "code",
   "execution_count": 45,
   "metadata": {
    "execution": {
     "iopub.execute_input": "2022-10-30T19:47:49.351582Z",
     "iopub.status.busy": "2022-10-30T19:47:49.350835Z",
     "iopub.status.idle": "2022-10-30T19:47:49.666544Z",
     "shell.execute_reply": "2022-10-30T19:47:49.665339Z"
    },
    "papermill": {
     "duration": 1.069077,
     "end_time": "2022-10-30T19:47:49.669042",
     "exception": false,
     "start_time": "2022-10-30T19:47:48.599965",
     "status": "completed"
    },
    "tags": []
   },
   "outputs": [
    {
     "data": {
      "text/plain": [
       "Text(0.5, 1.0, 'Machine learning Models')"
      ]
     },
     "execution_count": 45,
     "metadata": {},
     "output_type": "execute_result"
    },
    {
     "data": {
      "image/png": "[encoded data removed]",
      "text/plain": [
       "<Figure size 864x576 with 1 Axes>"
      ]
     },
     "metadata": {
      "needs_background": "light"
     },
     "output_type": "display_data"
    }
   ],
   "source": [
    "plt.figure(figsize= (12, 8))\n",
    "sns.barplot(x=\"model\", y= \"result\", data= results[results[\"model\"].str.contains(\"count [v|V]ector|tfidf\")])\n",
    "plt.xticks(rotation = 45);\n",
    "plt.xlabel(\"model\")\n",
    "plt.ylabel(\"accuracy\")\n",
    "plt.title(\"Machine learning Models\")"
   ]
  },
  {
   "cell_type": "code",
   "execution_count": 46,
   "metadata": {
    "execution": {
     "iopub.execute_input": "2022-10-30T19:47:51.021297Z",
     "iopub.status.busy": "2022-10-30T19:47:51.019406Z",
     "iopub.status.idle": "2022-10-30T19:47:51.273436Z",
     "shell.execute_reply": "2022-10-30T19:47:51.272266Z"
    },
    "papermill": {
     "duration": 0.932127,
     "end_time": "2022-10-30T19:47:51.275930",
     "exception": false,
     "start_time": "2022-10-30T19:47:50.343803",
     "status": "completed"
    },
    "tags": []
   },
   "outputs": [
    {
     "data": {
      "text/plain": [
       "Text(0.5, 1.0, 'deep learning Models')"
      ]
     },
     "execution_count": 46,
     "metadata": {},
     "output_type": "execute_result"
    },
    {
     "data": {
      "image/png": "[encoded data removed]",
      "text/plain": [
       "<Figure size 864x576 with 1 Axes>"
      ]
     },
     "metadata": {
      "needs_background": "light"
     },
     "output_type": "display_data"
    }
   ],
   "source": [
    "plt.figure(figsize= (12, 8))\n",
    "sns.barplot(x=\"model\", y= \"result\", data= results[~results[\"model\"].str.contains(\"count [v|V]ector|tfidf\")])\n",
    "plt.xticks(rotation = 45);\n",
    "plt.xlabel(\"model\")\n",
    "plt.ylabel(\"accuracy\")\n",
    "plt.title(\"deep learning Models\")"
   ]
  }
 ],
 "metadata": {
  "kernelspec": {
   "display_name": "Python 3",
   "language": "python",
   "name": "python3"
  },
  "language_info": {
   "codemirror_mode": {
    "name": "ipython",
    "version": 3
   },
   "file_extension": ".py",
   "mimetype": "text/x-python",
   "name": "python",
   "nbconvert_exporter": "python",
   "pygments_lexer": "ipython3",
   "version": "3.7.4"
  },
  "papermill": {
   "default_parameters": {},
   "duration": 6297.161109,
   "end_time": "2022-10-30T19:48:00.464587",
   "environment_variables": {},
   "exception": null,
   "input_path": "__notebook__.ipynb",
   "output_path": "__notebook__.ipynb",
   "parameters": {},
   "start_time": "2022-10-30T18:03:03.303478",
   "version": "2.3.4"
  }
 },
 "nbformat": 4,
 "nbformat_minor": 5
}
