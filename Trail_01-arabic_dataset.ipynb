{
 "cells": [
  {
   "cell_type": "code",
   "execution_count": 1,
   "id": "bbad50b2",
   "metadata": {},
   "outputs": [],
   "source": [
    "import pandas as pd \n",
    "import nltk \n",
    "import re\n",
    "\n",
    "from nltk.stem.snowball import SnowballStemmer, ArabicStemmer\n",
    "\n",
    "\n",
    "from warnings import filterwarnings\n",
    "filterwarnings(\"ignore\")"
   ]
  },
  {
   "cell_type": "code",
   "execution_count": 3,
   "id": "bad4dec7",
   "metadata": {},
   "outputs": [],
   "source": [
    "# nltk.download(\"all\", quiet= True)"
   ]
  },
  {
   "cell_type": "markdown",
   "id": "bf22f3d0",
   "metadata": {},
   "source": [
    "[trail01](https://www.kaggle.com/code/haithemhermessi/arabic-text-classification-using-deep-learning/notebook)"
   ]
  },
  {
   "cell_type": "markdown",
   "id": "30d65df0",
   "metadata": {},
   "source": [
    "##### more advanced stemming tool "
   ]
  },
  {
   "cell_type": "markdown",
   "id": "9b70f99c",
   "metadata": {},
   "source": [
    "##### 1. Tashaphyne"
   ]
  },
  {
   "cell_type": "code",
   "execution_count": 4,
   "id": "3954ab48",
   "metadata": {},
   "outputs": [],
   "source": [
    "# !pip install Tashaphyne"
   ]
  },
  {
   "cell_type": "code",
   "execution_count": 5,
   "id": "2f45e755",
   "metadata": {},
   "outputs": [],
   "source": [
    "from tashaphyne.stemming import ArabicLightStemmer"
   ]
  },
  {
   "cell_type": "code",
   "execution_count": 6,
   "id": "c99189e0",
   "metadata": {},
   "outputs": [],
   "source": [
    "arabic_stemming = ArabicLightStemmer()"
   ]
  },
  {
   "cell_type": "code",
   "execution_count": 7,
   "id": "8956912b",
   "metadata": {},
   "outputs": [
    {
     "data": {
      "text/plain": [
       "'سيكفيك'"
      ]
     },
     "execution_count": 7,
     "metadata": {},
     "output_type": "execute_result"
    }
   ],
   "source": [
    "arabic_stemming.light_stem(\"فسيكفيكهم\")"
   ]
  },
  {
   "cell_type": "code",
   "execution_count": 8,
   "id": "91a9d85e",
   "metadata": {},
   "outputs": [
    {
     "data": {
      "text/plain": [
       "'سيكفيك'"
      ]
     },
     "execution_count": 8,
     "metadata": {},
     "output_type": "execute_result"
    }
   ],
   "source": [
    "arabic_stemming.get_stem()"
   ]
  },
  {
   "cell_type": "code",
   "execution_count": 9,
   "id": "8d83434a",
   "metadata": {},
   "outputs": [
    {
     "data": {
      "text/plain": [
       "'كفي'"
      ]
     },
     "execution_count": 9,
     "metadata": {},
     "output_type": "execute_result"
    }
   ],
   "source": [
    "arabic_stemming.get_root()"
   ]
  },
  {
   "cell_type": "code",
   "execution_count": 10,
   "id": "60b021cd",
   "metadata": {},
   "outputs": [
    {
     "data": {
      "text/plain": [
       "'كهم'"
      ]
     },
     "execution_count": 10,
     "metadata": {},
     "output_type": "execute_result"
    }
   ],
   "source": [
    "arabic_stemming.get_suffix()"
   ]
  },
  {
   "cell_type": "code",
   "execution_count": 11,
   "id": "51c39d74",
   "metadata": {},
   "outputs": [],
   "source": [
    "# arabic_stemming.prefix_list"
   ]
  },
  {
   "cell_type": "code",
   "execution_count": 12,
   "id": "a97815a1",
   "metadata": {},
   "outputs": [],
   "source": [
    "def get_stemming(word):\n",
    "    arabic_stemming = ArabicLightStemmer()\n",
    "    return (\n",
    "        arabic_stemming.light_stem(word),\n",
    "        arabic_stemming.get_stem(),\n",
    "        arabic_stemming.get_root(),\n",
    "        arabic_stemming.get_prefix(),\n",
    "        arabic_stemming.get_suffix(),\n",
    "        arabic_stemming.get_affix()\n",
    "    )"
   ]
  },
  {
   "cell_type": "code",
   "execution_count": 13,
   "id": "a25e23b2",
   "metadata": {},
   "outputs": [
    {
     "data": {
      "text/plain": [
       "('سيكفيك', 'سيكفيك', 'كفي', 'سي', 'كهم', 'سي-كهم')"
      ]
     },
     "execution_count": 13,
     "metadata": {},
     "output_type": "execute_result"
    }
   ],
   "source": [
    "get_stemming(\"سيكفيكهم\")"
   ]
  },
  {
   "cell_type": "markdown",
   "id": "ff23ad95",
   "metadata": {},
   "source": [
    "##### farasapy [ref](https://github.com/MagedSaeed/farasapy)\n"
   ]
  },
  {
   "cell_type": "code",
   "execution_count": 14,
   "id": "0b7f0bf9",
   "metadata": {},
   "outputs": [
    {
     "name": "stdout",
     "output_type": "stream",
     "text": [
      "Requirement already satisfied: farasapy in c:\\programdata\\anaconda3\\lib\\site-packages (0.0.14)\n",
      "Requirement already satisfied: tqdm in c:\\programdata\\anaconda3\\lib\\site-packages (from farasapy) (4.62.3)\n",
      "Requirement already satisfied: requests in c:\\programdata\\anaconda3\\lib\\site-packages (from farasapy) (2.26.0)\n",
      "Requirement already satisfied: urllib3<1.27,>=1.21.1 in c:\\programdata\\anaconda3\\lib\\site-packages (from requests->farasapy) (1.26.7)\n",
      "Requirement already satisfied: certifi>=2017.4.17 in c:\\programdata\\anaconda3\\lib\\site-packages (from requests->farasapy) (2022.5.18.1)\n",
      "Requirement already satisfied: charset-normalizer~=2.0.0 in c:\\programdata\\anaconda3\\lib\\site-packages (from requests->farasapy) (2.0.4)\n",
      "Requirement already satisfied: idna<4,>=2.5 in c:\\programdata\\anaconda3\\lib\\site-packages (from requests->farasapy) (3.2)\n",
      "Requirement already satisfied: colorama in c:\\programdata\\anaconda3\\lib\\site-packages (from tqdm->farasapy) (0.4.4)\n"
     ]
    },
    {
     "name": "stderr",
     "output_type": "stream",
     "text": [
      "WARNING: Ignoring invalid distribution - (c:\\programdata\\anaconda3\\lib\\site-packages)\n",
      "WARNING: Ignoring invalid distribution -equests (c:\\programdata\\anaconda3\\lib\\site-packages)\n",
      "WARNING: Ignoring invalid distribution -cikit-learn (c:\\programdata\\anaconda3\\lib\\site-packages)\n",
      "WARNING: Ignoring invalid distribution - (c:\\programdata\\anaconda3\\lib\\site-packages)\n",
      "WARNING: Ignoring invalid distribution -equests (c:\\programdata\\anaconda3\\lib\\site-packages)\n",
      "WARNING: Ignoring invalid distribution -cikit-learn (c:\\programdata\\anaconda3\\lib\\site-packages)\n",
      "WARNING: Ignoring invalid distribution - (c:\\programdata\\anaconda3\\lib\\site-packages)\n",
      "WARNING: Ignoring invalid distribution -equests (c:\\programdata\\anaconda3\\lib\\site-packages)\n",
      "WARNING: Ignoring invalid distribution -cikit-learn (c:\\programdata\\anaconda3\\lib\\site-packages)\n",
      "WARNING: Ignoring invalid distribution - (c:\\programdata\\anaconda3\\lib\\site-packages)\n",
      "WARNING: Ignoring invalid distribution -equests (c:\\programdata\\anaconda3\\lib\\site-packages)\n",
      "WARNING: Ignoring invalid distribution -cikit-learn (c:\\programdata\\anaconda3\\lib\\site-packages)\n",
      "WARNING: Ignoring invalid distribution - (c:\\programdata\\anaconda3\\lib\\site-packages)\n",
      "WARNING: Ignoring invalid distribution -equests (c:\\programdata\\anaconda3\\lib\\site-packages)\n",
      "WARNING: Ignoring invalid distribution -cikit-learn (c:\\programdata\\anaconda3\\lib\\site-packages)\n",
      "WARNING: Ignoring invalid distribution - (c:\\programdata\\anaconda3\\lib\\site-packages)\n",
      "WARNING: Ignoring invalid distribution -equests (c:\\programdata\\anaconda3\\lib\\site-packages)\n",
      "WARNING: Ignoring invalid distribution -cikit-learn (c:\\programdata\\anaconda3\\lib\\site-packages)\n"
     ]
    }
   ],
   "source": [
    "!pip install -U farasapy"
   ]
  },
  {
   "cell_type": "code",
   "execution_count": 15,
   "id": "2158a3b4",
   "metadata": {},
   "outputs": [],
   "source": [
    "from farasa.pos import FarasaPOSTagger\n",
    "from farasa.ner import FarasaNamedEntityRecognizer\n",
    "from farasa.diacratizer import FarasaDiacritizer\n",
    "from farasa.segmenter import FarasaSegmenter\n",
    "from farasa.stemmer import FarasaStemmer\n",
    "\n",
    "\n",
    "# # https://r12a.github.io/scripts/tutorial/summaries/arabic\n",
    "# sample = \"\"\"\n",
    "# يُشار إلى أن اللغة العربية يتحدثها أكثر من 422 مليون نسمة ويتوزع متحدثوها في المنطقة المعروفة باسم الوطن العربي بالإضافة إلى العديد من المناطق الأخرى المجاورة مثل الأهواز وتركيا وتشاد والسنغال وإريتريا وغيرها.     وهي اللغة الرابعة من لغات منظمة الأمم المتحدة الرسمية الست منذ 99/9/1999. /\n",
    "# \"\"\"\n",
    "\n",
    "\n",
    "# \"\"\"\n",
    "# ---------------------\n",
    "# non interactive mode\n",
    "# ---------------------\n",
    "# \"\"\"\n",
    "# print(\"original sample:\", sample)\n",
    "# print(\"----------------------------------------\")\n",
    "# print(\"Farasa features, noninteractive mode.\")\n",
    "# print(\"----------------------------------------\")\n",
    "# segmenter = FarasaSegmenter()\n",
    "# segmented = segmenter.segment(sample)\n",
    "# print(\"sample segmented:\", segmented)\n",
    "# print(\"----------------------------------------------\")\n",
    "\n",
    "# stemmer = FarasaStemmer()\n",
    "# stemmed = stemmer.stem(sample)\n",
    "# print(\"sample stemmed:\", stemmed)\n",
    "# print(\"----------------------------------------------\")\n",
    "\n",
    "# pos_tagger = FarasaPOSTagger()\n",
    "# pos_tagged = pos_tagger.tag(sample)\n",
    "# print(\"sample POS Tagged\", pos_tagged)\n",
    "# print(\"----------------------------------------------\")\n",
    "\n",
    "# pos_tagger_interactive = FarasaPOSTagger()\n",
    "# pos_tagged_interactive = pos_tagger_interactive.tag_segments(sample)\n",
    "# print(\"sample POS Tagged Segments\", pos_tagged_interactive)\n",
    "# print(\"----------------------------------------------\")\n",
    "\n",
    "# named_entity_recognizer = FarasaNamedEntityRecognizer()\n",
    "# named_entity_recognized = named_entity_recognizer.recognize(sample)\n",
    "# print(\"sample named entity recognized:\", named_entity_recognized)\n",
    "# print(\"----------------------------------------------\")\n",
    "\n",
    "# diacritizer = FarasaDiacritizer()\n",
    "# diacritized = diacritizer.diacritize(sample)\n",
    "# print(\"sample diacritized:\", diacritized)\n",
    "# print(\"----------------------------------------------\")\n",
    "\n",
    "# \"\"\"\n",
    "# ---------------------\n",
    "# interactive mode\n",
    "# ---------------------\n",
    "# \"\"\"\n",
    "# print(\"----------------------------------------\")\n",
    "# print(\"Farasa features, interactive mode.\")\n",
    "# print(\"----------------------------------------\")\n",
    "\n",
    "# segmenter_interactive = FarasaSegmenter(interactive=True)\n",
    "# segmented_interactive = segmenter_interactive.segment(sample)\n",
    "# print(\"sample segmented (interactive):\", segmented_interactive)\n",
    "# print(\"----------------------------------------------\")\n",
    "\n",
    "# stemmer_interactive = FarasaStemmer(interactive=True)\n",
    "# stemmed_interactive = stemmer_interactive.stem(sample)\n",
    "# print(\"sample stemmed (interactive):\", stemmed_interactive)\n",
    "# print(\"----------------------------------------------\")\n",
    "\n",
    "# pos_tagger_interactive = FarasaPOSTagger(interactive=True)\n",
    "# pos_tagged_interactive = pos_tagger_interactive.tag(sample)\n",
    "# print(\"sample POS Tagged (interactive)\", pos_tagged_interactive)\n",
    "# print(\"----------------------------------------------\")\n",
    "\n",
    "# pos_tagger_interactive = FarasaPOSTagger(interactive=True)\n",
    "# pos_tagged_interactive = pos_tagger_interactive.tag_segments(sample)\n",
    "# print(\"sample POS Tagged Segments (interactive)\", pos_tagged_interactive)\n",
    "# print(\"----------------------------------------------\")\n",
    "\n",
    "# named_entity_recognizer_interactive = FarasaNamedEntityRecognizer(interactive=True)\n",
    "# named_entity_recognized_interactive = named_entity_recognizer_interactive.recognize(\n",
    "#     sample\n",
    "# )\n",
    "# print(\n",
    "#     \"sample named entity recognized (interactive):\", named_entity_recognized_interactive\n",
    "# )\n",
    "# print(\"----------------------------------------------\")\n",
    "\n",
    "# diacritizer_interactive = FarasaDiacritizer(interactive=True)\n",
    "# diacritized_interactive = diacritizer_interactive.diacritize(sample)\n",
    "# print(\"sample diacritized (interactive):\", diacritized_interactive)\n",
    "# print(\"----------------------------------------------\")"
   ]
  },
  {
   "cell_type": "code",
   "execution_count": 16,
   "id": "2582bf8c",
   "metadata": {},
   "outputs": [],
   "source": [
    "# stemmer = FarasaStemmer()"
   ]
  },
  {
   "cell_type": "code",
   "execution_count": null,
   "id": "9db186fa",
   "metadata": {},
   "outputs": [],
   "source": []
  },
  {
   "cell_type": "code",
   "execution_count": null,
   "id": "219492c0",
   "metadata": {},
   "outputs": [],
   "source": []
  },
  {
   "cell_type": "code",
   "execution_count": null,
   "id": "6d15894f",
   "metadata": {},
   "outputs": [],
   "source": []
  },
  {
   "cell_type": "code",
   "execution_count": 30,
   "id": "f397330c",
   "metadata": {},
   "outputs": [],
   "source": [
    "df = pd.read_csv(\"Data/final_data_ar.csv\")"
   ]
  },
  {
   "cell_type": "code",
   "execution_count": 32,
   "id": "e2727cfe",
   "metadata": {},
   "outputs": [],
   "source": [
    "df.rename(columns= {\"arabic_class\": \"class\", \"arabic_text\": \"text\"}, inplace=True)\n",
    "df = df[[\"text\", \"class\"]]"
   ]
  },
  {
   "attachments": {
    "image.png": {
     "image/png": "[encoded data removed]"
    }
   },
   "cell_type": "markdown",
   "id": "6feee2f8",
   "metadata": {},
   "source": [
    "![image.png](attachment:image.png)"
   ]
  },
  {
   "cell_type": "markdown",
   "id": "f051be29",
   "metadata": {},
   "source": [
    "#### Preprocessing "
   ]
  },
  {
   "cell_type": "code",
   "execution_count": 33,
   "id": "e0f5859b",
   "metadata": {},
   "outputs": [],
   "source": [
    "\n",
    "#the stemmer requires a language parameter\n",
    "snow_stemmer = SnowballStemmer(language='arabic')"
   ]
  },
  {
   "cell_type": "code",
   "execution_count": 39,
   "id": "801802ad",
   "metadata": {},
   "outputs": [],
   "source": [
    "def normalize_text(text):\n",
    "    \"\"\"\n",
    "        this function used to convert all letter to standar ones \n",
    "        \n",
    "    \"\"\"\n",
    "    \n",
    "    return text # due to all the given text is translated from google translate we don't need to  normalize\n",
    "    text = text.strip()\n",
    "    text = re.sub(\"[إأٱآا]\", \"ا\", text)\n",
    "    text = re.sub(\"ى\" , \"ي\", text)\n",
    "    text = re.sub(\"ؤ\", \"ء\", text)\n",
    "    text = re.sub(\"ئ\", \"ء\", text)\n",
    "    text = re.sub(\"ة\" , \"ه\", text)\n",
    "    text = re.sub(\"[ًٌٍَُِّ]\", \"\", text)\n",
    "    return text\n",
    "\n",
    "def basic_cleaning(text):\n",
    "    \"\"\"\n",
    "        this function used to perform the basic cleaning steps like \n",
    "            1. remove digit \n",
    "            2. remove repeated words \n",
    "            3. remove emojis \n",
    "            4. remove hashtage and \n",
    "        \n",
    "    \"\"\"\n",
    "    \n",
    "    #the stemmer requires a language parameter\n",
    "    text =  \" \".join([ snow_stemmer.stem(word) for word in text.split()])\n",
    "    text = normalize_text(text)\n",
    "    # use the Ascii code to detect arabic letters only \n",
    "    text = re.sub(r'[^0-9\\u0600-\\u06ff\\u0750-\\u077f\\ufb50-\\ufbc1\\ufbd3-\\ufd3f\\ufd50-\\ufd8f\\ufd50-\\ufd8f\\ufe70-\\ufefc\\uFDF0-\\uFDFD]+', ' ', text)\n",
    "    # remove digits \n",
    "    text = re.sub(\"[0-9]+\", \"\", text)\n",
    "    text = re.sub(\"[#@$%^&*!.,’/،ـ÷×٪؛<>؟~]\", \"\", text)\n",
    "    # stemmer      \n",
    "    text = \" \".join([get_stemming(word)[1] for word in text.split()])\n",
    "    \n",
    "    text = \" \".join([ word for word in text.split() if not (word in arb_stopwords or word in normalized_arb_stopwords)])\n",
    "    return text"
   ]
  },
  {
   "cell_type": "code",
   "execution_count": 40,
   "id": "c8997100",
   "metadata": {},
   "outputs": [
    {
     "data": {
      "text/plain": [
       "('ريد', 'ريد', 'ورد', 'ا', '', 'ا-')"
      ]
     },
     "execution_count": 40,
     "metadata": {},
     "output_type": "execute_result"
    }
   ],
   "source": [
    "get_stemming(\"اريد\")"
   ]
  },
  {
   "cell_type": "code",
   "execution_count": 41,
   "id": "369f15b2",
   "metadata": {},
   "outputs": [],
   "source": [
    "arb_stopwords = set(nltk.corpus.stopwords.words(\"arabic\"))\n",
    "normalized_arb_stopwords = [normalize_text(sw) for sw in arb_stopwords]"
   ]
  },
  {
   "cell_type": "code",
   "execution_count": 42,
   "id": "873bed2f",
   "metadata": {},
   "outputs": [
    {
     "data": {
      "text/plain": [
       "'ريد قول شكر جزيل رد واصل قط تاكد نن موافق'"
      ]
     },
     "execution_count": 42,
     "metadata": {},
     "output_type": "execute_result"
    }
   ],
   "source": [
    "df.iloc[:1][\"text\"].apply(basic_cleaning).iloc[0]"
   ]
  },
  {
   "cell_type": "code",
   "execution_count": 43,
   "id": "c9f9985f",
   "metadata": {},
   "outputs": [
    {
     "data": {
      "text/plain": [
       "'RTmaideeeni: أريد أن أقول شكراً جزيلاً لكل فرد منكم تواصل معي ، فقط للتأكد من أنني موافق'"
      ]
     },
     "execution_count": 43,
     "metadata": {},
     "output_type": "execute_result"
    }
   ],
   "source": [
    "df.loc[0, \"text\"]"
   ]
  },
  {
   "cell_type": "code",
   "execution_count": 44,
   "id": "8b3e30b0",
   "metadata": {},
   "outputs": [
    {
     "data": {
      "text/plain": [
       "'حديث حساس مفرط قاح حال ملي قاح غض دقيق'"
      ]
     },
     "execution_count": 44,
     "metadata": {},
     "output_type": "execute_result"
    }
   ],
   "source": [
    "df.iloc[:10][\"text\"].apply(basic_cleaning).iloc[5]"
   ]
  },
  {
   "cell_type": "code",
   "execution_count": 45,
   "id": "3dbaee7c",
   "metadata": {},
   "outputs": [
    {
     "data": {
      "text/plain": [
       "'RTEricTopol: تحديث للحساسية المفرطة من لقاحات mRNA: 66 حالة من ~ 18 مليون لقاح (= 0.00000003٪). الكل ما عدا 1 في غضون 11 دقيقة'"
      ]
     },
     "execution_count": 45,
     "metadata": {},
     "output_type": "execute_result"
    }
   ],
   "source": [
    "df.loc[5, \"text\"]"
   ]
  },
  {
   "cell_type": "code",
   "execution_count": 46,
   "id": "8a24948b",
   "metadata": {},
   "outputs": [],
   "source": [
    "df[\"clean_text\"] = df[\"text\"].apply(basic_cleaning)"
   ]
  },
  {
   "cell_type": "code",
   "execution_count": 47,
   "id": "9e920f90",
   "metadata": {},
   "outputs": [
    {
     "data": {
      "text/plain": [
       "'طير شوف ريم طير جب حتاج'"
      ]
     },
     "execution_count": 47,
     "metadata": {},
     "output_type": "execute_result"
    }
   ],
   "source": [
    "df[\"clean_text\"].iloc[39765]"
   ]
  },
  {
   "cell_type": "code",
   "execution_count": 48,
   "id": "d390463e",
   "metadata": {},
   "outputs": [
    {
     "data": {
      "text/html": [
       "<div>\n",
       "<style scoped>\n",
       "    .dataframe tbody tr th:only-of-type {\n",
       "        vertical-align: middle;\n",
       "    }\n",
       "\n",
       "    .dataframe tbody tr th {\n",
       "        vertical-align: top;\n",
       "    }\n",
       "\n",
       "    .dataframe thead th {\n",
       "        text-align: right;\n",
       "    }\n",
       "</style>\n",
       "<table border=\"1\" class=\"dataframe\">\n",
       "  <thead>\n",
       "    <tr style=\"text-align: right;\">\n",
       "      <th></th>\n",
       "      <th>text</th>\n",
       "      <th>class</th>\n",
       "      <th>clean_text</th>\n",
       "    </tr>\n",
       "  </thead>\n",
       "  <tbody>\n",
       "    <tr>\n",
       "      <th>0</th>\n",
       "      <td>RTmaideeeni: أريد أن أقول شكراً جزيلاً لكل فرد...</td>\n",
       "      <td>القلق</td>\n",
       "      <td>ريد قول شكر جزيل رد واصل قط تاكد نن موافق</td>\n",
       "    </tr>\n",
       "    <tr>\n",
       "      <th>1</th>\n",
       "      <td>تضمين التغريدة أنا فقط بحاجة إلى 320! شكرا على...</td>\n",
       "      <td>وحيد</td>\n",
       "      <td>ضم غريد قط حاج لى شكر رص</td>\n",
       "    </tr>\n",
       "    <tr>\n",
       "      <th>2</th>\n",
       "      <td>SAD_istfied سأبكي / نقاط البيع</td>\n",
       "      <td>ضغط عصبى</td>\n",
       "      <td>ساب قاط يع</td>\n",
       "    </tr>\n",
       "  </tbody>\n",
       "</table>\n",
       "</div>"
      ],
      "text/plain": [
       "                                                text     class  \\\n",
       "0  RTmaideeeni: أريد أن أقول شكراً جزيلاً لكل فرد...     القلق   \n",
       "1  تضمين التغريدة أنا فقط بحاجة إلى 320! شكرا على...      وحيد   \n",
       "2                     SAD_istfied سأبكي / نقاط البيع  ضغط عصبى   \n",
       "\n",
       "                                  clean_text  \n",
       "0  ريد قول شكر جزيل رد واصل قط تاكد نن موافق  \n",
       "1                   ضم غريد قط حاج لى شكر رص  \n",
       "2                                 ساب قاط يع  "
      ]
     },
     "execution_count": 48,
     "metadata": {},
     "output_type": "execute_result"
    }
   ],
   "source": [
    "df.head(3)"
   ]
  },
  {
   "cell_type": "code",
   "execution_count": 49,
   "id": "30eff91a",
   "metadata": {},
   "outputs": [
    {
     "data": {
      "text/plain": [
       "'حديث حساس مفرط قاح حال ملي قاح غض دقيق'"
      ]
     },
     "execution_count": 49,
     "metadata": {},
     "output_type": "execute_result"
    }
   ],
   "source": [
    "df.loc[5, \"clean_text\"]`"
   ]
  },
  {
   "cell_type": "code",
   "execution_count": 56,
   "id": "56acd8e1",
   "metadata": {},
   "outputs": [],
   "source": [
    "# df.to_csv(\"cleaned1.csv\", encoding=\"utf-8\")"
   ]
  },
  {
   "cell_type": "code",
   "execution_count": 17,
   "id": "c28d1152",
   "metadata": {},
   "outputs": [],
   "source": [
    "df = pd.read_csv(\"cleaned1.csv\")"
   ]
  },
  {
   "cell_type": "markdown",
   "id": "67917a86",
   "metadata": {},
   "source": [
    "#### Feature extraction "
   ]
  },
  {
   "cell_type": "code",
   "execution_count": 118,
   "id": "917b652b",
   "metadata": {},
   "outputs": [],
   "source": [
    "from sklearn import preprocessing, model_selection, linear_model, naive_bayes, metrics, svm\n",
    "from sklearn.feature_extraction.text import CountVectorizer,TfidfVectorizer\n",
    "from sklearn import decomposition, ensemble\n",
    "\n",
    "\n",
    "\n",
    "from sklearn.metrics import classification_report\n",
    "from sklearn.metrics import confusion_matrix\n",
    "from sklearn.metrics import accuracy_score\n",
    "from sklearn.metrics import mean_absolute_error\n",
    "\n",
    "\n",
    "from sklearn.pipeline import make_pipeline"
   ]
  },
  {
   "cell_type": "code",
   "execution_count": 101,
   "id": "b72c8d73",
   "metadata": {},
   "outputs": [
    {
     "data": {
      "text/plain": [
       "0    12585\n",
       "2    10022\n",
       "1     8599\n",
       "3     8560\n",
       "Name: class, dtype: int64"
      ]
     },
     "execution_count": 101,
     "metadata": {},
     "output_type": "execute_result"
    }
   ],
   "source": [
    "# Lsampleels encode the target variable\n",
    "encoder = preprocessing.LabelEncoder()\n",
    "df['class'] = encoder.fit_transform(df['class'])\n",
    "# The following is the data after encoding.\n",
    "df['class'].value_counts()"
   ]
  },
  {
   "cell_type": "code",
   "execution_count": 102,
   "id": "b9ca3ff5",
   "metadata": {},
   "outputs": [],
   "source": [
    "X = df['clean_text'].values.astype(\"U\")\n",
    "Y = df['class'].values.astype(\"U\")"
   ]
  },
  {
   "cell_type": "code",
   "execution_count": 103,
   "id": "eac88d9c",
   "metadata": {},
   "outputs": [],
   "source": [
    "Xtrain, Xtest, Ytrain, Ytest = model_selection.train_test_split(X, Y, stratify= Y)"
   ]
  },
  {
   "cell_type": "code",
   "execution_count": 104,
   "id": "b12f3e1e",
   "metadata": {},
   "outputs": [
    {
     "data": {
      "text/plain": [
       "array(['ريد قول شكر جزيل رد واصل قط تاكد نن موافق',\n",
       "       'ضم غريد قط حاج لى شكر رص', 'ساب قاط يع', ...,\n",
       "       'ثير مرح ثلج تاب يام ثلج لد وم مدهش تاب مشار ركو يض عليق مد صف حقق تاب بد كء فضل وم ثلج طلاق يس',\n",
       "       'حساس جد قت ترانس كتشف زملاء غرف مر وم طرد شق حرفي فد دموع حتاج قط لى مساعد دق وم ثني رسوم دق يل شيء ساعد مساعد متبادل',\n",
       "       'طير شوف ريم طير جب حتاج'], dtype=object)"
      ]
     },
     "execution_count": 104,
     "metadata": {},
     "output_type": "execute_result"
    }
   ],
   "source": [
    "df['clean_text'].values"
   ]
  },
  {
   "cell_type": "code",
   "execution_count": 105,
   "id": "07a94c71",
   "metadata": {},
   "outputs": [],
   "source": [
    "from sklearn.linear_model import LogisticRegression"
   ]
  },
  {
   "cell_type": "code",
   "execution_count": 106,
   "id": "37b8eed1",
   "metadata": {},
   "outputs": [],
   "source": [
    "# pipe = make_pipeline(TfidfVectorizer(),\n",
    "#                     LogisticRegression())\n",
    "# # make param grid\n",
    "# param_grid = {'logisticregression__C': [0.01, 0.1, 1, 10, 100]}\n",
    "\n",
    "# # create and fit the model\n",
    "# model = model_selection.GridSearchCV(pipe, param_grid, cv=5)\n",
    "# model.fit(Xtrain,Ytrain)"
   ]
  },
  {
   "cell_type": "code",
   "execution_count": 107,
   "id": "38f507e8",
   "metadata": {},
   "outputs": [],
   "source": [
    "import numpy as np "
   ]
  },
  {
   "cell_type": "code",
   "execution_count": 108,
   "id": "db685180",
   "metadata": {},
   "outputs": [],
   "source": [
    "X = X.astype(np.unicode_)"
   ]
  },
  {
   "cell_type": "code",
   "execution_count": 109,
   "id": "5bc2115a",
   "metadata": {},
   "outputs": [
    {
     "data": {
      "text/plain": [
       "numpy.str_"
      ]
     },
     "execution_count": 109,
     "metadata": {},
     "output_type": "execute_result"
    }
   ],
   "source": [
    "type(X[0])"
   ]
  },
  {
   "cell_type": "code",
   "execution_count": 110,
   "id": "f35c9f4e",
   "metadata": {},
   "outputs": [],
   "source": [
    "# Feature Engineering\n",
    "\n",
    "cv = CountVectorizer()\n",
    "cv.fit_transform(X)\n",
    "cv_xtrain =  cv.transform(Xtrain)\n",
    "cv_xtest =  cv.transform(Xtest)\n",
    "\n",
    "\n",
    "# The following is word-level TF-IDF.\n",
    "tv = TfidfVectorizer()\n",
    "tv.fit_transform(X)\n",
    "\n",
    "# Transform the training and validation data using TF-IDF object.\n",
    "tv_xtrain =  tv.transform(Xtrain)\n",
    "tv_xtest =  tv.transform(Xtest)"
   ]
  },
  {
   "cell_type": "code",
   "execution_count": 111,
   "id": "5f4db1fd",
   "metadata": {},
   "outputs": [],
   "source": [
    "def build(model_initializer, independent_variables_training, target, independent_variable_test):\n",
    "    # fit\n",
    "    model_initializer.fit(independent_variables_training, target)\n",
    "    # predict\n",
    "    modelPred = model_initializer.predict(independent_variable_test)\n",
    "    return metrics.accuracy_score(modelPred, Ytest)"
   ]
  },
  {
   "cell_type": "code",
   "execution_count": 112,
   "id": "f3282ca3",
   "metadata": {},
   "outputs": [
    {
     "name": "stdout",
     "output_type": "stream",
     "text": [
      "count vector : 0.6516797425065379\n",
      "tfidf vector : 0.6256286461476565\n"
     ]
    }
   ],
   "source": [
    "output = build(naive_bayes.MultinomialNB(), cv_xtrain, Ytrain, cv_xtest)\n",
    "print(f\"count vector : {output}\")\n",
    "\n",
    "output = build(naive_bayes.MultinomialNB(), tv_xtrain, Ytrain, tv_xtest)\n",
    "print(f\"tfidf vector : {output}\")"
   ]
  },
  {
   "cell_type": "code",
   "execution_count": 113,
   "id": "909b8960",
   "metadata": {},
   "outputs": [
    {
     "name": "stdout",
     "output_type": "stream",
     "text": [
      "count vector: 0.776000804667069\n",
      "tfidf vector : 0.7743914705290686\n"
     ]
    }
   ],
   "source": [
    "#for cv\n",
    "output = build(svm.SVC(), cv_xtrain, Ytrain, cv_xtest)\n",
    "print(f\"count vector: {output}\")\n",
    "#for TF-IDF\n",
    "output = build(svm.SVC(), tv_xtrain, Ytrain, tv_xtest)\n",
    "print(f\"tfidf vector : {output}\")"
   ]
  },
  {
   "cell_type": "code",
   "execution_count": 114,
   "id": "36ffa852",
   "metadata": {},
   "outputs": [
    {
     "name": "stdout",
     "output_type": "stream",
     "text": [
      "count vector: 0.76020921343794\n",
      "tfidf vector : 0.7459263729631865\n"
     ]
    }
   ],
   "source": [
    "# for CV\n",
    "output = build(linear_model.LogisticRegression(), cv_xtrain, Ytrain, cv_xtest)\n",
    "print(f\"count vector: {output}\")\n",
    "# for TF-IDF\n",
    "output = build(linear_model.LogisticRegression(), tv_xtrain, Ytrain, tv_xtest)\n",
    "\n",
    "print(f\"tfidf vector : {output}\")"
   ]
  },
  {
   "cell_type": "code",
   "execution_count": 117,
   "id": "b65f6a22",
   "metadata": {},
   "outputs": [
    {
     "name": "stdout",
     "output_type": "stream",
     "text": [
      "count vector: 0.7775095554214444\n",
      "tfidf vector : 0.780124723395695\n"
     ]
    }
   ],
   "source": [
    "#for CV\n",
    "output = build(ensemble.RandomForestClassifier(), cv_xtrain, Ytrain, cv_xtest)\n",
    "print(f\"count vector: {output}\")\n",
    "\n",
    "#for TF-IDF\n",
    "output = build(ensemble.RandomForestClassifier(), tv_xtrain, Ytrain, tv_xtest)\n",
    "print(f\"tfidf vector : {output}\")"
   ]
  },
  {
   "cell_type": "code",
   "execution_count": 119,
   "id": "3f88603c",
   "metadata": {},
   "outputs": [
    {
     "name": "stdout",
     "output_type": "stream",
     "text": [
      "              precision    recall  f1-score   support\n",
      "\n",
      "           0       0.75      0.67      0.71      3146\n",
      "           1       0.94      0.89      0.91      2150\n",
      "           2       0.81      0.90      0.86      2506\n",
      "           3       0.64      0.69      0.66      2140\n",
      "\n",
      "    accuracy                           0.78      9942\n",
      "   macro avg       0.79      0.79      0.79      9942\n",
      "weighted avg       0.78      0.78      0.78      9942\n",
      "\n"
     ]
    }
   ],
   "source": [
    "classifier = ensemble.RandomForestClassifier().fit(tv_xtrain, Ytrain)\n",
    "val_predictions = classifier.predict(tv_xtest)\n",
    "# Precision , Recall , F1 - score , Support\n",
    "y_true, y_pred = Ytest, val_predictions\n",
    "print(classification_report(y_true, y_pred))"
   ]
  },
  {
   "cell_type": "code",
   "execution_count": null,
   "id": "17b5cc6b",
   "metadata": {},
   "outputs": [],
   "source": []
  }
 ],
 "metadata": {
  "kernelspec": {
   "display_name": "Python 3 (ipykernel)",
   "language": "python",
   "name": "python3"
  },
  "language_info": {
   "codemirror_mode": {
    "name": "ipython",
    "version": 3
   },
   "file_extension": ".py",
   "mimetype": "text/x-python",
   "name": "python",
   "nbconvert_exporter": "python",
   "pygments_lexer": "ipython3",
   "version": "3.9.7"
  }
 },
 "nbformat": 4,
 "nbformat_minor": 5
}
