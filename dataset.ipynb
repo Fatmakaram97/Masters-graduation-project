{
  "nbformat": 4,
  "nbformat_minor": 0,
  "metadata": {
    "colab": {
      "provenance": [],
      "collapsed_sections": []
    },
    "kernelspec": {
      "name": "python3",
      "display_name": "Python 3"
    },
    "language_info": {
      "name": "python"
    }
  },
  "cells": [
    {
      "cell_type": "code",
      "execution_count": null,
      "metadata": {
        "id": "HSrRl1uoyG1d"
      },
      "outputs": [],
      "source": [
        "import pandas as pd\n"
      ]
    },
    {
      "cell_type": "code",
      "source": [
        "data=pd.read_csv('final_data_en.csv')\n",
        "data"
      ],
      "metadata": {
        "colab": {
          "base_uri": "https://localhost:8080/",
          "height": 424
        },
        "id": "__fPQoIWzgFK",
        "outputId": "6cdf72e0-69e6-4a96-d99c-71ac1b0d4390"
      },
      "execution_count": null,
      "outputs": [
        {
          "output_type": "execute_result",
          "data": {
            "text/plain": [
              "         id                      location             tweetcreatedts  \\\n",
              "0      1039        the nationwood street   2021-02-08 19:07:40+00:00   \n",
              "1      1682  RH Waiting For Update Planet  2021-02-03 23:58:40+00:00   \n",
              "2      5275          Any pronouns ¡ GMT+8  2021-01-27 23:57:59+00:00   \n",
              "3      6069                      ........  2021-02-03 23:58:23+00:00   \n",
              "4      6087                  St Louis, MO  2021-02-12 20:27:58+00:00   \n",
              "...     ...                           ...                        ...   \n",
              "39761  7813                 Charlotte, NC  2021-01-27 23:58:57+00:00   \n",
              "39762  1305                           NaN  2021-02-03 23:58:58+00:00   \n",
              "39763  5192                Doylestown, PA  2021-02-03 23:59:01+00:00   \n",
              "39764  3607         Upstate New York, USA  2021-02-07 04:04:45+00:00   \n",
              "39765  1797                        Nevada  2021-02-03 23:58:34+00:00   \n",
              "\n",
              "                                                    text    class  \n",
              "0      RT @maideeeni: I want to say a very big thank ...  anxiety  \n",
              "1      @AisYalcaE @clyrhck Done! I just need 320! Tha...   lonely  \n",
              "2                        @SAD_istfied I'm gonna cry /pos   stress  \n",
              "3      RT @JoshOfficial___: I need a consistent fuck ...  anxiety  \n",
              "4      RT @mikegolicjr: glad we're finally talking ab...   normal  \n",
              "...                                                  ...      ...  \n",
              "39761                      Im nervous ash to fly though   anxiety  \n",
              "39762  64E7B6DA :Battle ID\\nI need backup!\\nLvl 120 G...   lonely  \n",
              "39763  SNOW MUCH FUN writing about our snow days in @...  anxiety  \n",
              "39764  Very time sensitive. I'm trans and my roommate...  anxiety  \n",
              "39765       Oatmeal cream pie cheesecake?! \\nI need that   lonely  \n",
              "\n",
              "[39766 rows x 5 columns]"
            ],
            "text/html": [
              "\n",
              "  <div id=\"df-4b6123f7-54ce-4f3d-9769-d102f42425f2\">\n",
              "    <div class=\"colab-df-container\">\n",
              "      <div>\n",
              "<style scoped>\n",
              "    .dataframe tbody tr th:only-of-type {\n",
              "        vertical-align: middle;\n",
              "    }\n",
              "\n",
              "    .dataframe tbody tr th {\n",
              "        vertical-align: top;\n",
              "    }\n",
              "\n",
              "    .dataframe thead th {\n",
              "        text-align: right;\n",
              "    }\n",
              "</style>\n",
              "<table border=\"1\" class=\"dataframe\">\n",
              "  <thead>\n",
              "    <tr style=\"text-align: right;\">\n",
              "      <th></th>\n",
              "      <th>id</th>\n",
              "      <th>location</th>\n",
              "      <th>tweetcreatedts</th>\n",
              "      <th>text</th>\n",
              "      <th>class</th>\n",
              "    </tr>\n",
              "  </thead>\n",
              "  <tbody>\n",
              "    <tr>\n",
              "      <th>0</th>\n",
              "      <td>1039</td>\n",
              "      <td>the nationwood street</td>\n",
              "      <td>2021-02-08 19:07:40+00:00</td>\n",
              "      <td>RT @maideeeni: I want to say a very big thank ...</td>\n",
              "      <td>anxiety</td>\n",
              "    </tr>\n",
              "    <tr>\n",
              "      <th>1</th>\n",
              "      <td>1682</td>\n",
              "      <td>RH Waiting For Update Planet</td>\n",
              "      <td>2021-02-03 23:58:40+00:00</td>\n",
              "      <td>@AisYalcaE @clyrhck Done! I just need 320! Tha...</td>\n",
              "      <td>lonely</td>\n",
              "    </tr>\n",
              "    <tr>\n",
              "      <th>2</th>\n",
              "      <td>5275</td>\n",
              "      <td>Any pronouns ¡ GMT+8</td>\n",
              "      <td>2021-01-27 23:57:59+00:00</td>\n",
              "      <td>@SAD_istfied I'm gonna cry /pos</td>\n",
              "      <td>stress</td>\n",
              "    </tr>\n",
              "    <tr>\n",
              "      <th>3</th>\n",
              "      <td>6069</td>\n",
              "      <td>........</td>\n",
              "      <td>2021-02-03 23:58:23+00:00</td>\n",
              "      <td>RT @JoshOfficial___: I need a consistent fuck ...</td>\n",
              "      <td>anxiety</td>\n",
              "    </tr>\n",
              "    <tr>\n",
              "      <th>4</th>\n",
              "      <td>6087</td>\n",
              "      <td>St Louis, MO</td>\n",
              "      <td>2021-02-12 20:27:58+00:00</td>\n",
              "      <td>RT @mikegolicjr: glad we're finally talking ab...</td>\n",
              "      <td>normal</td>\n",
              "    </tr>\n",
              "    <tr>\n",
              "      <th>...</th>\n",
              "      <td>...</td>\n",
              "      <td>...</td>\n",
              "      <td>...</td>\n",
              "      <td>...</td>\n",
              "      <td>...</td>\n",
              "    </tr>\n",
              "    <tr>\n",
              "      <th>39761</th>\n",
              "      <td>7813</td>\n",
              "      <td>Charlotte, NC</td>\n",
              "      <td>2021-01-27 23:58:57+00:00</td>\n",
              "      <td>Im nervous ash to fly though</td>\n",
              "      <td>anxiety</td>\n",
              "    </tr>\n",
              "    <tr>\n",
              "      <th>39762</th>\n",
              "      <td>1305</td>\n",
              "      <td>NaN</td>\n",
              "      <td>2021-02-03 23:58:58+00:00</td>\n",
              "      <td>64E7B6DA :Battle ID\\nI need backup!\\nLvl 120 G...</td>\n",
              "      <td>lonely</td>\n",
              "    </tr>\n",
              "    <tr>\n",
              "      <th>39763</th>\n",
              "      <td>5192</td>\n",
              "      <td>Doylestown, PA</td>\n",
              "      <td>2021-02-03 23:59:01+00:00</td>\n",
              "      <td>SNOW MUCH FUN writing about our snow days in @...</td>\n",
              "      <td>anxiety</td>\n",
              "    </tr>\n",
              "    <tr>\n",
              "      <th>39764</th>\n",
              "      <td>3607</td>\n",
              "      <td>Upstate New York, USA</td>\n",
              "      <td>2021-02-07 04:04:45+00:00</td>\n",
              "      <td>Very time sensitive. I'm trans and my roommate...</td>\n",
              "      <td>anxiety</td>\n",
              "    </tr>\n",
              "    <tr>\n",
              "      <th>39765</th>\n",
              "      <td>1797</td>\n",
              "      <td>Nevada</td>\n",
              "      <td>2021-02-03 23:58:34+00:00</td>\n",
              "      <td>Oatmeal cream pie cheesecake?! \\nI need that</td>\n",
              "      <td>lonely</td>\n",
              "    </tr>\n",
              "  </tbody>\n",
              "</table>\n",
              "<p>39766 rows × 5 columns</p>\n",
              "</div>\n",
              "      <button class=\"colab-df-convert\" onclick=\"convertToInteractive('df-4b6123f7-54ce-4f3d-9769-d102f42425f2')\"\n",
              "              title=\"Convert this dataframe to an interactive table.\"\n",
              "              style=\"display:none;\">\n",
              "        \n",
              "  <svg xmlns=\"http://www.w3.org/2000/svg\" height=\"24px\"viewBox=\"0 0 24 24\"\n",
              "       width=\"24px\">\n",
              "    <path d=\"M0 0h24v24H0V0z\" fill=\"none\"/>\n",
              "    <path d=\"M18.56 5.44l.94 2.06.94-2.06 2.06-.94-2.06-.94-.94-2.06-.94 2.06-2.06.94zm-11 1L8.5 8.5l.94-2.06 2.06-.94-2.06-.94L8.5 2.5l-.94 2.06-2.06.94zm10 10l.94 2.06.94-2.06 2.06-.94-2.06-.94-.94-2.06-.94 2.06-2.06.94z\"/><path d=\"M17.41 7.96l-1.37-1.37c-.4-.4-.92-.59-1.43-.59-.52 0-1.04.2-1.43.59L10.3 9.45l-7.72 7.72c-.78.78-.78 2.05 0 2.83L4 21.41c.39.39.9.59 1.41.59.51 0 1.02-.2 1.41-.59l7.78-7.78 2.81-2.81c.8-.78.8-2.07 0-2.86zM5.41 20L4 18.59l7.72-7.72 1.47 1.35L5.41 20z\"/>\n",
              "  </svg>\n",
              "      </button>\n",
              "      \n",
              "  <style>\n",
              "    .colab-df-container {\n",
              "      display:flex;\n",
              "      flex-wrap:wrap;\n",
              "      gap: 12px;\n",
              "    }\n",
              "\n",
              "    .colab-df-convert {\n",
              "      background-color: #E8F0FE;\n",
              "      border: none;\n",
              "      border-radius: 50%;\n",
              "      cursor: pointer;\n",
              "      display: none;\n",
              "      fill: #1967D2;\n",
              "      height: 32px;\n",
              "      padding: 0 0 0 0;\n",
              "      width: 32px;\n",
              "    }\n",
              "\n",
              "    .colab-df-convert:hover {\n",
              "      background-color: #E2EBFA;\n",
              "      box-shadow: 0px 1px 2px rgba(60, 64, 67, 0.3), 0px 1px 3px 1px rgba(60, 64, 67, 0.15);\n",
              "      fill: #174EA6;\n",
              "    }\n",
              "\n",
              "    [theme=dark] .colab-df-convert {\n",
              "      background-color: #3B4455;\n",
              "      fill: #D2E3FC;\n",
              "    }\n",
              "\n",
              "    [theme=dark] .colab-df-convert:hover {\n",
              "      background-color: #434B5C;\n",
              "      box-shadow: 0px 1px 3px 1px rgba(0, 0, 0, 0.15);\n",
              "      filter: drop-shadow(0px 1px 2px rgba(0, 0, 0, 0.3));\n",
              "      fill: #FFFFFF;\n",
              "    }\n",
              "  </style>\n",
              "\n",
              "      <script>\n",
              "        const buttonEl =\n",
              "          document.querySelector('#df-4b6123f7-54ce-4f3d-9769-d102f42425f2 button.colab-df-convert');\n",
              "        buttonEl.style.display =\n",
              "          google.colab.kernel.accessAllowed ? 'block' : 'none';\n",
              "\n",
              "        async function convertToInteractive(key) {\n",
              "          const element = document.querySelector('#df-4b6123f7-54ce-4f3d-9769-d102f42425f2');\n",
              "          const dataTable =\n",
              "            await google.colab.kernel.invokeFunction('convertToInteractive',\n",
              "                                                     [key], {});\n",
              "          if (!dataTable) return;\n",
              "\n",
              "          const docLinkHtml = 'Like what you see? Visit the ' +\n",
              "            '<a target=\"_blank\" href=https://colab.research.google.com/notebooks/data_table.ipynb>data table notebook</a>'\n",
              "            + ' to learn more about interactive tables.';\n",
              "          element.innerHTML = '';\n",
              "          dataTable['output_type'] = 'display_data';\n",
              "          await google.colab.output.renderOutput(dataTable, element);\n",
              "          const docLink = document.createElement('div');\n",
              "          docLink.innerHTML = docLinkHtml;\n",
              "          element.appendChild(docLink);\n",
              "        }\n",
              "      </script>\n",
              "    </div>\n",
              "  </div>\n",
              "  "
            ]
          },
          "metadata": {},
          "execution_count": 73
        }
      ]
    },
    {
      "cell_type": "code",
      "source": [
        "from datetime import datetime\n",
        "import matplotlib.pyplot as plt\n",
        "import seaborn as sns\n",
        "import seaborn as sns\n",
        "%matplotlib inline"
      ],
      "metadata": {
        "id": "EWUf68sPzmV6"
      },
      "execution_count": null,
      "outputs": []
    },
    {
      "cell_type": "code",
      "source": [
        "data.isna().sum()"
      ],
      "metadata": {
        "colab": {
          "base_uri": "https://localhost:8080/"
        },
        "id": "upQnyH9rZD9o",
        "outputId": "68f93e33-2d9f-4ba0-b7d7-ff350a8f78ed"
      },
      "execution_count": null,
      "outputs": [
        {
          "output_type": "execute_result",
          "data": {
            "text/plain": [
              "id                    0\n",
              "location          13084\n",
              "tweetcreatedts        0\n",
              "text                  0\n",
              "class                 0\n",
              "dtype: int64"
            ]
          },
          "metadata": {},
          "execution_count": 75
        }
      ]
    },
    {
      "cell_type": "code",
      "source": [
        "plt.figure(figsize=(10,6))\n",
        "sns.heatmap(data.isna(),\n",
        "            cmap=\"YlGnBu\",\n",
        "            cbar_kws={'label': 'Missing Data'})\n",
        "plt.savefig(\"visualizing_missing_data_with_heatmap_Seaborn_Python.png\", dpi=100)"
      ],
      "metadata": {
        "colab": {
          "base_uri": "https://localhost:8080/",
          "height": 379
        },
        "id": "gKYgG6y4li05",
        "outputId": "81ccaab1-8c6a-42a2-ed09-98e0adb332f9"
      },
      "execution_count": null,
      "outputs": [
        {
          "output_type": "display_data",
          "data": {
            "text/plain": [
              "<Figure size 720x432 with 2 Axes>"
            ],
            "image/png": "[encoded data removed]"
          },
          "metadata": {
            "needs_background": "light"
          }
        }
      ]
    },
    {
      "cell_type": "code",
      "source": [
        "data.duplicated().sum()"
      ],
      "metadata": {
        "colab": {
          "base_uri": "https://localhost:8080/"
        },
        "id": "QfkISNvGoerc",
        "outputId": "bd66bebf-bb62-428c-a717-a6429f55ed88"
      },
      "execution_count": null,
      "outputs": [
        {
          "output_type": "execute_result",
          "data": {
            "text/plain": [
              "0"
            ]
          },
          "metadata": {},
          "execution_count": 77
        }
      ]
    },
    {
      "cell_type": "code",
      "source": [
        "data['location']=data['location'].fillna('other')\n"
      ],
      "metadata": {
        "id": "GFdiCndwZI2h"
      },
      "execution_count": null,
      "outputs": []
    },
    {
      "cell_type": "code",
      "source": [
        "# pd.set_option('display.max_rows', None)\n",
        "data['location'].value_counts()\n"
      ],
      "metadata": {
        "colab": {
          "base_uri": "https://localhost:8080/"
        },
        "id": "zWDNkvJaZooT",
        "outputId": "f046fdb8-1595-468a-d562-9fa3c6a0b308"
      },
      "execution_count": null,
      "outputs": [
        {
          "output_type": "execute_result",
          "data": {
            "text/plain": [
              "other                     13084\n",
              "United States               330\n",
              "she/her                     296\n",
              "Los Angeles, CA             211\n",
              "California, USA             191\n",
              "                          ...  \n",
              "Great Tomb of Nazarick        1\n",
              "Northumberland, UK            1\n",
              "6.2758° N, 7.0068° E          1\n",
              "permanent vacation            1\n",
              "Doylestown, PA                1\n",
              "Name: location, Length: 11404, dtype: int64"
            ]
          },
          "metadata": {},
          "execution_count": 79
        }
      ]
    },
    {
      "cell_type": "code",
      "source": [
        "x =data[data['location']=='United States']['class'].value_counts()\n",
        "\n",
        "x\n"
      ],
      "metadata": {
        "colab": {
          "base_uri": "https://localhost:8080/"
        },
        "id": "2uUDPtbkgImD",
        "outputId": "3c303629-d785-4f31-f7b3-ebce23f64d0e"
      },
      "execution_count": null,
      "outputs": [
        {
          "output_type": "execute_result",
          "data": {
            "text/plain": [
              "anxiety    106\n",
              "normal      80\n",
              "stress      75\n",
              "lonely      69\n",
              "Name: class, dtype: int64"
            ]
          },
          "metadata": {},
          "execution_count": 80
        }
      ]
    },
    {
      "cell_type": "code",
      "source": [
        "# top five country that have mental health problem\n",
        "data.drop(data[(data['location'] =='other') | (data['location'] == 'she/her')].index, inplace=True)\n",
        "\n",
        "count=data[['location','class']].groupby(['class'])\n",
        "fre=count['location'].value_counts()\n",
        "tt=fre.reset_index(name='count')\n",
        "tt=tt.sort_values(by='count',ascending=False).head(13)\n",
        "plt.figure(figsize=(15,15))\n",
        "sns.barplot(x=tt['location'], y=tt['count'],hue=tt['class'])\n",
        "plt.savefig(\"distribution of classes over the most top countries have mental health problems.png\", dpi=100)\n"
      ],
      "metadata": {
        "colab": {
          "base_uri": "https://localhost:8080/",
          "height": 877
        },
        "id": "jlSX0RB49G1D",
        "outputId": "f55aeb91-5787-4367-fed8-de31b4c7af97"
      },
      "execution_count": null,
      "outputs": [
        {
          "output_type": "display_data",
          "data": {
            "text/plain": [
              "<Figure size 1080x1080 with 1 Axes>"
            ],
            "image/png": "[encoded data removed]"
          },
          "metadata": {
            "needs_background": "light"
          }
        }
      ]
    },
    {
      "cell_type": "code",
      "source": [
        "plt.figure()\n",
        "ax =data[data['location']=='United States']['class'].value_counts().plot(kind='bar')\n",
        "ax.set_title('Class Distribution Over United States')\n",
        "ax.set_xlabel('Class')\n",
        "ax.set_ylabel('Frequency')\n",
        "\n",
        "plt.tight_layout()\n",
        "plt.show()\n"
      ],
      "metadata": {
        "colab": {
          "base_uri": "https://localhost:8080/",
          "height": 297
        },
        "id": "_0LFifwxipnx",
        "outputId": "0cef956b-bfbb-4db9-d58a-76cffd1147d3"
      },
      "execution_count": null,
      "outputs": [
        {
          "output_type": "display_data",
          "data": {
            "text/plain": [
              "<Figure size 432x288 with 1 Axes>"
            ],
            "image/png": "[encoded data removed]"
          },
          "metadata": {
            "needs_background": "light"
          }
        }
      ]
    },
    {
      "cell_type": "code",
      "source": [
        "data['location'].isna().sum()"
      ],
      "metadata": {
        "colab": {
          "base_uri": "https://localhost:8080/"
        },
        "id": "7LFVyPVc-omR",
        "outputId": "9df7bdaf-3626-4dd2-e455-4b7fd5ba5eab"
      },
      "execution_count": null,
      "outputs": [
        {
          "output_type": "execute_result",
          "data": {
            "text/plain": [
              "0"
            ]
          },
          "metadata": {},
          "execution_count": 83
        }
      ]
    },
    {
      "cell_type": "code",
      "source": [
        "data['tweetcreatedts'].dtypes"
      ],
      "metadata": {
        "colab": {
          "base_uri": "https://localhost:8080/"
        },
        "id": "DnPdFZztWZGO",
        "outputId": "0f06daf2-41cb-4d22-c6c8-ec8f9e4d69f5"
      },
      "execution_count": null,
      "outputs": [
        {
          "output_type": "execute_result",
          "data": {
            "text/plain": [
              "dtype('O')"
            ]
          },
          "metadata": {},
          "execution_count": 84
        }
      ]
    },
    {
      "cell_type": "code",
      "source": [
        "data['tweetcreatedts']=pd.to_datetime(data['tweetcreatedts'], format=\"%Y/%m/%d\")"
      ],
      "metadata": {
        "id": "DV_Q69U-W7ro"
      },
      "execution_count": null,
      "outputs": []
    },
    {
      "cell_type": "code",
      "source": [
        "data['tweetcreatedts']"
      ],
      "metadata": {
        "colab": {
          "base_uri": "https://localhost:8080/"
        },
        "id": "Qsg4oyo1XAX2",
        "outputId": "ab84ddc0-0f92-40e2-e2ce-e40c0981210a"
      },
      "execution_count": null,
      "outputs": [
        {
          "output_type": "execute_result",
          "data": {
            "text/plain": [
              "0       2021-02-08 19:07:40+00:00\n",
              "1       2021-02-03 23:58:40+00:00\n",
              "2       2021-01-27 23:57:59+00:00\n",
              "3       2021-02-03 23:58:23+00:00\n",
              "4       2021-02-12 20:27:58+00:00\n",
              "                   ...           \n",
              "39760   2021-02-12 20:46:01+00:00\n",
              "39761   2021-01-27 23:58:57+00:00\n",
              "39763   2021-02-03 23:59:01+00:00\n",
              "39764   2021-02-07 04:04:45+00:00\n",
              "39765   2021-02-03 23:58:34+00:00\n",
              "Name: tweetcreatedts, Length: 26386, dtype: datetime64[ns, UTC]"
            ]
          },
          "metadata": {},
          "execution_count": 86
        }
      ]
    },
    {
      "cell_type": "code",
      "source": [
        "data['Year'] =data['tweetcreatedts'].dt.year\n",
        "data['Month'] = data['tweetcreatedts'].dt.month\n",
        "data['Day'] = data['tweetcreatedts'].dt.day"
      ],
      "metadata": {
        "id": "-COSvBKzX0yP"
      },
      "execution_count": null,
      "outputs": []
    },
    {
      "cell_type": "code",
      "source": [
        "data['Week_Number'] = data['tweetcreatedts'].dt.isocalendar().week\n",
        "data['day_name']=data['tweetcreatedts'].dt.day_name()\n",
        "data"
      ],
      "metadata": {
        "id": "DH3ir4I8Y5AG",
        "colab": {
          "base_uri": "https://localhost:8080/",
          "height": 641
        },
        "outputId": "231aa89b-ecdf-497c-9537-352025adcfbc"
      },
      "execution_count": null,
      "outputs": [
        {
          "output_type": "execute_result",
          "data": {
            "text/plain": [
              "         id                      location            tweetcreatedts  \\\n",
              "0      1039        the nationwood street  2021-02-08 19:07:40+00:00   \n",
              "1      1682  RH Waiting For Update Planet 2021-02-03 23:58:40+00:00   \n",
              "2      5275          Any pronouns ¡ GMT+8 2021-01-27 23:57:59+00:00   \n",
              "3      6069                      ........ 2021-02-03 23:58:23+00:00   \n",
              "4      6087                  St Louis, MO 2021-02-12 20:27:58+00:00   \n",
              "...     ...                           ...                       ...   \n",
              "39760  8855                      hogwarts 2021-02-12 20:46:01+00:00   \n",
              "39761  7813                 Charlotte, NC 2021-01-27 23:58:57+00:00   \n",
              "39763  5192                Doylestown, PA 2021-02-03 23:59:01+00:00   \n",
              "39764  3607         Upstate New York, USA 2021-02-07 04:04:45+00:00   \n",
              "39765  1797                        Nevada 2021-02-03 23:58:34+00:00   \n",
              "\n",
              "                                                    text    class  Year  \\\n",
              "0      RT @maideeeni: I want to say a very big thank ...  anxiety  2021   \n",
              "1      @AisYalcaE @clyrhck Done! I just need 320! Tha...   lonely  2021   \n",
              "2                        @SAD_istfied I'm gonna cry /pos   stress  2021   \n",
              "3      RT @JoshOfficial___: I need a consistent fuck ...  anxiety  2021   \n",
              "4      RT @mikegolicjr: glad we're finally talking ab...   normal  2021   \n",
              "...                                                  ...      ...   ...   \n",
              "39760  RT @threenxq: The Korean light is so cheating ...   normal  2021   \n",
              "39761                      Im nervous ash to fly though   anxiety  2021   \n",
              "39763  SNOW MUCH FUN writing about our snow days in @...  anxiety  2021   \n",
              "39764  Very time sensitive. I'm trans and my roommate...  anxiety  2021   \n",
              "39765       Oatmeal cream pie cheesecake?! \\nI need that   lonely  2021   \n",
              "\n",
              "       Month  Day  Week_Number   day_name  \n",
              "0          2    8            6     Monday  \n",
              "1          2    3            5  Wednesday  \n",
              "2          1   27            4  Wednesday  \n",
              "3          2    3            5  Wednesday  \n",
              "4          2   12            6     Friday  \n",
              "...      ...  ...          ...        ...  \n",
              "39760      2   12            6     Friday  \n",
              "39761      1   27            4  Wednesday  \n",
              "39763      2    3            5  Wednesday  \n",
              "39764      2    7            5     Sunday  \n",
              "39765      2    3            5  Wednesday  \n",
              "\n",
              "[26386 rows x 10 columns]"
            ],
            "text/html": [
              "\n",
              "  <div id=\"df-7b660d34-3504-481b-9648-e1ebc3dd01ba\">\n",
              "    <div class=\"colab-df-container\">\n",
              "      <div>\n",
              "<style scoped>\n",
              "    .dataframe tbody tr th:only-of-type {\n",
              "        vertical-align: middle;\n",
              "    }\n",
              "\n",
              "    .dataframe tbody tr th {\n",
              "        vertical-align: top;\n",
              "    }\n",
              "\n",
              "    .dataframe thead th {\n",
              "        text-align: right;\n",
              "    }\n",
              "</style>\n",
              "<table border=\"1\" class=\"dataframe\">\n",
              "  <thead>\n",
              "    <tr style=\"text-align: right;\">\n",
              "      <th></th>\n",
              "      <th>id</th>\n",
              "      <th>location</th>\n",
              "      <th>tweetcreatedts</th>\n",
              "      <th>text</th>\n",
              "      <th>class</th>\n",
              "      <th>Year</th>\n",
              "      <th>Month</th>\n",
              "      <th>Day</th>\n",
              "      <th>Week_Number</th>\n",
              "      <th>day_name</th>\n",
              "    </tr>\n",
              "  </thead>\n",
              "  <tbody>\n",
              "    <tr>\n",
              "      <th>0</th>\n",
              "      <td>1039</td>\n",
              "      <td>the nationwood street</td>\n",
              "      <td>2021-02-08 19:07:40+00:00</td>\n",
              "      <td>RT @maideeeni: I want to say a very big thank ...</td>\n",
              "      <td>anxiety</td>\n",
              "      <td>2021</td>\n",
              "      <td>2</td>\n",
              "      <td>8</td>\n",
              "      <td>6</td>\n",
              "      <td>Monday</td>\n",
              "    </tr>\n",
              "    <tr>\n",
              "      <th>1</th>\n",
              "      <td>1682</td>\n",
              "      <td>RH Waiting For Update Planet</td>\n",
              "      <td>2021-02-03 23:58:40+00:00</td>\n",
              "      <td>@AisYalcaE @clyrhck Done! I just need 320! Tha...</td>\n",
              "      <td>lonely</td>\n",
              "      <td>2021</td>\n",
              "      <td>2</td>\n",
              "      <td>3</td>\n",
              "      <td>5</td>\n",
              "      <td>Wednesday</td>\n",
              "    </tr>\n",
              "    <tr>\n",
              "      <th>2</th>\n",
              "      <td>5275</td>\n",
              "      <td>Any pronouns ¡ GMT+8</td>\n",
              "      <td>2021-01-27 23:57:59+00:00</td>\n",
              "      <td>@SAD_istfied I'm gonna cry /pos</td>\n",
              "      <td>stress</td>\n",
              "      <td>2021</td>\n",
              "      <td>1</td>\n",
              "      <td>27</td>\n",
              "      <td>4</td>\n",
              "      <td>Wednesday</td>\n",
              "    </tr>\n",
              "    <tr>\n",
              "      <th>3</th>\n",
              "      <td>6069</td>\n",
              "      <td>........</td>\n",
              "      <td>2021-02-03 23:58:23+00:00</td>\n",
              "      <td>RT @JoshOfficial___: I need a consistent fuck ...</td>\n",
              "      <td>anxiety</td>\n",
              "      <td>2021</td>\n",
              "      <td>2</td>\n",
              "      <td>3</td>\n",
              "      <td>5</td>\n",
              "      <td>Wednesday</td>\n",
              "    </tr>\n",
              "    <tr>\n",
              "      <th>4</th>\n",
              "      <td>6087</td>\n",
              "      <td>St Louis, MO</td>\n",
              "      <td>2021-02-12 20:27:58+00:00</td>\n",
              "      <td>RT @mikegolicjr: glad we're finally talking ab...</td>\n",
              "      <td>normal</td>\n",
              "      <td>2021</td>\n",
              "      <td>2</td>\n",
              "      <td>12</td>\n",
              "      <td>6</td>\n",
              "      <td>Friday</td>\n",
              "    </tr>\n",
              "    <tr>\n",
              "      <th>...</th>\n",
              "      <td>...</td>\n",
              "      <td>...</td>\n",
              "      <td>...</td>\n",
              "      <td>...</td>\n",
              "      <td>...</td>\n",
              "      <td>...</td>\n",
              "      <td>...</td>\n",
              "      <td>...</td>\n",
              "      <td>...</td>\n",
              "      <td>...</td>\n",
              "    </tr>\n",
              "    <tr>\n",
              "      <th>39760</th>\n",
              "      <td>8855</td>\n",
              "      <td>hogwarts</td>\n",
              "      <td>2021-02-12 20:46:01+00:00</td>\n",
              "      <td>RT @threenxq: The Korean light is so cheating ...</td>\n",
              "      <td>normal</td>\n",
              "      <td>2021</td>\n",
              "      <td>2</td>\n",
              "      <td>12</td>\n",
              "      <td>6</td>\n",
              "      <td>Friday</td>\n",
              "    </tr>\n",
              "    <tr>\n",
              "      <th>39761</th>\n",
              "      <td>7813</td>\n",
              "      <td>Charlotte, NC</td>\n",
              "      <td>2021-01-27 23:58:57+00:00</td>\n",
              "      <td>Im nervous ash to fly though</td>\n",
              "      <td>anxiety</td>\n",
              "      <td>2021</td>\n",
              "      <td>1</td>\n",
              "      <td>27</td>\n",
              "      <td>4</td>\n",
              "      <td>Wednesday</td>\n",
              "    </tr>\n",
              "    <tr>\n",
              "      <th>39763</th>\n",
              "      <td>5192</td>\n",
              "      <td>Doylestown, PA</td>\n",
              "      <td>2021-02-03 23:59:01+00:00</td>\n",
              "      <td>SNOW MUCH FUN writing about our snow days in @...</td>\n",
              "      <td>anxiety</td>\n",
              "      <td>2021</td>\n",
              "      <td>2</td>\n",
              "      <td>3</td>\n",
              "      <td>5</td>\n",
              "      <td>Wednesday</td>\n",
              "    </tr>\n",
              "    <tr>\n",
              "      <th>39764</th>\n",
              "      <td>3607</td>\n",
              "      <td>Upstate New York, USA</td>\n",
              "      <td>2021-02-07 04:04:45+00:00</td>\n",
              "      <td>Very time sensitive. I'm trans and my roommate...</td>\n",
              "      <td>anxiety</td>\n",
              "      <td>2021</td>\n",
              "      <td>2</td>\n",
              "      <td>7</td>\n",
              "      <td>5</td>\n",
              "      <td>Sunday</td>\n",
              "    </tr>\n",
              "    <tr>\n",
              "      <th>39765</th>\n",
              "      <td>1797</td>\n",
              "      <td>Nevada</td>\n",
              "      <td>2021-02-03 23:58:34+00:00</td>\n",
              "      <td>Oatmeal cream pie cheesecake?! \\nI need that</td>\n",
              "      <td>lonely</td>\n",
              "      <td>2021</td>\n",
              "      <td>2</td>\n",
              "      <td>3</td>\n",
              "      <td>5</td>\n",
              "      <td>Wednesday</td>\n",
              "    </tr>\n",
              "  </tbody>\n",
              "</table>\n",
              "<p>26386 rows × 10 columns</p>\n",
              "</div>\n",
              "      <button class=\"colab-df-convert\" onclick=\"convertToInteractive('df-7b660d34-3504-481b-9648-e1ebc3dd01ba')\"\n",
              "              title=\"Convert this dataframe to an interactive table.\"\n",
              "              style=\"display:none;\">\n",
              "        \n",
              "  <svg xmlns=\"http://www.w3.org/2000/svg\" height=\"24px\"viewBox=\"0 0 24 24\"\n",
              "       width=\"24px\">\n",
              "    <path d=\"M0 0h24v24H0V0z\" fill=\"none\"/>\n",
              "    <path d=\"M18.56 5.44l.94 2.06.94-2.06 2.06-.94-2.06-.94-.94-2.06-.94 2.06-2.06.94zm-11 1L8.5 8.5l.94-2.06 2.06-.94-2.06-.94L8.5 2.5l-.94 2.06-2.06.94zm10 10l.94 2.06.94-2.06 2.06-.94-2.06-.94-.94-2.06-.94 2.06-2.06.94z\"/><path d=\"M17.41 7.96l-1.37-1.37c-.4-.4-.92-.59-1.43-.59-.52 0-1.04.2-1.43.59L10.3 9.45l-7.72 7.72c-.78.78-.78 2.05 0 2.83L4 21.41c.39.39.9.59 1.41.59.51 0 1.02-.2 1.41-.59l7.78-7.78 2.81-2.81c.8-.78.8-2.07 0-2.86zM5.41 20L4 18.59l7.72-7.72 1.47 1.35L5.41 20z\"/>\n",
              "  </svg>\n",
              "      </button>\n",
              "      \n",
              "  <style>\n",
              "    .colab-df-container {\n",
              "      display:flex;\n",
              "      flex-wrap:wrap;\n",
              "      gap: 12px;\n",
              "    }\n",
              "\n",
              "    .colab-df-convert {\n",
              "      background-color: #E8F0FE;\n",
              "      border: none;\n",
              "      border-radius: 50%;\n",
              "      cursor: pointer;\n",
              "      display: none;\n",
              "      fill: #1967D2;\n",
              "      height: 32px;\n",
              "      padding: 0 0 0 0;\n",
              "      width: 32px;\n",
              "    }\n",
              "\n",
              "    .colab-df-convert:hover {\n",
              "      background-color: #E2EBFA;\n",
              "      box-shadow: 0px 1px 2px rgba(60, 64, 67, 0.3), 0px 1px 3px 1px rgba(60, 64, 67, 0.15);\n",
              "      fill: #174EA6;\n",
              "    }\n",
              "\n",
              "    [theme=dark] .colab-df-convert {\n",
              "      background-color: #3B4455;\n",
              "      fill: #D2E3FC;\n",
              "    }\n",
              "\n",
              "    [theme=dark] .colab-df-convert:hover {\n",
              "      background-color: #434B5C;\n",
              "      box-shadow: 0px 1px 3px 1px rgba(0, 0, 0, 0.15);\n",
              "      filter: drop-shadow(0px 1px 2px rgba(0, 0, 0, 0.3));\n",
              "      fill: #FFFFFF;\n",
              "    }\n",
              "  </style>\n",
              "\n",
              "      <script>\n",
              "        const buttonEl =\n",
              "          document.querySelector('#df-7b660d34-3504-481b-9648-e1ebc3dd01ba button.colab-df-convert');\n",
              "        buttonEl.style.display =\n",
              "          google.colab.kernel.accessAllowed ? 'block' : 'none';\n",
              "\n",
              "        async function convertToInteractive(key) {\n",
              "          const element = document.querySelector('#df-7b660d34-3504-481b-9648-e1ebc3dd01ba');\n",
              "          const dataTable =\n",
              "            await google.colab.kernel.invokeFunction('convertToInteractive',\n",
              "                                                     [key], {});\n",
              "          if (!dataTable) return;\n",
              "\n",
              "          const docLinkHtml = 'Like what you see? Visit the ' +\n",
              "            '<a target=\"_blank\" href=https://colab.research.google.com/notebooks/data_table.ipynb>data table notebook</a>'\n",
              "            + ' to learn more about interactive tables.';\n",
              "          element.innerHTML = '';\n",
              "          dataTable['output_type'] = 'display_data';\n",
              "          await google.colab.output.renderOutput(dataTable, element);\n",
              "          const docLink = document.createElement('div');\n",
              "          docLink.innerHTML = docLinkHtml;\n",
              "          element.appendChild(docLink);\n",
              "        }\n",
              "      </script>\n",
              "    </div>\n",
              "  </div>\n",
              "  "
            ]
          },
          "metadata": {},
          "execution_count": 88
        }
      ]
    },
    {
      "cell_type": "code",
      "source": [
        "week=data[['day_name','class']].groupby(['day_name'])\n",
        "new=week['class'].value_counts()\n",
        "cc=new.reset_index(name='count')\n",
        "plt.figure(figsize=(15,15))\n",
        "sns.barplot(x=cc['day_name'], y=cc['count'],hue=cc['class'])\n",
        "\n",
        "plt.savefig(\"distribution of classes over day of the week .png\", dpi=100)"
      ],
      "metadata": {
        "colab": {
          "base_uri": "https://localhost:8080/",
          "height": 878
        },
        "id": "XcClxMVMXuo9",
        "outputId": "149a81de-d4d9-48fa-8dac-b24580915c4a"
      },
      "execution_count": null,
      "outputs": [
        {
          "output_type": "display_data",
          "data": {
            "text/plain": [
              "<Figure size 1080x1080 with 1 Axes>"
            ],
            "image/png": "[encoded data removed]"
          },
          "metadata": {
            "needs_background": "light"
          }
        }
      ]
    }
  ]
}